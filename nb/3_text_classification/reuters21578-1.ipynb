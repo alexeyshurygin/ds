{
 "cells": [
  {
   "cell_type": "code",
   "execution_count": 39,
   "metadata": {},
   "outputs": [],
   "source": [
    "import pandas as pd\n",
    "\n",
    "import numpy as np\n",
    "import matplotlib.pyplot as plt\n",
    "\n",
    "import sys\n",
    "\n",
    "import re\n",
    "from pprint import pprint\n",
    "from scipy import interp\n",
    "from scipy import sparse\n",
    "from itertools import cycle\n",
    "\n",
    "import time\n",
    "\n",
    "from nltk.corpus import stopwords\n",
    "\n",
    "from nltk.stem.porter import *\n",
    "from nltk.stem.lancaster import *\n",
    "from nltk.stem.wordnet import *\n",
    "\n",
    "from sklearn.model_selection import train_test_split\n",
    "\n",
    "from sklearn.feature_extraction.text import TfidfVectorizer, CountVectorizer\n",
    "from sklearn.preprocessing import label_binarize\n",
    "from sklearn.preprocessing import MultiLabelBinarizer\n",
    "\n",
    "from sklearn.multiclass import OneVsRestClassifier\n",
    "from sklearn.linear_model import LogisticRegression\n",
    "from sklearn.linear_model import SGDClassifier\n",
    "from sklearn.linear_model import PassiveAggressiveClassifier\n",
    "from sklearn.linear_model import Perceptron\n",
    "from sklearn.naive_bayes import MultinomialNB\n",
    "from sklearn.neural_network import MLPClassifier\n",
    "from sklearn.neighbors import KNeighborsClassifier\n",
    "from sklearn.svm import SVC\n",
    "from sklearn.gaussian_process.kernels import RBF\n",
    "from sklearn.tree import DecisionTreeClassifier\n",
    "from sklearn.ensemble import RandomForestClassifier\n",
    "from sklearn.naive_bayes import GaussianNB\n",
    "\n",
    "from sklearn.metrics import accuracy_score\n",
    "from sklearn.metrics import f1_score\n",
    "from sklearn.metrics import roc_auc_score \n",
    "from sklearn.metrics import average_precision_score\n",
    "from sklearn.metrics import recall_score\n",
    "from sklearn.metrics import roc_curve, auc"
   ]
  },
  {
   "cell_type": "code",
   "execution_count": 29,
   "metadata": {},
   "outputs": [],
   "source": [
    "random_state = 7"
   ]
  },
  {
   "cell_type": "markdown",
   "metadata": {},
   "source": [
    "# Load Data"
   ]
  },
  {
   "cell_type": "code",
   "execution_count": 4,
   "metadata": {},
   "outputs": [],
   "source": [
    "reuters_path = '~/dev/rtc/data/text/reuters21578'"
   ]
  },
  {
   "cell_type": "code",
   "execution_count": 5,
   "metadata": {},
   "outputs": [],
   "source": [
    "# https://raw.githubusercontent.com/ZhibingChen/DM-Reuters21578/master/reutersCSV.csv\n",
    "csv_df = pd.read_csv(reuters_path + '/reutersCSV.csv', encoding='iso-8859-1', keep_default_na=False)"
   ]
  },
  {
   "cell_type": "code",
   "execution_count": 6,
   "metadata": {},
   "outputs": [
    {
     "data": {
      "text/html": [
       "<div>\n",
       "<style scoped>\n",
       "    .dataframe tbody tr th:only-of-type {\n",
       "        vertical-align: middle;\n",
       "    }\n",
       "\n",
       "    .dataframe tbody tr th {\n",
       "        vertical-align: top;\n",
       "    }\n",
       "\n",
       "    .dataframe thead th {\n",
       "        text-align: right;\n",
       "    }\n",
       "</style>\n",
       "<table border=\"1\" class=\"dataframe\">\n",
       "  <thead>\n",
       "    <tr style=\"text-align: right;\">\n",
       "      <th></th>\n",
       "      <th>pid</th>\n",
       "      <th>fileName</th>\n",
       "      <th>purpose</th>\n",
       "      <th>topic.acq</th>\n",
       "      <th>topic.alum</th>\n",
       "      <th>topic.austdlr</th>\n",
       "      <th>topic.austral</th>\n",
       "      <th>topic.barley</th>\n",
       "      <th>topic.bfr</th>\n",
       "      <th>topic.bop</th>\n",
       "      <th>...</th>\n",
       "      <th>topic.tung</th>\n",
       "      <th>topic.tung.oil</th>\n",
       "      <th>topic.veg.oil</th>\n",
       "      <th>topic.wheat</th>\n",
       "      <th>topic.wool</th>\n",
       "      <th>topic.wpi</th>\n",
       "      <th>topic.yen</th>\n",
       "      <th>topic.zinc</th>\n",
       "      <th>doc.title</th>\n",
       "      <th>doc.text</th>\n",
       "    </tr>\n",
       "  </thead>\n",
       "  <tbody>\n",
       "    <tr>\n",
       "      <th>0</th>\n",
       "      <td>1</td>\n",
       "      <td>0</td>\n",
       "      <td>train</td>\n",
       "      <td>0</td>\n",
       "      <td>0</td>\n",
       "      <td>0</td>\n",
       "      <td>0</td>\n",
       "      <td>0</td>\n",
       "      <td>0</td>\n",
       "      <td>0</td>\n",
       "      <td>...</td>\n",
       "      <td>0</td>\n",
       "      <td>0</td>\n",
       "      <td>0</td>\n",
       "      <td>0</td>\n",
       "      <td>0</td>\n",
       "      <td>0</td>\n",
       "      <td>0</td>\n",
       "      <td>0</td>\n",
       "      <td>BAHIA COCOA REVIEW</td>\n",
       "      <td>Showers continued throughout the week in the B...</td>\n",
       "    </tr>\n",
       "    <tr>\n",
       "      <th>1</th>\n",
       "      <td>2</td>\n",
       "      <td>0</td>\n",
       "      <td>train</td>\n",
       "      <td>0</td>\n",
       "      <td>0</td>\n",
       "      <td>0</td>\n",
       "      <td>0</td>\n",
       "      <td>0</td>\n",
       "      <td>0</td>\n",
       "      <td>0</td>\n",
       "      <td>...</td>\n",
       "      <td>0</td>\n",
       "      <td>0</td>\n",
       "      <td>0</td>\n",
       "      <td>0</td>\n",
       "      <td>0</td>\n",
       "      <td>0</td>\n",
       "      <td>0</td>\n",
       "      <td>0</td>\n",
       "      <td>STANDARD OIL &amp;lt;SRD&gt; TO FORM FINANCIAL UNIT</td>\n",
       "      <td>Standard Oil Co and BP North America Inc said ...</td>\n",
       "    </tr>\n",
       "    <tr>\n",
       "      <th>2</th>\n",
       "      <td>3</td>\n",
       "      <td>0</td>\n",
       "      <td>train</td>\n",
       "      <td>0</td>\n",
       "      <td>0</td>\n",
       "      <td>0</td>\n",
       "      <td>0</td>\n",
       "      <td>0</td>\n",
       "      <td>0</td>\n",
       "      <td>0</td>\n",
       "      <td>...</td>\n",
       "      <td>0</td>\n",
       "      <td>0</td>\n",
       "      <td>0</td>\n",
       "      <td>0</td>\n",
       "      <td>0</td>\n",
       "      <td>0</td>\n",
       "      <td>0</td>\n",
       "      <td>0</td>\n",
       "      <td>TEXAS COMMERCE BANCSHARES &amp;lt;TCB&gt; FILES PLAN</td>\n",
       "      <td>Texas Commerce Bancshares Inc's Texas Commerce...</td>\n",
       "    </tr>\n",
       "    <tr>\n",
       "      <th>3</th>\n",
       "      <td>4</td>\n",
       "      <td>0</td>\n",
       "      <td>train</td>\n",
       "      <td>0</td>\n",
       "      <td>0</td>\n",
       "      <td>0</td>\n",
       "      <td>0</td>\n",
       "      <td>0</td>\n",
       "      <td>0</td>\n",
       "      <td>0</td>\n",
       "      <td>...</td>\n",
       "      <td>0</td>\n",
       "      <td>0</td>\n",
       "      <td>0</td>\n",
       "      <td>0</td>\n",
       "      <td>0</td>\n",
       "      <td>0</td>\n",
       "      <td>0</td>\n",
       "      <td>0</td>\n",
       "      <td>TALKING POINT/BANKAMERICA &amp;lt;BAC&gt; EQUITY OFFER</td>\n",
       "      <td>BankAmerica Corp is not under pressure to act ...</td>\n",
       "    </tr>\n",
       "    <tr>\n",
       "      <th>4</th>\n",
       "      <td>5</td>\n",
       "      <td>0</td>\n",
       "      <td>train</td>\n",
       "      <td>0</td>\n",
       "      <td>0</td>\n",
       "      <td>0</td>\n",
       "      <td>0</td>\n",
       "      <td>1</td>\n",
       "      <td>0</td>\n",
       "      <td>0</td>\n",
       "      <td>...</td>\n",
       "      <td>0</td>\n",
       "      <td>0</td>\n",
       "      <td>0</td>\n",
       "      <td>1</td>\n",
       "      <td>0</td>\n",
       "      <td>0</td>\n",
       "      <td>0</td>\n",
       "      <td>0</td>\n",
       "      <td>NATIONAL AVERAGE PRICES FOR FARMER-OWNED RESERVE</td>\n",
       "      <td>The U.S. Agriculture Department reported the f...</td>\n",
       "    </tr>\n",
       "  </tbody>\n",
       "</table>\n",
       "<p>5 rows × 140 columns</p>\n",
       "</div>"
      ],
      "text/plain": [
       "   pid  fileName purpose  topic.acq  topic.alum  topic.austdlr  topic.austral  \\\n",
       "0    1         0   train          0           0              0              0   \n",
       "1    2         0   train          0           0              0              0   \n",
       "2    3         0   train          0           0              0              0   \n",
       "3    4         0   train          0           0              0              0   \n",
       "4    5         0   train          0           0              0              0   \n",
       "\n",
       "   topic.barley  topic.bfr  topic.bop  \\\n",
       "0             0          0          0   \n",
       "1             0          0          0   \n",
       "2             0          0          0   \n",
       "3             0          0          0   \n",
       "4             1          0          0   \n",
       "\n",
       "                         ...                          topic.tung  \\\n",
       "0                        ...                                   0   \n",
       "1                        ...                                   0   \n",
       "2                        ...                                   0   \n",
       "3                        ...                                   0   \n",
       "4                        ...                                   0   \n",
       "\n",
       "   topic.tung.oil  topic.veg.oil  topic.wheat  topic.wool  topic.wpi  \\\n",
       "0               0              0            0           0          0   \n",
       "1               0              0            0           0          0   \n",
       "2               0              0            0           0          0   \n",
       "3               0              0            0           0          0   \n",
       "4               0              0            1           0          0   \n",
       "\n",
       "   topic.yen  topic.zinc                                         doc.title  \\\n",
       "0          0           0                                BAHIA COCOA REVIEW   \n",
       "1          0           0      STANDARD OIL &lt;SRD> TO FORM FINANCIAL UNIT   \n",
       "2          0           0     TEXAS COMMERCE BANCSHARES &lt;TCB> FILES PLAN   \n",
       "3          0           0   TALKING POINT/BANKAMERICA &lt;BAC> EQUITY OFFER   \n",
       "4          0           0  NATIONAL AVERAGE PRICES FOR FARMER-OWNED RESERVE   \n",
       "\n",
       "                                            doc.text  \n",
       "0  Showers continued throughout the week in the B...  \n",
       "1  Standard Oil Co and BP North America Inc said ...  \n",
       "2  Texas Commerce Bancshares Inc's Texas Commerce...  \n",
       "3  BankAmerica Corp is not under pressure to act ...  \n",
       "4  The U.S. Agriculture Department reported the f...  \n",
       "\n",
       "[5 rows x 140 columns]"
      ]
     },
     "execution_count": 6,
     "metadata": {},
     "output_type": "execute_result"
    }
   ],
   "source": [
    "csv_df.head()"
   ]
  },
  {
   "cell_type": "markdown",
   "metadata": {},
   "source": [
    "#### Peek at texts"
   ]
  },
  {
   "cell_type": "code",
   "execution_count": 7,
   "metadata": {},
   "outputs": [
    {
     "name": "stdout",
     "output_type": "stream",
     "text": [
      "STANDARD OIL &lt;SRD> TO FORM FINANCIAL UNIT \n",
      "\n",
      " Standard Oil Co and BP North America Inc said they plan to form a venture to manage the money market borrowing and investment activities of both companies.     BP North America is a subsidiary of British Petroleum Co Plc &lt;BP>, which also owns a 55 pct interest in Standard Oil.     The venture will be called BP/Standard Financial Trading and will be operated by Standard Oil under the oversight of a joint management committee.   Reuter \n"
     ]
    }
   ],
   "source": [
    "# 1 -- 5\n",
    "(title, text) = csv_df.iloc[1][['doc.title', 'doc.text']]\n",
    "print(title, '\\n\\n', text)"
   ]
  },
  {
   "cell_type": "markdown",
   "metadata": {},
   "source": [
    "#### Topics"
   ]
  },
  {
   "cell_type": "code",
   "execution_count": 8,
   "metadata": {},
   "outputs": [
    {
     "name": "stdout",
     "output_type": "stream",
     "text": [
      "\n",
      " num topics: 135\n"
     ]
    },
    {
     "data": {
      "text/html": [
       "<div>\n",
       "<style scoped>\n",
       "    .dataframe tbody tr th:only-of-type {\n",
       "        vertical-align: middle;\n",
       "    }\n",
       "\n",
       "    .dataframe tbody tr th {\n",
       "        vertical-align: top;\n",
       "    }\n",
       "\n",
       "    .dataframe thead th {\n",
       "        text-align: right;\n",
       "    }\n",
       "</style>\n",
       "<table border=\"1\" class=\"dataframe\">\n",
       "  <thead>\n",
       "    <tr style=\"text-align: right;\">\n",
       "      <th></th>\n",
       "      <th>topic name</th>\n",
       "    </tr>\n",
       "  </thead>\n",
       "  <tbody>\n",
       "    <tr>\n",
       "      <th>0</th>\n",
       "      <td>acq</td>\n",
       "    </tr>\n",
       "    <tr>\n",
       "      <th>1</th>\n",
       "      <td>alum</td>\n",
       "    </tr>\n",
       "    <tr>\n",
       "      <th>2</th>\n",
       "      <td>austdlr</td>\n",
       "    </tr>\n",
       "    <tr>\n",
       "      <th>3</th>\n",
       "      <td>austral</td>\n",
       "    </tr>\n",
       "    <tr>\n",
       "      <th>4</th>\n",
       "      <td>barley</td>\n",
       "    </tr>\n",
       "    <tr>\n",
       "      <th>5</th>\n",
       "      <td>bfr</td>\n",
       "    </tr>\n",
       "    <tr>\n",
       "      <th>6</th>\n",
       "      <td>bop</td>\n",
       "    </tr>\n",
       "    <tr>\n",
       "      <th>7</th>\n",
       "      <td>can</td>\n",
       "    </tr>\n",
       "    <tr>\n",
       "      <th>8</th>\n",
       "      <td>carcass</td>\n",
       "    </tr>\n",
       "    <tr>\n",
       "      <th>9</th>\n",
       "      <td>castor.meal</td>\n",
       "    </tr>\n",
       "    <tr>\n",
       "      <th>10</th>\n",
       "      <td>castor.oil</td>\n",
       "    </tr>\n",
       "    <tr>\n",
       "      <th>11</th>\n",
       "      <td>castorseed</td>\n",
       "    </tr>\n",
       "    <tr>\n",
       "      <th>12</th>\n",
       "      <td>citruspulp</td>\n",
       "    </tr>\n",
       "    <tr>\n",
       "      <th>13</th>\n",
       "      <td>cocoa</td>\n",
       "    </tr>\n",
       "    <tr>\n",
       "      <th>14</th>\n",
       "      <td>coconut</td>\n",
       "    </tr>\n",
       "  </tbody>\n",
       "</table>\n",
       "</div>"
      ],
      "text/plain": [
       "     topic name\n",
       "0           acq\n",
       "1          alum\n",
       "2       austdlr\n",
       "3       austral\n",
       "4        barley\n",
       "5           bfr\n",
       "6           bop\n",
       "7           can\n",
       "8       carcass\n",
       "9   castor.meal\n",
       "10   castor.oil\n",
       "11   castorseed\n",
       "12   citruspulp\n",
       "13        cocoa\n",
       "14      coconut"
      ]
     },
     "execution_count": 8,
     "metadata": {},
     "output_type": "execute_result"
    }
   ],
   "source": [
    "all_topics = [ re.sub('topic\\.', '', col) for col in csv_df.columns if col.startswith('topic.') ]\n",
    "print('\\n', 'num topics:', len(all_topics))\n",
    "pd.DataFrame(all_topics, columns=['topic name']).head(15)"
   ]
  },
  {
   "cell_type": "markdown",
   "metadata": {},
   "source": [
    "### Prepare topics -- the labels we are going to predict\n",
    "\n",
    "Add them to a dataframe in two ways"
   ]
  },
  {
   "cell_type": "markdown",
   "metadata": {},
   "source": [
    "#### 1) As lists of zeros and ones -- for humans to read,"
   ]
  },
  {
   "cell_type": "code",
   "execution_count": 9,
   "metadata": {},
   "outputs": [],
   "source": [
    "topics_binarized = np.array(csv_df.values[:,3:-3])"
   ]
  },
  {
   "cell_type": "markdown",
   "metadata": {},
   "source": [
    "#### 2) As lists of strings -- for multi-label classifiers."
   ]
  },
  {
   "cell_type": "code",
   "execution_count": 10,
   "metadata": {},
   "outputs": [],
   "source": [
    "def topic_list_from_binarized(binarized):\n",
    "    return [ topic for (has, topic) in zip(binarized, all_topics) if has == 1 ]\n",
    "\n",
    "topic_lists = [ topic_list_from_binarized(binarized) for binarized in topics_binarized ]"
   ]
  },
  {
   "cell_type": "markdown",
   "metadata": {},
   "source": [
    "#### Combine all"
   ]
  },
  {
   "cell_type": "code",
   "execution_count": 11,
   "metadata": {},
   "outputs": [
    {
     "data": {
      "text/html": [
       "<div>\n",
       "<style scoped>\n",
       "    .dataframe tbody tr th:only-of-type {\n",
       "        vertical-align: middle;\n",
       "    }\n",
       "\n",
       "    .dataframe tbody tr th {\n",
       "        vertical-align: top;\n",
       "    }\n",
       "\n",
       "    .dataframe thead th {\n",
       "        text-align: right;\n",
       "    }\n",
       "</style>\n",
       "<table border=\"1\" class=\"dataframe\">\n",
       "  <thead>\n",
       "    <tr style=\"text-align: right;\">\n",
       "      <th></th>\n",
       "      <th>pid</th>\n",
       "      <th>purpose</th>\n",
       "      <th>doc.title</th>\n",
       "      <th>doc.text</th>\n",
       "      <th>topic_list</th>\n",
       "      <th>topics_binarized</th>\n",
       "      <th>num_topics</th>\n",
       "    </tr>\n",
       "  </thead>\n",
       "  <tbody>\n",
       "    <tr>\n",
       "      <th>0</th>\n",
       "      <td>1</td>\n",
       "      <td>train</td>\n",
       "      <td>BAHIA COCOA REVIEW</td>\n",
       "      <td>Showers continued throughout the week in the B...</td>\n",
       "      <td>[cocoa]</td>\n",
       "      <td>[0, 0, 0, 0, 0, 0, 0, 0, 0, 0, 0, 0, 0, 1, 0, ...</td>\n",
       "      <td>1</td>\n",
       "    </tr>\n",
       "    <tr>\n",
       "      <th>1</th>\n",
       "      <td>2</td>\n",
       "      <td>train</td>\n",
       "      <td>STANDARD OIL &amp;lt;SRD&gt; TO FORM FINANCIAL UNIT</td>\n",
       "      <td>Standard Oil Co and BP North America Inc said ...</td>\n",
       "      <td>[]</td>\n",
       "      <td>[0, 0, 0, 0, 0, 0, 0, 0, 0, 0, 0, 0, 0, 0, 0, ...</td>\n",
       "      <td>0</td>\n",
       "    </tr>\n",
       "    <tr>\n",
       "      <th>2</th>\n",
       "      <td>3</td>\n",
       "      <td>train</td>\n",
       "      <td>TEXAS COMMERCE BANCSHARES &amp;lt;TCB&gt; FILES PLAN</td>\n",
       "      <td>Texas Commerce Bancshares Inc's Texas Commerce...</td>\n",
       "      <td>[]</td>\n",
       "      <td>[0, 0, 0, 0, 0, 0, 0, 0, 0, 0, 0, 0, 0, 0, 0, ...</td>\n",
       "      <td>0</td>\n",
       "    </tr>\n",
       "    <tr>\n",
       "      <th>3</th>\n",
       "      <td>4</td>\n",
       "      <td>train</td>\n",
       "      <td>TALKING POINT/BANKAMERICA &amp;lt;BAC&gt; EQUITY OFFER</td>\n",
       "      <td>BankAmerica Corp is not under pressure to act ...</td>\n",
       "      <td>[]</td>\n",
       "      <td>[0, 0, 0, 0, 0, 0, 0, 0, 0, 0, 0, 0, 0, 0, 0, ...</td>\n",
       "      <td>0</td>\n",
       "    </tr>\n",
       "    <tr>\n",
       "      <th>4</th>\n",
       "      <td>5</td>\n",
       "      <td>train</td>\n",
       "      <td>NATIONAL AVERAGE PRICES FOR FARMER-OWNED RESERVE</td>\n",
       "      <td>The U.S. Agriculture Department reported the f...</td>\n",
       "      <td>[barley, corn, grain, oat, sorghum, wheat]</td>\n",
       "      <td>[0, 0, 0, 0, 1, 0, 0, 0, 0, 0, 0, 0, 0, 0, 0, ...</td>\n",
       "      <td>6</td>\n",
       "    </tr>\n",
       "  </tbody>\n",
       "</table>\n",
       "</div>"
      ],
      "text/plain": [
       "   pid purpose                                         doc.title  \\\n",
       "0    1   train                                BAHIA COCOA REVIEW   \n",
       "1    2   train      STANDARD OIL &lt;SRD> TO FORM FINANCIAL UNIT   \n",
       "2    3   train     TEXAS COMMERCE BANCSHARES &lt;TCB> FILES PLAN   \n",
       "3    4   train   TALKING POINT/BANKAMERICA &lt;BAC> EQUITY OFFER   \n",
       "4    5   train  NATIONAL AVERAGE PRICES FOR FARMER-OWNED RESERVE   \n",
       "\n",
       "                                            doc.text  \\\n",
       "0  Showers continued throughout the week in the B...   \n",
       "1  Standard Oil Co and BP North America Inc said ...   \n",
       "2  Texas Commerce Bancshares Inc's Texas Commerce...   \n",
       "3  BankAmerica Corp is not under pressure to act ...   \n",
       "4  The U.S. Agriculture Department reported the f...   \n",
       "\n",
       "                                   topic_list  \\\n",
       "0                                     [cocoa]   \n",
       "1                                          []   \n",
       "2                                          []   \n",
       "3                                          []   \n",
       "4  [barley, corn, grain, oat, sorghum, wheat]   \n",
       "\n",
       "                                    topics_binarized  num_topics  \n",
       "0  [0, 0, 0, 0, 0, 0, 0, 0, 0, 0, 0, 0, 0, 1, 0, ...           1  \n",
       "1  [0, 0, 0, 0, 0, 0, 0, 0, 0, 0, 0, 0, 0, 0, 0, ...           0  \n",
       "2  [0, 0, 0, 0, 0, 0, 0, 0, 0, 0, 0, 0, 0, 0, 0, ...           0  \n",
       "3  [0, 0, 0, 0, 0, 0, 0, 0, 0, 0, 0, 0, 0, 0, 0, ...           0  \n",
       "4  [0, 0, 0, 0, 1, 0, 0, 0, 0, 0, 0, 0, 0, 0, 0, ...           6  "
      ]
     },
     "execution_count": 11,
     "metadata": {},
     "output_type": "execute_result"
    }
   ],
   "source": [
    "df = csv_df[[ 'pid', 'purpose', 'doc.title', 'doc.text' ]]\n",
    "df = df.assign(topic_list = topic_lists)\n",
    "df = df.assign(topics_binarized = topics_binarized.tolist())\n",
    "df = df.assign(num_topics = np.array([ len(lst) for lst in topic_lists ]))\n",
    "df.head()"
   ]
  },
  {
   "cell_type": "markdown",
   "metadata": {},
   "source": [
    "### Keep only a few good topics and only single-topic docs"
   ]
  },
  {
   "cell_type": "code",
   "execution_count": 12,
   "metadata": {},
   "outputs": [],
   "source": [
    "roughly_even_topics = [\n",
    "    'money.fx',\n",
    "    'crude',\n",
    "    'grain',\n",
    "    'trade',\n",
    "    'interest',\n",
    "]\n",
    "all_topics = roughly_even_topics"
   ]
  },
  {
   "cell_type": "markdown",
   "metadata": {},
   "source": [
    "#### Later we will need a special binary representation of labels\n",
    "For compatibility with library functions that calculate metrics"
   ]
  },
  {
   "cell_type": "code",
   "execution_count": 13,
   "metadata": {},
   "outputs": [],
   "source": [
    "roughly_even_topics_set = set(roughly_even_topics)\n",
    "df = df[df.apply(\n",
    "    lambda row: len(row['topic_list']) == 1 and set(row['topic_list']).issubset(roughly_even_topics_set),\n",
    "    axis = 1\n",
    ")]"
   ]
  },
  {
   "cell_type": "code",
   "execution_count": 14,
   "metadata": {},
   "outputs": [],
   "source": [
    "binarizer = MultiLabelBinarizer(classes = roughly_even_topics)"
   ]
  },
  {
   "cell_type": "code",
   "execution_count": 15,
   "metadata": {},
   "outputs": [
    {
     "data": {
      "text/plain": [
       "array([[0, 0, 0, 1, 0],\n",
       "       [0, 0, 1, 0, 0],\n",
       "       [0, 1, 0, 0, 0],\n",
       "       [0, 0, 1, 0, 0],\n",
       "       [0, 1, 0, 0, 0]])"
      ]
     },
     "execution_count": 15,
     "metadata": {},
     "output_type": "execute_result"
    }
   ],
   "source": [
    "topic_lists = df.apply(lambda row : row['topic_list'][0], axis = 1).values.reshape(len(df), 1)\n",
    "roughly_even_topics_binarized = binarizer.fit_transform(topic_lists)\n",
    "roughly_even_topics_binarized[:5]"
   ]
  },
  {
   "cell_type": "code",
   "execution_count": 16,
   "metadata": {},
   "outputs": [],
   "source": [
    "df = df.assign(topics_binarized = roughly_even_topics_binarized.tolist())"
   ]
  },
  {
   "cell_type": "markdown",
   "metadata": {},
   "source": [
    "### So the data we will use is..."
   ]
  },
  {
   "cell_type": "code",
   "execution_count": 17,
   "metadata": {},
   "outputs": [],
   "source": [
    "df_train = df[df['purpose'] == 'train']\n",
    "df_test = df[df['purpose'] == 'test']"
   ]
  },
  {
   "cell_type": "code",
   "execution_count": 18,
   "metadata": {},
   "outputs": [],
   "source": [
    "n_classes = len(all_topics)"
   ]
  },
  {
   "cell_type": "code",
   "execution_count": 19,
   "metadata": {},
   "outputs": [
    {
     "name": "stdout",
     "output_type": "stream",
     "text": [
      "total docs 1414\n",
      "num train examples 943\n",
      "num test examples 377\n"
     ]
    },
    {
     "data": {
      "text/html": [
       "<div>\n",
       "<style scoped>\n",
       "    .dataframe tbody tr th:only-of-type {\n",
       "        vertical-align: middle;\n",
       "    }\n",
       "\n",
       "    .dataframe tbody tr th {\n",
       "        vertical-align: top;\n",
       "    }\n",
       "\n",
       "    .dataframe thead th {\n",
       "        text-align: right;\n",
       "    }\n",
       "</style>\n",
       "<table border=\"1\" class=\"dataframe\">\n",
       "  <thead>\n",
       "    <tr style=\"text-align: right;\">\n",
       "      <th></th>\n",
       "      <th>pid</th>\n",
       "      <th>purpose</th>\n",
       "      <th>doc.title</th>\n",
       "      <th>doc.text</th>\n",
       "      <th>topic_list</th>\n",
       "      <th>topics_binarized</th>\n",
       "      <th>num_topics</th>\n",
       "    </tr>\n",
       "  </thead>\n",
       "  <tbody>\n",
       "    <tr>\n",
       "      <th>46</th>\n",
       "      <td>47</td>\n",
       "      <td>train</td>\n",
       "      <td>BRAZIL ANTI-INFLATION PLAN LIMPS TO ANNIVERSARY</td>\n",
       "      <td>inflation plan, initially hailed at home and a...</td>\n",
       "      <td>[trade]</td>\n",
       "      <td>[0, 0, 0, 1, 0]</td>\n",
       "      <td>1</td>\n",
       "    </tr>\n",
       "    <tr>\n",
       "      <th>123</th>\n",
       "      <td>124</td>\n",
       "      <td>train</td>\n",
       "      <td>U.S. GRAIN CARLOADINGS FALL IN WEEK</td>\n",
       "      <td>U.S. grain carloadings totaled 26,108 cars in ...</td>\n",
       "      <td>[grain]</td>\n",
       "      <td>[0, 0, 1, 0, 0]</td>\n",
       "      <td>1</td>\n",
       "    </tr>\n",
       "    <tr>\n",
       "      <th>126</th>\n",
       "      <td>127</td>\n",
       "      <td>train</td>\n",
       "      <td>DIAMOND SHAMROCK (DIA) CUTS CRUDE PRICES</td>\n",
       "      <td>Diamond Shamrock Corp said that effective toda...</td>\n",
       "      <td>[crude]</td>\n",
       "      <td>[0, 1, 0, 0, 0]</td>\n",
       "      <td>1</td>\n",
       "    </tr>\n",
       "    <tr>\n",
       "      <th>135</th>\n",
       "      <td>136</td>\n",
       "      <td>train</td>\n",
       "      <td>GAO LIKELY TO SHOW CERTS MORE COSTLY THAN CASH</td>\n",
       "      <td>A study on grain certificates due out shortly ...</td>\n",
       "      <td>[grain]</td>\n",
       "      <td>[0, 0, 1, 0, 0]</td>\n",
       "      <td>1</td>\n",
       "    </tr>\n",
       "    <tr>\n",
       "      <th>143</th>\n",
       "      <td>144</td>\n",
       "      <td>train</td>\n",
       "      <td>OPEC MAY HAVE TO MEET TO FIRM PRICES - ANALYSTS</td>\n",
       "      <td>OPEC may be forced to meet before a scheduled ...</td>\n",
       "      <td>[crude]</td>\n",
       "      <td>[0, 1, 0, 0, 0]</td>\n",
       "      <td>1</td>\n",
       "    </tr>\n",
       "  </tbody>\n",
       "</table>\n",
       "</div>"
      ],
      "text/plain": [
       "     pid purpose                                        doc.title  \\\n",
       "46    47   train  BRAZIL ANTI-INFLATION PLAN LIMPS TO ANNIVERSARY   \n",
       "123  124   train              U.S. GRAIN CARLOADINGS FALL IN WEEK   \n",
       "126  127   train         DIAMOND SHAMROCK (DIA) CUTS CRUDE PRICES   \n",
       "135  136   train   GAO LIKELY TO SHOW CERTS MORE COSTLY THAN CASH   \n",
       "143  144   train  OPEC MAY HAVE TO MEET TO FIRM PRICES - ANALYSTS   \n",
       "\n",
       "                                              doc.text topic_list  \\\n",
       "46   inflation plan, initially hailed at home and a...    [trade]   \n",
       "123  U.S. grain carloadings totaled 26,108 cars in ...    [grain]   \n",
       "126  Diamond Shamrock Corp said that effective toda...    [crude]   \n",
       "135  A study on grain certificates due out shortly ...    [grain]   \n",
       "143  OPEC may be forced to meet before a scheduled ...    [crude]   \n",
       "\n",
       "    topics_binarized  num_topics  \n",
       "46   [0, 0, 0, 1, 0]           1  \n",
       "123  [0, 0, 1, 0, 0]           1  \n",
       "126  [0, 1, 0, 0, 0]           1  \n",
       "135  [0, 0, 1, 0, 0]           1  \n",
       "143  [0, 1, 0, 0, 0]           1  "
      ]
     },
     "execution_count": 19,
     "metadata": {},
     "output_type": "execute_result"
    }
   ],
   "source": [
    "print('total docs', len(df))\n",
    "print('num train examples', len(df_train))\n",
    "print('num test examples', len(df_test))\n",
    "df.head()"
   ]
  },
  {
   "cell_type": "markdown",
   "metadata": {},
   "source": [
    "### Some stats"
   ]
  },
  {
   "cell_type": "markdown",
   "metadata": {},
   "source": [
    "#### Num topics per document"
   ]
  },
  {
   "cell_type": "code",
   "execution_count": 20,
   "metadata": {},
   "outputs": [
    {
     "name": "stdout",
     "output_type": "stream",
     "text": [
      "total docs: 1414\n",
      "docs with at least one topic: 1414\n",
      "docs with more than one topic: 0\n",
      "docs with more than two topics: 0\n",
      "docs with exactly one topic: 1414\n"
     ]
    },
    {
     "data": {
      "image/png": "[encoded data removed]",
      "text/plain": [
       "<Figure size 432x288 with 1 Axes>"
      ]
     },
     "metadata": {},
     "output_type": "display_data"
    }
   ],
   "source": [
    "fig, ax = plt.subplots()\n",
    "ax.set_yscale('log')\n",
    "\n",
    "df[['num_topics']].hist(ax = ax)\n",
    "\n",
    "print('total docs:', len(df))\n",
    "print('docs with at least one topic:', len(df[df['num_topics'] > 0]))\n",
    "print('docs with more than one topic:', len(df[df['num_topics'] > 1]))\n",
    "print('docs with more than two topics:', len(df[df['num_topics'] > 2]))\n",
    "print('docs with exactly one topic:', len(df[df['num_topics'] == 1]))"
   ]
  },
  {
   "cell_type": "markdown",
   "metadata": {},
   "source": [
    "#### Num documents per topic"
   ]
  },
  {
   "cell_type": "markdown",
   "metadata": {},
   "source": [
    "##### Calculate"
   ]
  },
  {
   "cell_type": "code",
   "execution_count": 21,
   "metadata": {},
   "outputs": [],
   "source": [
    "really_want_to_recalc_num_docs_by_topic = True\n",
    "if really_want_to_recalc_num_docs_by_topic:\n",
    "    num_docs_by_topic = df.from_records(\n",
    "        data = [ \n",
    "            (topic, len(df[df.apply(lambda row: topic in row['topic_list'], axis=1)]))\n",
    "            for topic in all_topics\n",
    "        ],\n",
    "        columns = [ 'topic', 'num_docs' ]\n",
    "    ).sort_values('num_docs', ascending = False)\n",
    "    # beware not to overwrite data that is costly to compute again\n",
    "    # num_docs_by_topic.to_csv(reuters_path + '/num_docs_by_topic.csv', index = False)\n",
    "else:\n",
    "    num_docs_by_topic = pd.read_csv(reuters_path + '/num_docs_by_topic.csv')\n",
    "    num_docs_by_topic = num_docs_by_topic.sort_values('num_docs', ascending = False)"
   ]
  },
  {
   "cell_type": "markdown",
   "metadata": {},
   "source": [
    "##### Show"
   ]
  },
  {
   "cell_type": "code",
   "execution_count": 22,
   "metadata": {},
   "outputs": [
    {
     "data": {
      "text/plain": [
       "[Text(0,0.5,'num_docs')]"
      ]
     },
     "execution_count": 22,
     "metadata": {},
     "output_type": "execute_result"
    },
    {
     "data": {
      "image/png": "[encoded data removed]",
      "text/plain": [
       "<Figure size 1440x432 with 2 Axes>"
      ]
     },
     "metadata": {},
     "output_type": "display_data"
    }
   ],
   "source": [
    "fig, axs = plt.subplots(1, 2, figsize=(20, 6))\n",
    "axs[0].set_yscale('log')\n",
    "axs[0].set_title('all topics, log scale')\n",
    "axs[1].set_title('top topics, usual scale')\n",
    "pd.DataFrame(num_docs_by_topic[['num_docs']].values).plot(ax = axs[0]).set(xlabel = 'topic idx', ylabel = 'num_docs')\n",
    "num_docs_by_topic.head(10).plot(ax = axs[1], kind = 'bar', x = 'topic').set(ylabel = 'num_docs')"
   ]
  },
  {
   "cell_type": "markdown",
   "metadata": {},
   "source": [
    "#### Num words per document"
   ]
  },
  {
   "cell_type": "code",
   "execution_count": 23,
   "metadata": {},
   "outputs": [],
   "source": [
    "num_words = df[['doc.title', 'doc.text']].apply(\n",
    "    lambda row: len((row['doc.title'] + ' ' + row['doc.text']).split()),\n",
    "    axis = 1\n",
    ")"
   ]
  },
  {
   "cell_type": "code",
   "execution_count": 24,
   "metadata": {},
   "outputs": [
    {
     "data": {
      "text/plain": [
       "<matplotlib.axes._subplots.AxesSubplot at 0x7f501dd65630>"
      ]
     },
     "execution_count": 24,
     "metadata": {},
     "output_type": "execute_result"
    },
    {
     "data": {
      "image/png": "[encoded data removed]",
      "text/plain": [
       "<Figure size 1440x432 with 2 Axes>"
      ]
     },
     "metadata": {},
     "output_type": "display_data"
    }
   ],
   "source": [
    "fig, axs = plt.subplots(1, 2, figsize=(20, 6))\n",
    "axs[0].set_yscale('log')\n",
    "axs[0].set_title('num words in docs, log scale')\n",
    "axs[1].set_title('num words in docs, usual scale')\n",
    "\n",
    "num_words.hist(ax = axs[0])\n",
    "num_words.hist(ax = axs[1])"
   ]
  },
  {
   "cell_type": "markdown",
   "metadata": {},
   "source": [
    "#### Total num distinct words and word counts"
   ]
  },
  {
   "cell_type": "code",
   "execution_count": 25,
   "metadata": {},
   "outputs": [],
   "source": [
    "def get_counts_by_word(docs):\n",
    "    word_counts = {}\n",
    "    for doc in docs:\n",
    "        for word in doc.split():\n",
    "            if len(word) > 0:\n",
    "                if word not in word_counts:\n",
    "                    word_counts[word] = 0\n",
    "                word_counts[word] += 1\n",
    "    return word_counts"
   ]
  },
  {
   "cell_type": "code",
   "execution_count": 26,
   "metadata": {},
   "outputs": [],
   "source": [
    "counts_by_word = get_counts_by_word(\n",
    "    df.apply(lambda row : row['doc.title'] + ' ' + row['doc.text'], axis = 1).values\n",
    ")"
   ]
  },
  {
   "cell_type": "code",
   "execution_count": 27,
   "metadata": {},
   "outputs": [
    {
     "data": {
      "text/plain": [
       "23568"
      ]
     },
     "execution_count": 27,
     "metadata": {},
     "output_type": "execute_result"
    }
   ],
   "source": [
    "len(counts_by_word.keys())"
   ]
  },
  {
   "cell_type": "markdown",
   "metadata": {},
   "source": [
    "## Create features\n",
    "\n",
    "The whole task actually revolves around how we represent the documents as vectors that can be fed to a classifier.\n",
    "\n",
    "Here we will use the Bag Of Words approach:\n",
    "\n",
    "1. split each text to tokens and create a set of all words of all texts -- the vocabulary,\n",
    "2. create a matrix in which rows correspond to docs and columns -- to words,\n",
    "3. fill the matrix with either of:\n",
    "  * 1 if the word is found in the doc and else 0,\n",
    "  * word count in doc,\n",
    "  * TF-IDF numbers.\n",
    "  \n",
    "Questions:\n",
    "\n",
    "1. How to split the text to tokens ? By whitespace ? Punctuation ? Some other way ?\n",
    "2. What if the words have different forms ?\n",
    "3. What if there are lots of different numbers ?\n",
    "4. What if there are common sequences of words, like \"United Kingdom\", \"Russian Federation\", \"United States of America\"\n",
    "5. What if there are lots of words like \"a\", \"the\", \"they\" etc. that appear in many documets ?"
   ]
  },
  {
   "cell_type": "markdown",
   "metadata": {},
   "source": [
    "### What do texts actually look like"
   ]
  },
  {
   "cell_type": "code",
   "execution_count": 28,
   "metadata": {},
   "outputs": [
    {
     "name": "stdout",
     "output_type": "stream",
     "text": [
      "U.S. GRAIN CARLOADINGS FALL IN WEEK \n",
      "\n",
      " U.S. grain carloadings totaled 26,108 cars in the week ended February 21, down 2.2 pct from the previous week but 22.8 pct above the corresponding week a year ago, the Association of American Railroads reported.     Grain mill product loadings in the week totalled 11,382 cars, down 1.8 pct from the previous week but 7.6 pct above the same week a year earlier, the association said.  Reuter \n"
     ]
    }
   ],
   "source": [
    "# in full dataset:\n",
    "# 1,2 -- have &lt; == '<' symbol (less than, a way to escape it in HTML)\n",
    "# 3   -- a lot of text\n",
    "# 4   -- a table of numbers\n",
    "# 5   -- a lot of numbers\n",
    "#\n",
    "# in truncated dataset:\n",
    "# 1   -- just regular text\n",
    "# 4   -- longer text\n",
    "# 5   -- only title\n",
    "# 6   -- has &lt; (see above) and some numbers\n",
    "# 100 -- has a table of some sort\n",
    "#\n",
    "# some words are upper case, some lower, some even mixed (doc 5)\n",
    "# a lot of punctuation\n",
    "# numbers are in different formats\n",
    "# Reuter word at the end of each document\n",
    "# some words are abbreviated\n",
    "\n",
    "(title, text) = df.iloc[1][['doc.title', 'doc.text']]\n",
    "print(title, '\\n\\n', text)"
   ]
  },
  {
   "cell_type": "markdown",
   "metadata": {},
   "source": [
    "### Pre-process text"
   ]
  },
  {
   "cell_type": "code",
   "execution_count": 29,
   "metadata": {},
   "outputs": [],
   "source": [
    "def lower_case(string):\n",
    "    return string.lower()\n",
    "\n",
    "def fix_lt(string):\n",
    "    # fix the HTML-escaped less-than sign\n",
    "    return re.sub(r'&lt;', '<', string)\n",
    "\n",
    "def remove_reuter(string):\n",
    "    # fix the HTML-escaped less-than sign\n",
    "    return re.sub(r'reuter$', '', string)\n",
    "\n",
    "def replace_non_alphanumeric_with_space(string):\n",
    "    # replace punctuation and different whitespace with space character\n",
    "    return re.sub(r'[^a-z0-9 ]', ' ', string)\n",
    "\n",
    "def strip_punctuation(string):\n",
    "    # remove punctuation\n",
    "    return re.sub(r'[^a-z0-9\\s]', ' ', string)\n",
    "\n",
    "def remove_stop_words(string, stop_words):\n",
    "    return ' '.join([ word for word in re.split(' ', string) if not word in stop_words ])\n",
    "\n",
    "def replace_numeric_with_literal(string):\n",
    "    return re.sub(r'([0-9]+ ?)+', '<num> ', string)\n",
    "\n",
    "def compact_whitespace(string):\n",
    "    return re.sub(r'\\s+', ' ', string)\n",
    "\n",
    "def stem(string, stemmer):\n",
    "    return ' '.join([ stemmer.stem(word) for word in re.split(' ', string) if not word in stop_words ])"
   ]
  },
  {
   "cell_type": "code",
   "execution_count": 30,
   "metadata": {},
   "outputs": [],
   "source": [
    "stop_words = stopwords.words('english')\n",
    "\n",
    "stemmer = LancasterStemmer()\n",
    "# stemmer = PorterStemmer()\n",
    "# stemmer = WordNetLemmatizer()"
   ]
  },
  {
   "cell_type": "code",
   "execution_count": 31,
   "metadata": {},
   "outputs": [],
   "source": [
    "def pre_process(string):\n",
    "    s = lower_case(string)\n",
    "    s = fix_lt(s)\n",
    "    s = remove_reuter(s)\n",
    "    s = strip_punctuation(s)\n",
    "    s = remove_stop_words(s, stop_words)\n",
    "    s = compact_whitespace(s)\n",
    "    s = replace_numeric_with_literal(s)\n",
    "    s = stem(s, stemmer)\n",
    "    return s.strip()"
   ]
  },
  {
   "cell_type": "code",
   "execution_count": 32,
   "metadata": {},
   "outputs": [
    {
     "data": {
      "text/plain": [
       "'autobahn fx <num> rms act develop gds decom fin <num>'"
      ]
     },
     "execution_count": 32,
     "metadata": {},
     "output_type": "execute_result"
    }
   ],
   "source": [
    "example = 'Autobahn-FX 2, &lt;RMS> are now being actively developed; GDS decom will be finished by 2055 or 2056'\n",
    "pre_process(example)"
   ]
  },
  {
   "cell_type": "code",
   "execution_count": 33,
   "metadata": {
    "scrolled": true
   },
   "outputs": [
    {
     "name": "stdout",
     "output_type": "stream",
     "text": [
      "U.S. GRAIN CARLOADINGS FALL IN WEEK \n",
      "\n",
      " U.S. grain carloadings totaled 26,108 cars in the week ended February 21, down 2.2 pct from the previous week but 22.8 pct above the corresponding week a year ago, the Association of American Railroads reported.     Grain mill product loadings in the week totalled 11,382 cars, down 1.8 pct from the previous week but 7.6 pct above the same week a year earlier, the association said.  Reuter  \n",
      "\n",
      " u grain carload fal week u grain carload tot <num> car week end febru <num> pct prevy week <num> pct correspond week year ago assocy am railroad report grain mil produc load week total <num> car <num> pct prevy week <num> pct week year ear assocy said reut\n"
     ]
    }
   ],
   "source": [
    "(title, text) = df.iloc[1][['doc.title', 'doc.text']]\n",
    "print(title, '\\n\\n', text, '\\n\\n', pre_process(title + ' ' + text))"
   ]
  },
  {
   "cell_type": "markdown",
   "metadata": {},
   "source": [
    "#### Get pre-processed text sets"
   ]
  },
  {
   "cell_type": "code",
   "execution_count": 34,
   "metadata": {},
   "outputs": [],
   "source": [
    "def pre_process_df(df):\n",
    "    return df.apply(lambda row : pre_process(row['doc.title'] + ' ' + row['doc.text']), axis = 1).values"
   ]
  },
  {
   "cell_type": "code",
   "execution_count": 35,
   "metadata": {},
   "outputs": [],
   "source": [
    "pre_processed_train = pre_process_df(df_train)"
   ]
  },
  {
   "cell_type": "code",
   "execution_count": 36,
   "metadata": {},
   "outputs": [],
   "source": [
    "pre_processed_test = pre_process_df(df_test)"
   ]
  },
  {
   "cell_type": "markdown",
   "metadata": {},
   "source": [
    "#### Check vocabulary"
   ]
  },
  {
   "cell_type": "code",
   "execution_count": 37,
   "metadata": {},
   "outputs": [],
   "source": [
    "counts_by_word_pre_processed_train = get_counts_by_word(pre_processed_train)"
   ]
  },
  {
   "cell_type": "code",
   "execution_count": 38,
   "metadata": {},
   "outputs": [
    {
     "data": {
      "text/plain": [
       "5199"
      ]
     },
     "execution_count": 38,
     "metadata": {},
     "output_type": "execute_result"
    }
   ],
   "source": [
    "len(counts_by_word_pre_processed_train)"
   ]
  },
  {
   "cell_type": "code",
   "execution_count": 39,
   "metadata": {},
   "outputs": [
    {
     "data": {
      "text/plain": [
       "<matplotlib.axes._subplots.AxesSubplot at 0x7f501db01ba8>"
      ]
     },
     "execution_count": 39,
     "metadata": {},
     "output_type": "execute_result"
    },
    {
     "data": {
      "image/png": "[encoded data removed]",
      "text/plain": [
       "<Figure size 432x288 with 1 Axes>"
      ]
     },
     "metadata": {},
     "output_type": "display_data"
    }
   ],
   "source": [
    "pd.DataFrame(pd.Series(counts_by_word_pre_processed_train, name='count')).sort_values('count', ascending=False).plot()"
   ]
  },
  {
   "cell_type": "code",
   "execution_count": 40,
   "metadata": {},
   "outputs": [],
   "source": [
    "num_words = 3000"
   ]
  },
  {
   "cell_type": "code",
   "execution_count": 41,
   "metadata": {},
   "outputs": [
    {
     "data": {
      "text/html": [
       "<div>\n",
       "<style scoped>\n",
       "    .dataframe tbody tr th:only-of-type {\n",
       "        vertical-align: middle;\n",
       "    }\n",
       "\n",
       "    .dataframe tbody tr th {\n",
       "        vertical-align: top;\n",
       "    }\n",
       "\n",
       "    .dataframe thead th {\n",
       "        text-align: right;\n",
       "    }\n",
       "</style>\n",
       "<table border=\"1\" class=\"dataframe\">\n",
       "  <thead>\n",
       "    <tr style=\"text-align: right;\">\n",
       "      <th></th>\n",
       "      <th>count</th>\n",
       "    </tr>\n",
       "  </thead>\n",
       "  <tbody>\n",
       "    <tr>\n",
       "      <th>bank</th>\n",
       "      <td>1250</td>\n",
       "    </tr>\n",
       "    <tr>\n",
       "      <th>oil</th>\n",
       "      <td>1108</td>\n",
       "    </tr>\n",
       "    <tr>\n",
       "      <th>bil</th>\n",
       "      <td>1062</td>\n",
       "    </tr>\n",
       "    <tr>\n",
       "      <th>pct</th>\n",
       "      <td>1029</td>\n",
       "    </tr>\n",
       "    <tr>\n",
       "      <th>rat</th>\n",
       "      <td>964</td>\n",
       "    </tr>\n",
       "    <tr>\n",
       "      <th>reut</th>\n",
       "      <td>897</td>\n",
       "    </tr>\n",
       "    <tr>\n",
       "      <th>mln</th>\n",
       "      <td>857</td>\n",
       "    </tr>\n",
       "    <tr>\n",
       "      <th>market</th>\n",
       "      <td>833</td>\n",
       "    </tr>\n",
       "    <tr>\n",
       "      <th>would</th>\n",
       "      <td>814</td>\n",
       "    </tr>\n",
       "    <tr>\n",
       "      <th>year</th>\n",
       "      <td>756</td>\n",
       "    </tr>\n",
       "    <tr>\n",
       "      <th>dlrs</th>\n",
       "      <td>674</td>\n",
       "    </tr>\n",
       "    <tr>\n",
       "      <th>off</th>\n",
       "      <td>662</td>\n",
       "    </tr>\n",
       "    <tr>\n",
       "      <th>pric</th>\n",
       "      <td>654</td>\n",
       "    </tr>\n",
       "    <tr>\n",
       "      <th>jap</th>\n",
       "      <td>589</td>\n",
       "    </tr>\n",
       "    <tr>\n",
       "      <th>produc</th>\n",
       "      <td>572</td>\n",
       "    </tr>\n",
       "    <tr>\n",
       "      <th>econom</th>\n",
       "      <td>557</td>\n",
       "    </tr>\n",
       "    <tr>\n",
       "      <th>last</th>\n",
       "      <td>544</td>\n",
       "    </tr>\n",
       "    <tr>\n",
       "      <th>stat</th>\n",
       "      <td>541</td>\n",
       "    </tr>\n",
       "    <tr>\n",
       "      <th>min</th>\n",
       "      <td>518</td>\n",
       "    </tr>\n",
       "    <tr>\n",
       "      <th>cur</th>\n",
       "      <td>486</td>\n",
       "    </tr>\n",
       "  </tbody>\n",
       "</table>\n",
       "</div>"
      ],
      "text/plain": [
       "        count\n",
       "bank     1250\n",
       "oil      1108\n",
       "bil      1062\n",
       "pct      1029\n",
       "rat       964\n",
       "reut      897\n",
       "mln       857\n",
       "market    833\n",
       "would     814\n",
       "year      756\n",
       "dlrs      674\n",
       "off       662\n",
       "pric      654\n",
       "jap       589\n",
       "produc    572\n",
       "econom    557\n",
       "last      544\n",
       "stat      541\n",
       "min       518\n",
       "cur       486"
      ]
     },
     "execution_count": 41,
     "metadata": {},
     "output_type": "execute_result"
    }
   ],
   "source": [
    "pd.DataFrame(pd.Series(counts_by_word_pre_processed_train, name='count')).sort_values('count', ascending=False)[4:num_words].head(20)"
   ]
  },
  {
   "cell_type": "code",
   "execution_count": 42,
   "metadata": {},
   "outputs": [
    {
     "data": {
      "text/html": [
       "<div>\n",
       "<style scoped>\n",
       "    .dataframe tbody tr th:only-of-type {\n",
       "        vertical-align: middle;\n",
       "    }\n",
       "\n",
       "    .dataframe tbody tr th {\n",
       "        vertical-align: top;\n",
       "    }\n",
       "\n",
       "    .dataframe thead th {\n",
       "        text-align: right;\n",
       "    }\n",
       "</style>\n",
       "<table border=\"1\" class=\"dataframe\">\n",
       "  <thead>\n",
       "    <tr style=\"text-align: right;\">\n",
       "      <th></th>\n",
       "      <th>count</th>\n",
       "    </tr>\n",
       "  </thead>\n",
       "  <tbody>\n",
       "    <tr>\n",
       "      <th>w&lt;num&gt;</th>\n",
       "      <td>2</td>\n",
       "    </tr>\n",
       "    <tr>\n",
       "      <th>autonom</th>\n",
       "      <td>2</td>\n",
       "    </tr>\n",
       "    <tr>\n",
       "      <th>altogeth</th>\n",
       "      <td>2</td>\n",
       "    </tr>\n",
       "    <tr>\n",
       "      <th>sak</th>\n",
       "      <td>2</td>\n",
       "    </tr>\n",
       "    <tr>\n",
       "      <th>caf</th>\n",
       "      <td>2</td>\n",
       "    </tr>\n",
       "  </tbody>\n",
       "</table>\n",
       "</div>"
      ],
      "text/plain": [
       "          count\n",
       "w<num>        2\n",
       "autonom       2\n",
       "altogeth      2\n",
       "sak           2\n",
       "caf           2"
      ]
     },
     "execution_count": 42,
     "metadata": {},
     "output_type": "execute_result"
    }
   ],
   "source": [
    "pd.DataFrame(pd.Series(counts_by_word_pre_processed_train, name='count')).sort_values('count', ascending=False)[:num_words].tail()"
   ]
  },
  {
   "cell_type": "code",
   "execution_count": 43,
   "metadata": {},
   "outputs": [
    {
     "name": "stdout",
     "output_type": "stream",
     "text": [
      "3000\n"
     ]
    },
    {
     "data": {
      "text/plain": [
       "['<num>', 'said', 'trad', 'u', 'bank', 'oil', 'bil', 'pct', 'rat', 'reut']"
      ]
     },
     "execution_count": 43,
     "metadata": {},
     "output_type": "execute_result"
    }
   ],
   "source": [
    "top_words = list(counts_by_word_pre_processed_train.items())\n",
    "top_words.sort(key = lambda it: it[1])\n",
    "top_words.reverse()\n",
    "top_words = [ word for word, count in top_words[:num_words] ]\n",
    "print(len(top_words))\n",
    "top_words[:10]"
   ]
  },
  {
   "cell_type": "code",
   "execution_count": 44,
   "metadata": {},
   "outputs": [],
   "source": [
    "def replace_rare_words_with_literal(string, top_words):\n",
    "    return ' '.join([ (word if word in top_words else '<unk>') for word in re.split(' ', string) ])"
   ]
  },
  {
   "cell_type": "code",
   "execution_count": 45,
   "metadata": {},
   "outputs": [],
   "source": [
    "pre_processed_train = [ \n",
    "    replace_rare_words_with_literal(doc, top_words) for doc in pre_processed_train\n",
    "]\n",
    "\n",
    "pre_processed_test = [ \n",
    "    replace_rare_words_with_literal(doc, top_words) for doc in pre_processed_test\n",
    "]"
   ]
  },
  {
   "cell_type": "code",
   "execution_count": 46,
   "metadata": {},
   "outputs": [
    {
     "name": "stdout",
     "output_type": "stream",
     "text": [
      "['brazil ant infl plan limp annivers infl plan init <unk> hom abroad <unk> econom limp toward first annivers amid soar pric widespread short foreign pay cris annount last febru <num> plan froz pric fix valu new <unk> cur end widespread index econom bid halt country <num> pct infl rat within year plan collaps situ wors although infl least econom work lead bank econom said <unk> plan accompany dram revers foreign trad account <num> brazil an trad surplus sufficy cov <num> bil dlrs nee serv <num> bil dlr foreign debt first nin month <num> seem target rep month surplus av on bil dlrs export divert import increas avoid domest short trad surpl plung <num> mln dlrs octob sint av <num> mln reut', 'u grain carload fal week u grain carload tot <num> car week end febru <num> pct prevy week <num> pct correspond week year ago assocy am railroad report grain mil produc load week total <num> car <num> pct prevy week <num> pct week year ear assocy said reut', 'diamond shamrock dia cut crud pric diamond shamrock corp said effect today cut contract pric crud oil <num> dlrs barrel reduc bring post pric west texa intermedy <num> dlrs barrel <unk> said pric reduc today mad light fal oil produc pric weak crud oil market company spokeswom said diamond latest lin u oil company cut contract post pric last two day cit weak oil market reut']\n",
      "\n",
      "['as export fear dam u jap <unk> mount trad frict u jap rais fear among many as export nat row could <unk> far reach econom dam businessm off said told reut correspond as capit u mov jap might boost protect senty u lead curb am import produc export said conflict would hurt long run short term tokyo loss might gain u said impos <num> mln dlrs tariff import japanes electron good april <num> reta jap alleg fail stick pact sel semiconduc world market cost <unk> japanes estim put impact tariff <num> bil dlrs spokesm maj electron firm said would virt halt export produc hit new tax abl busy said spokesm lead japanes electron firm <unk> elect indust co ltd <unk> tariff remain plac leng tim beyond month mean complet erod export good subject tariff u said tom <unk> stock analyst tokyo off brok jam capel co taiw businessm off also worry aw sery u threat jap serv warn us said seny taiwanes trad off ask nam taiw trad trad surpl <num> bil dlrs last year <num> pct u surpl help <unk> taiw foreign exchang reserv <num> bil dlrs among world largest must quick op market remov trad barry cut import tariff allow import u produc want defus problem poss u reta said paul <unk> chairm textil export taiw saf group seny off sou kore trad promot assocy said trad disput u jap might also lead press sou kore whos chief export simil jap last year sou kore trad surpl <num> bil dlrs u <num> bil dlrs <num> malays trad off businessm said tough curb jap might allow hard hit produc semiconduc third country expand sal u hong kong newspap alleg jap sel cost semiconduc electron manufact shar view businessm said short term commerc adv would <unk> u press block import short term view said <unk> mil direct gen fed hong kong industry whol purpos prev import on day extend sourc much sery hong kong disadv act restrain trad said u last year hong kong biggest export market account <num> pct domest produc export aust govern <unk> outcom trad talk u jap interest concern industry min john <unk> said <unk> last friday kind detery trad rel two country maj trad partn sery mat <unk> said said austral concern cent coal <unk> austral two largest export jap also sign u export country meanwhil u japanes diplom <unk> solv trad stand continu jap rul lib democr party yesterday outlin pack econom meas boost japanes econom meas propos includ larg <unk> budget record publ work spend first half fin year also cal step spend emerg meas stim econom despit prim min yasuhiro nakason <unk> fisc reform program deputy u trad repres michael smi makoto kurod jap deputy min intern trad industry mit due meet washington week effort end disput reut', 'chin dai say <unk> <unk> <num> pct grain stock survey <num> provint sev city show <unk> consum sev <num> pct chin grain stock chin dai said also said year <num> mln ton <num> pct chin fruit output left rot <num> mln ton <num> pct veget pap blam wast inadequ stor bad preserv method said govern launch nat program reduc wast cal improv technolog stor preserv gre produc addit pap gav detail reut', 'jap giv littl hop avoid u sanct top u off said jap littl chant convint u drop threatened trad sanct despit effort japanes team left washington today michael armacost secret stat polit affair ask press conf wheth jap mov boost domest econom op market could persuad u impos tariff japanes import said reply prob ear fig demonst situ turn around permit result describ armacost said u hop jap tak step lift domest econom reduc depend export remov barry import settl outstand trad issu <unk> problem mom trad are wish problem divert at import area coop continu ex sec polit issu said quest wheth coop act govern reduc trad imb wheth congress tak act reduc protect legisl said reut']\n"
     ]
    }
   ],
   "source": [
    "print(pre_processed_train[:3])\n",
    "print()\n",
    "print(pre_processed_test[:3])"
   ]
  },
  {
   "cell_type": "markdown",
   "metadata": {},
   "source": [
    "### Vectorize text"
   ]
  },
  {
   "cell_type": "code",
   "execution_count": 47,
   "metadata": {},
   "outputs": [],
   "source": [
    "vectorizer = TfidfVectorizer(ngram_range = (1, 1))\n",
    "\n",
    "vectorizer.fit(pre_processed_train)\n",
    "\n",
    "X_train = vectorizer.transform(pre_processed_train, copy=True)\n",
    "X_test = vectorizer.transform(pre_processed_test, copy=True)"
   ]
  },
  {
   "cell_type": "code",
   "execution_count": 48,
   "metadata": {},
   "outputs": [
    {
     "data": {
      "text/plain": [
       "(943, 2986)"
      ]
     },
     "execution_count": 48,
     "metadata": {},
     "output_type": "execute_result"
    }
   ],
   "source": [
    "X_train.shape"
   ]
  },
  {
   "cell_type": "markdown",
   "metadata": {},
   "source": [
    "### Prepare labels"
   ]
  },
  {
   "cell_type": "code",
   "execution_count": 49,
   "metadata": {},
   "outputs": [],
   "source": [
    "def single_label(df):\n",
    "    return df.apply(lambda row : row['topic_list'][0], axis = 1).values"
   ]
  },
  {
   "cell_type": "code",
   "execution_count": 50,
   "metadata": {},
   "outputs": [],
   "source": [
    "def binarized(df):\n",
    "    return sparse.csr_matrix(df.apply(lambda row : row['topics_binarized'], axis = 1).values.tolist())"
   ]
  },
  {
   "cell_type": "code",
   "execution_count": 51,
   "metadata": {},
   "outputs": [],
   "source": [
    "y_train = single_label(df_train)\n",
    "y_test = single_label(df_test)"
   ]
  },
  {
   "cell_type": "markdown",
   "metadata": {},
   "source": [
    "## Train the model"
   ]
  },
  {
   "cell_type": "code",
   "execution_count": 52,
   "metadata": {},
   "outputs": [],
   "source": [
    "# y_train_labels = binarizer.inverse_transform(y_train)"
   ]
  },
  {
   "cell_type": "code",
   "execution_count": 53,
   "metadata": {},
   "outputs": [],
   "source": [
    "# clf = MLPClassifier()\n",
    "# clf = MultinomialNB()\n",
    "clf = LogisticRegression(multi_class='multinomial', solver='lbfgs') # accepts array of single labels\n",
    "\n",
    "clf = clf.fit(X_train, y_train)"
   ]
  },
  {
   "cell_type": "markdown",
   "metadata": {},
   "source": [
    "## Check quality"
   ]
  },
  {
   "cell_type": "code",
   "execution_count": 54,
   "metadata": {},
   "outputs": [],
   "source": [
    "y_test_predicted_labels = clf.predict(X_test)\n",
    "# y_test_predicted_scores = clf.decision_function(X_test)"
   ]
  },
  {
   "cell_type": "code",
   "execution_count": 55,
   "metadata": {},
   "outputs": [],
   "source": [
    "y_test_predicted_labels_binary = binarizer.transform(y_test_predicted_labels.reshape(len(y_test_predicted_labels), 1))\n",
    "y_test_binary = binarizer.transform(y_test.reshape(len(y_test), 1))"
   ]
  },
  {
   "cell_type": "code",
   "execution_count": 56,
   "metadata": {},
   "outputs": [],
   "source": [
    "def print_evaluation_scores(y_test, predicted):\n",
    "    print('accuracy', accuracy_score(y_test, predicted))\n",
    "    for avg in [ 'micro', 'macro', 'weighted' ]:\n",
    "        print('f1', avg, f1_score(y_test, predicted, average = avg))\n",
    "        print('precision', avg, average_precision_score(y_test, predicted, average = avg))"
   ]
  },
  {
   "cell_type": "code",
   "execution_count": 57,
   "metadata": {},
   "outputs": [
    {
     "name": "stdout",
     "output_type": "stream",
     "text": [
      "accuracy 0.9363395225464191\n",
      "f1 micro 0.9363395225464191\n",
      "precision micro 0.8894637969731722\n",
      "f1 macro 0.9249925350513717\n",
      "precision macro 0.8728618721996421\n",
      "f1 weighted 0.9354465797174518\n",
      "precision weighted 0.8918616599896273\n"
     ]
    }
   ],
   "source": [
    "print_evaluation_scores(y_test_binary, y_test_predicted_labels_binary)"
   ]
  },
  {
   "cell_type": "markdown",
   "metadata": {},
   "source": [
    "## Fiddle around with the classifier"
   ]
  },
  {
   "cell_type": "code",
   "execution_count": 58,
   "metadata": {},
   "outputs": [
    {
     "data": {
      "text/html": [
       "<div>\n",
       "<style scoped>\n",
       "    .dataframe tbody tr th:only-of-type {\n",
       "        vertical-align: middle;\n",
       "    }\n",
       "\n",
       "    .dataframe tbody tr th {\n",
       "        vertical-align: top;\n",
       "    }\n",
       "\n",
       "    .dataframe thead th {\n",
       "        text-align: right;\n",
       "    }\n",
       "</style>\n",
       "<table border=\"1\" class=\"dataframe\">\n",
       "  <thead>\n",
       "    <tr style=\"text-align: right;\">\n",
       "      <th></th>\n",
       "      <th>pid</th>\n",
       "      <th>purpose</th>\n",
       "      <th>doc.title</th>\n",
       "      <th>doc.text</th>\n",
       "      <th>topic_list</th>\n",
       "      <th>topics_binarized</th>\n",
       "      <th>num_topics</th>\n",
       "    </tr>\n",
       "  </thead>\n",
       "  <tbody>\n",
       "    <tr>\n",
       "      <th>14911</th>\n",
       "      <td>14912</td>\n",
       "      <td>test</td>\n",
       "      <td>JAPAN GIVEN LITTLE HOPE OF AVOIDING U.S. SANCT...</td>\n",
       "      <td>A top U.S. Official said Japan has little chan...</td>\n",
       "      <td>[trade]</td>\n",
       "      <td>[0, 0, 0, 1, 0]</td>\n",
       "      <td>1</td>\n",
       "    </tr>\n",
       "    <tr>\n",
       "      <th>14986</th>\n",
       "      <td>14987</td>\n",
       "      <td>test</td>\n",
       "      <td>STOLTENBERG SEES MOVES TO STRENGTHEN PARIS ACCORD</td>\n",
       "      <td>West German Finance Minister Gerhard Stoltenbe...</td>\n",
       "      <td>[money.fx]</td>\n",
       "      <td>[1, 0, 0, 0, 0]</td>\n",
       "      <td>1</td>\n",
       "    </tr>\n",
       "    <tr>\n",
       "      <th>15047</th>\n",
       "      <td>15048</td>\n",
       "      <td>test</td>\n",
       "      <td>TOP OFFICIALS ARRIVE AT TREASURY FOR G-5 TALKS</td>\n",
       "      <td>Top officials of leading industrial nations ar...</td>\n",
       "      <td>[money.fx]</td>\n",
       "      <td>[1, 0, 0, 0, 0]</td>\n",
       "      <td>1</td>\n",
       "    </tr>\n",
       "    <tr>\n",
       "      <th>15048</th>\n",
       "      <td>15049</td>\n",
       "      <td>test</td>\n",
       "      <td>FED EXPECTED TO SET CUSTOMER REPURCHASES</td>\n",
       "      <td>The Federal Reserve is expected to intervene i...</td>\n",
       "      <td>[interest]</td>\n",
       "      <td>[0, 0, 0, 0, 1]</td>\n",
       "      <td>1</td>\n",
       "    </tr>\n",
       "    <tr>\n",
       "      <th>15091</th>\n",
       "      <td>15092</td>\n",
       "      <td>test</td>\n",
       "      <td>FED SETS OVERNIGHT SYSTEM REPURCHASES, FED SAYS</td>\n",
       "      <td></td>\n",
       "      <td>[interest]</td>\n",
       "      <td>[0, 0, 0, 0, 1]</td>\n",
       "      <td>1</td>\n",
       "    </tr>\n",
       "  </tbody>\n",
       "</table>\n",
       "</div>"
      ],
      "text/plain": [
       "         pid purpose                                          doc.title  \\\n",
       "14911  14912    test  JAPAN GIVEN LITTLE HOPE OF AVOIDING U.S. SANCT...   \n",
       "14986  14987    test  STOLTENBERG SEES MOVES TO STRENGTHEN PARIS ACCORD   \n",
       "15047  15048    test     TOP OFFICIALS ARRIVE AT TREASURY FOR G-5 TALKS   \n",
       "15048  15049    test           FED EXPECTED TO SET CUSTOMER REPURCHASES   \n",
       "15091  15092    test   FED SETS OVERNIGHT SYSTEM REPURCHASES, FED SAYS    \n",
       "\n",
       "                                                doc.text  topic_list  \\\n",
       "14911  A top U.S. Official said Japan has little chan...     [trade]   \n",
       "14986  West German Finance Minister Gerhard Stoltenbe...  [money.fx]   \n",
       "15047  Top officials of leading industrial nations ar...  [money.fx]   \n",
       "15048  The Federal Reserve is expected to intervene i...  [interest]   \n",
       "15091                                                     [interest]   \n",
       "\n",
       "      topics_binarized  num_topics  \n",
       "14911  [0, 0, 0, 1, 0]           1  \n",
       "14986  [1, 0, 0, 0, 0]           1  \n",
       "15047  [1, 0, 0, 0, 0]           1  \n",
       "15048  [0, 0, 0, 0, 1]           1  \n",
       "15091  [0, 0, 0, 0, 1]           1  "
      ]
     },
     "execution_count": 58,
     "metadata": {},
     "output_type": "execute_result"
    }
   ],
   "source": [
    "df_test[4:9]"
   ]
  },
  {
   "cell_type": "code",
   "execution_count": 59,
   "metadata": {
    "scrolled": true
   },
   "outputs": [
    {
     "name": "stdout",
     "output_type": "stream",
     "text": [
      "STOLTENBERG SEES MOVES TO STRENGTHEN PARIS ACCORD\n",
      "\n",
      "West German Finance Minister Gerhard Stoltenberg said today's meetings of major industrial countries would look at ways of strengthening the Paris accord on stabilizing foreign exchange rates.     Stoltenberg told journalists he saw no fundamental weakness of the February 22 agreement of the Group of Five countries and Canada to keep exchange rates near the then-current levels.     But he declined to say what measures would be discussed ahead of a communique of the Group of Seven ministers later today.     Stoltenberg and Bundesbank President Karl Otto Poehl said the importance of the Paris agreement, also known as the Louvre accord, had been underestimated.     Stoltenberg said there is greater agreement now among major countries than six months ago, at the time of the annual meeting of the International Monetary Fund and World Bank, marked by sharp discord between the United States and its major trading partners.     \"There is no fundamental weakness of the Paris accord,\" he said. \"We will be looking at ways of strengthening it, but I do not want to discuss that here.     Stoltenberg said the Louvre agreement was working despite a \"slight firming\" of the yen against the dollar.     And Poehl noted that the dollar/mark parity was unchanged since February 22 without the Bundesbank having had to sell marks to support the dollar.     \"The Louvre agreement has been honored by the market,\" he said.     Poehl said West Germany had lived up to its side of the bargain in Paris by preparing the way for tax cuts to be accelerated as a way of stimulating growth.     Poehl said, however, that Japan had not yet fulfilled its pledges for economic stimulation.     \"And we will have to see if the United States is able to do what they promised in Paris on reducing the budget deficit -- and get it through Congress,\" he added.     Stoltenberg reiterated West German concern about a further fall in the dollar, noting that the mark was up 85 pct against the dollar and nearly 20 pct on a trade-weighted basis.     \"You cannot expect that to go unnoticed in an economy. And it is not just a German problem, it is a European problem,\" he said.  REUTER \n"
     ]
    }
   ],
   "source": [
    "print(df_test.iloc[5]['doc.title'] + '\\n\\n' + df_test.iloc[5]['doc.text'])"
   ]
  },
  {
   "cell_type": "markdown",
   "metadata": {},
   "source": [
    "## Interpreting features"
   ]
  },
  {
   "cell_type": "code",
   "execution_count": 60,
   "metadata": {},
   "outputs": [
    {
     "data": {
      "text/html": [
       "<div>\n",
       "<style scoped>\n",
       "    .dataframe tbody tr th:only-of-type {\n",
       "        vertical-align: middle;\n",
       "    }\n",
       "\n",
       "    .dataframe tbody tr th {\n",
       "        vertical-align: top;\n",
       "    }\n",
       "\n",
       "    .dataframe thead th {\n",
       "        text-align: right;\n",
       "    }\n",
       "</style>\n",
       "<table border=\"1\" class=\"dataframe\">\n",
       "  <thead>\n",
       "    <tr style=\"text-align: right;\">\n",
       "      <th></th>\n",
       "      <th>topic</th>\n",
       "      <th>top_words</th>\n",
       "    </tr>\n",
       "  </thead>\n",
       "  <tbody>\n",
       "    <tr>\n",
       "      <th>0</th>\n",
       "      <td>crude</td>\n",
       "      <td>[expl, bpd, petrole, energy, refinery, oil, crud, pric, barrel, opec]</td>\n",
       "    </tr>\n",
       "    <tr>\n",
       "      <th>1</th>\n",
       "      <td>grain</td>\n",
       "      <td>[elev, cer, usd, ton, soviet, farm, cert, agricult, crop, grain]</td>\n",
       "    </tr>\n",
       "    <tr>\n",
       "      <th>2</th>\n",
       "      <td>interest</td>\n",
       "      <td>[discount, point, num, cut, interest, fed, prim, rat, bank, pct]</td>\n",
       "    </tr>\n",
       "    <tr>\n",
       "      <th>3</th>\n",
       "      <td>money.fx</td>\n",
       "      <td>[par, stabl, market, cur, bank, doll, exchang, stg, monet, money]</td>\n",
       "    </tr>\n",
       "    <tr>\n",
       "      <th>4</th>\n",
       "      <td>trade</td>\n",
       "      <td>[janu, import, gat, surpl, japanes, bil, deficit, jap, trad, export]</td>\n",
       "    </tr>\n",
       "  </tbody>\n",
       "</table>\n",
       "</div>"
      ],
      "text/plain": [
       "      topic  \\\n",
       "0     crude   \n",
       "1     grain   \n",
       "2  interest   \n",
       "3  money.fx   \n",
       "4     trade   \n",
       "\n",
       "                                                               top_words  \n",
       "0  [expl, bpd, petrole, energy, refinery, oil, crud, pric, barrel, opec]  \n",
       "1       [elev, cer, usd, ton, soviet, farm, cert, agricult, crop, grain]  \n",
       "2       [discount, point, num, cut, interest, fed, prim, rat, bank, pct]  \n",
       "3      [par, stabl, market, cur, bank, doll, exchang, stg, monet, money]  \n",
       "4   [janu, import, gat, surpl, japanes, bil, deficit, jap, trad, export]  "
      ]
     },
     "execution_count": 60,
     "metadata": {},
     "output_type": "execute_result"
    }
   ],
   "source": [
    "num_top_features = 10\n",
    "pd.set_option('max_colwidth', 200)\n",
    "pd.DataFrame.from_records(\n",
    "    columns = [ 'topic', 'top_words' ],\n",
    "    data = [ (\n",
    "        cls, \n",
    "        [ vectorizer.get_feature_names()[i] for i in np.argpartition(coefs, -num_top_features)[-num_top_features:] ]\n",
    "    ) for cls, coefs in zip(clf.classes_, clf.coef_) ]\n",
    ")"
   ]
  },
  {
   "cell_type": "markdown",
   "metadata": {},
   "source": [
    "## Try to plot ROC"
   ]
  },
  {
   "cell_type": "code",
   "execution_count": null,
   "metadata": {},
   "outputs": [],
   "source": [
    "# Compute ROC curve and ROC area for each class\n",
    "fpr = dict()\n",
    "tpr = dict()\n",
    "roc_auc = dict()\n",
    "for i in range(n_classes):\n",
    "    fpr[i], tpr[i], _ = roc_curve(y_test_binary[:,i], y_test_predicted_scores[:,i])\n",
    "    roc_auc[i] = auc(fpr[i], tpr[i])\n",
    "\n",
    "# Compute micro-average ROC curve and ROC area\n",
    "fpr[\"micro\"], tpr[\"micro\"], _ = roc_curve(y_test_binary.ravel(), y_test_predicted_scores.ravel())\n",
    "roc_auc[\"micro\"] = auc(fpr[\"micro\"], tpr[\"micro\"])"
   ]
  },
  {
   "cell_type": "code",
   "execution_count": null,
   "metadata": {},
   "outputs": [],
   "source": [
    "# Compute macro-average ROC curve and ROC area\n",
    "\n",
    "# First aggregate all false positive rates\n",
    "all_fpr = np.unique(np.concatenate([fpr[i] for i in range(n_classes)]))\n",
    "\n",
    "# Then interpolate all ROC curves at this points\n",
    "mean_tpr = np.zeros_like(all_fpr)\n",
    "for i in range(n_classes):\n",
    "    mean_tpr += interp(all_fpr, fpr[i], tpr[i])\n",
    "\n",
    "# Finally average it and compute AUC\n",
    "mean_tpr /= n_classes\n",
    "\n",
    "fpr[\"macro\"] = all_fpr\n",
    "tpr[\"macro\"] = mean_tpr\n",
    "roc_auc[\"macro\"] = auc(fpr[\"macro\"], tpr[\"macro\"])"
   ]
  },
  {
   "cell_type": "code",
   "execution_count": null,
   "metadata": {},
   "outputs": [],
   "source": [
    "lw = 2\n",
    "\n",
    "# Plot all ROC curves\n",
    "plt.figure(figsize=(20, 10))\n",
    "plt.plot(fpr[\"micro\"], tpr[\"micro\"],\n",
    "         label='micro-average ROC curve (area = {0:0.2f})'\n",
    "               ''.format(roc_auc[\"micro\"]),\n",
    "         color='deeppink', linestyle=':', linewidth=4)\n",
    "\n",
    "plt.plot(fpr[\"macro\"], tpr[\"macro\"],\n",
    "         label='macro-average ROC curve (area = {0:0.2f})'\n",
    "               ''.format(roc_auc[\"macro\"]),\n",
    "         color='navy', linestyle=':', linewidth=4)\n",
    "\n",
    "colors = cycle(['aqua', 'darkorange', 'cornflowerblue'])\n",
    "for i, color in zip(range(n_classes), colors):\n",
    "    plt.plot(fpr[i], tpr[i], color=color, lw=lw,\n",
    "             label='ROC curve of class {0} (area = {1:0.2f})'\n",
    "             ''.format(i, roc_auc[i]))\n",
    "\n",
    "plt.plot([0, 1], [0, 1], 'k--', lw=lw)\n",
    "plt.xlim([0.0, 1.0])\n",
    "plt.ylim([0.0, 1.05])\n",
    "plt.xlabel('False Positive Rate')\n",
    "plt.ylabel('True Positive Rate')\n",
    "plt.title('Some extension of Receiver operating characteristic to multi-class')\n",
    "plt.legend(loc=\"lower right\")\n",
    "plt.show()"
   ]
  },
  {
   "cell_type": "markdown",
   "metadata": {},
   "source": [
    "# Full Flow"
   ]
  },
  {
   "cell_type": "code",
   "execution_count": 50,
   "metadata": {},
   "outputs": [],
   "source": [
    "# PARAMETERS -------------------------------------------------------\n",
    "CASE_NAME = 'CASE_NAME'\n",
    "TOPICS = 'TOPICS'\n",
    "MODEL = 'MODEL'\n",
    "VECTORIZER = 'VECTORIZER'\n",
    "PP_LOWER_CASE = 'PP_LOWER_CASE'\n",
    "PP_FIX_LT = 'PP_FIX_LT'\n",
    "PP_REMOVE_REUTER = 'PP_REMOVE_REUTER'\n",
    "PP_STRIP_PUNCTUATION = 'PP_STRIP_PUNCTUATION'\n",
    "PP_REMOVE_STOP_WORDS = 'PP_REMOVE_STOP_WORDS'\n",
    "PP_COMPACT_WHITESPACE = 'PP_COMPACT_WHITESPACE'\n",
    "PP_NUMERIC = 'PP_NUMERIC'\n",
    "PP_REPLACE_NUMERIC_WITH_LITERAL = 'PP_REPLACE_NUMERIC_WITH_LITERAL'\n",
    "PP_NUMERIC_AS_IS = 'PP_NUMERIC_AS_IS'\n",
    "PP_NUMERIC_DROP = 'PP_NUMERIC_DROP'\n",
    "PP_STEM = 'PP_STEM'\n",
    "PP_STEM_PORTER = 'PP_STEM_PORTER'\n",
    "PP_STEM_LANCASTER = 'PP_STEM_LANCASTER'\n",
    "PP_LEMMATIZE = 'PP_LEMMATIZE'\n",
    "NUM_TOP_WORDS_TO_TAKE = 'NUM_TOP_WORDS_TO_TAKE'\n",
    "RARE_WORDS = 'RARE_WORDS'\n",
    "RARE_WORDS_REPLACE = 'RARE_WORDS_REPLACE'\n",
    "RARE_WORDS_DROP = 'RARE_WORDS_DROP'\n",
    "RARE_WORDS_AS_IS = 'RARE_WORDS_AS_IS'\n",
    "\n",
    "def default_parameters():\n",
    "    return {\n",
    "        CASE_NAME : 'logreg multinomial',\n",
    "        MODEL : LogisticRegression(multi_class='multinomial', solver='lbfgs'), # accepts array of single labels\n",
    "        VECTORIZER : TfidfVectorizer(ngram_range = (1, 1)),\n",
    "        TOPICS : [ 'money.fx', 'crude', 'grain', 'trade', 'interest', ], # classes for single-label multi-class model\n",
    "        PP_LOWER_CASE : True,\n",
    "        PP_FIX_LT : True,\n",
    "        PP_REMOVE_REUTER : True,\n",
    "        PP_STRIP_PUNCTUATION : True,\n",
    "        PP_REMOVE_STOP_WORDS : True,\n",
    "        PP_COMPACT_WHITESPACE : True,\n",
    "        PP_NUMERIC: PP_REPLACE_NUMERIC_WITH_LITERAL, # PP_NUMERIC_DROP # PP_NUMERIC_AS_IS\n",
    "        PP_STEM : PP_STEM_LANCASTER, # PP_STEM_PORTER # PP_STEM_LANCASTER # PP_LEMMATIZE\n",
    "        RARE_WORDS : RARE_WORDS_REPLACE, # RARE_WORDS_DROP\n",
    "        NUM_TOP_WORDS_TO_TAKE : 3000, # top words by count to build vocabulary of\n",
    "    }\n",
    "\n",
    "# LABEL BINARIZATION -----------------------------------------------\n",
    "\n",
    "def topic_list_from_binarized(binarized, topics):\n",
    "    return [ topic for (has, topic) in zip(binarized, topics) if has == 1 ]\n",
    "\n",
    "def single_label(df):\n",
    "    return df.apply(lambda row : row['topic_list'][0], axis = 1).values\n",
    "\n",
    "def binarized(df):\n",
    "    return sparse.csr_matrix(df.apply(lambda row : row['topics_binarized'], axis = 1).values.tolist())\n",
    "\n",
    "# PREPROCESSING ----------------------------------------------------\n",
    "\n",
    "def lower_case(string):\n",
    "    return string.lower()\n",
    "\n",
    "def fix_lt(string):\n",
    "    # fix the HTML-escaped less-than sign\n",
    "    return re.sub(r'&lt;', '<', string)\n",
    "\n",
    "def remove_reuter(string):\n",
    "    # fix the HTML-escaped less-than sign\n",
    "    return re.sub(r'reuter$', '', string)\n",
    "\n",
    "def replace_non_alphanumeric_with_space(string):\n",
    "    # replace punctuation and different whitespace with space character\n",
    "    return re.sub(r'[^a-z0-9 ]', ' ', string)\n",
    "\n",
    "def strip_punctuation(string):\n",
    "    # remove punctuation\n",
    "    return re.sub(r'[^a-z0-9\\s]', ' ', string)\n",
    "\n",
    "def remove_stop_words(string, stop_words):\n",
    "    return ' '.join([ word for word in re.split(' ', string) if not word in stop_words ])\n",
    "\n",
    "def replace_numeric_with_literal(string, literal = '<num> '):\n",
    "    return re.sub(r'([0-9]+ ?)+', literal, string)\n",
    "\n",
    "def compact_whitespace(string):\n",
    "    return re.sub(r'\\s+', ' ', string)\n",
    "\n",
    "def stem(string, stemmer):\n",
    "    return ' '.join([ stemmer.stem(word) for word in re.split(' ', string) if not word in stop_words ])\n",
    "\n",
    "stop_words = stopwords.words('english')\n",
    "\n",
    "def pre_process(params, string):\n",
    "    s = string\n",
    "    if params[PP_LOWER_CASE]:\n",
    "        s = lower_case(string)\n",
    "    if params[PP_FIX_LT]:\n",
    "        s = fix_lt(s)\n",
    "    if params[PP_REMOVE_REUTER]:\n",
    "        s = remove_reuter(s)\n",
    "    if params[PP_STRIP_PUNCTUATION]:\n",
    "        s = strip_punctuation(s)\n",
    "    if params[PP_REMOVE_STOP_WORDS]:\n",
    "        s = remove_stop_words(s, stop_words)\n",
    "    if params[PP_COMPACT_WHITESPACE]:\n",
    "        s = compact_whitespace(s)\n",
    "    if params[PP_NUMERIC] == PP_REPLACE_NUMERIC_WITH_LITERAL:\n",
    "        s = replace_numeric_with_literal(s)\n",
    "    elif params[PP_NUMERIC] == PP_NUMERIC_DROP:\n",
    "        s = replace_numeric_with_literal(s, '')\n",
    "    if params[PP_STEM] == PP_STEM_LANCASTER:\n",
    "        stemmer = LancasterStemmer()\n",
    "        s = stem(s, stemmer)\n",
    "    elif params[PP_STEM] == PP_STEM_PORTER:\n",
    "        stemmer = PorterStemmer()\n",
    "        s = stem(s, stemmer)\n",
    "    elif params[PP_STEM] == PP_LEMMATIZE:\n",
    "        stemmer = WordNetLemmatizer()\n",
    "        s = stem(s, stemmer)\n",
    "    return s.strip()\n",
    "\n",
    "def pre_process_df(params, df):\n",
    "    return df.apply(lambda row : pre_process(params, row['doc.title'] + ' ' + row['doc.text']), axis = 1).values\n",
    "\n",
    "def get_counts_by_word(docs):\n",
    "    word_counts = {}\n",
    "    for doc in docs:\n",
    "        for word in doc.split():\n",
    "            if len(word) > 0:\n",
    "                if word not in word_counts:\n",
    "                    word_counts[word] = 0\n",
    "                word_counts[word] += 1\n",
    "    return word_counts\n",
    "\n",
    "def replace_rare_words_with_literal(string, top_words, literal = '<unk>'):\n",
    "    return ' '.join([ (word if word in top_words else literal) for word in re.split(' ', string) ])\n",
    "\n",
    "# METRICS --------------------------------------------------------\n",
    "\n",
    "def print_evaluation_scores(y_test, predicted):\n",
    "    print('accuracy', accuracy_score(y_test, predicted))\n",
    "    for avg in [ 'micro', 'macro', 'weighted' ]:\n",
    "        print('f1', avg, f1_score(y_test, predicted, average = avg))\n",
    "        print('precision', avg, average_precision_score(y_test, predicted, average = avg))\n",
    "        # 'micro': Calculate metrics globally by counting the total true positives, false negatives and false positives.\n",
    "        # 'macro': Calculate metrics for each label, and find their unweighted mean. This does not take label imbalance into account.\n",
    "        # 'weighted': Calculate metrics for each label, and find their average, weighted by support (the number of true instances for each label). This alters ‘macro’ to account for label imbalance; it can result in an F-score that is not between precision and recall.\n",
    "        \n",
    "# ACTUAL FLOW ----------------------------------------------------\n",
    "\n",
    "def run(params):\n",
    "    print('------------------------------------------------------')\n",
    "    print(time.time())\n",
    "    pprint(params[CASE_NAME])\n",
    "\n",
    "    topics = params[TOPICS]\n",
    "    n_classes = len(topics)\n",
    "    topics_set = set(topics)\n",
    "\n",
    "    # LOAD DATA --------------------------------------------------------\n",
    "    started_loading = time.time()\n",
    "    \n",
    "    reuters_path = '~/dev/rtc/data/text/reuters21578'\n",
    "    # https://raw.githubusercontent.com/ZhibingChen/DM-Reuters21578/master/reutersCSV.csv\n",
    "    csv_df = pd.read_csv(reuters_path + '/reutersCSV.csv', encoding='iso-8859-1', keep_default_na=False)\n",
    "\n",
    "    # ORGANIZE DATA ----------------------------------------------------\n",
    "\n",
    "    # take only what's needed (columns 'topic_list' and 'num_topics' added separately below)\n",
    "    df = csv_df[[ 'pid', 'purpose', 'doc.title', 'doc.text' ]]\n",
    "\n",
    "    # get specified topics\n",
    "    all_topics = [ re.sub('topic\\.', '', col) for col in csv_df.columns if col.startswith('topic.') ]\n",
    "\n",
    "    # store topics for all docs before filtering them according to the specified topics list\n",
    "    all_topics_binary = np.array(csv_df.values[:,3:-3])\n",
    "    topic_lists_long = [ topic_list_from_binarized(binary, all_topics) for binary in all_topics_binary ]\n",
    "    df = df.assign(topic_list = topic_lists_long)\n",
    "    df = df.assign(num_topics = np.array([ len(lst) for lst in topic_lists_long ]))\n",
    "\n",
    "    # keep only docs that have exactly one topic and that is within the specified topics list\n",
    "    df = df[df.apply(\n",
    "        lambda row: row['num_topics'] == 1 and set(row['topic_list']).issubset(topics_set),\n",
    "        axis = 1\n",
    "    )]\n",
    "\n",
    "    # Binarizing labels for API compatibility\n",
    "    # could have taken from CSV with some dataframe wrangling -- in this case\n",
    "    # in general -- a Binarizer may well be needed anyway, so showing it\n",
    "    \n",
    "    binarizer = MultiLabelBinarizer(classes = topics)\n",
    "    topic_lists = df.apply(lambda row : row['topic_list'][0], axis = 1).values.reshape(len(df), 1)\n",
    "    topics_binarized = binarizer.fit_transform(topic_lists)\n",
    "    df = df.assign(topics_binarized = topics_binarized.tolist())\n",
    "    \n",
    "    # train-test split -- as per the dataset markup\n",
    "    df_train = df[df['purpose'] == 'train']\n",
    "    df_test = df[df['purpose'] == 'test']\n",
    "        \n",
    "    # PRE-PROCESS TEXT --------------------------------------------------\n",
    "    started_pre_processing = time.time()\n",
    "\n",
    "    # case, punctuation, stop-words, whitespace etc.\n",
    "    pre_processed_train = pre_process_df(params, df_train)\n",
    "    pre_processed_test = pre_process_df(params, df_test)\n",
    "    \n",
    "    # deal with rare words\n",
    "    if params[NUM_TOP_WORDS_TO_TAKE] > 0:\n",
    "        num_words = params[NUM_TOP_WORDS_TO_TAKE]\n",
    "        counts_by_word = get_counts_by_word(pre_processed_train)\n",
    "        top_words = list(counts_by_word.items())\n",
    "        top_words.sort(key = lambda it: it[1])\n",
    "        top_words.reverse()\n",
    "        top_words = [ word for word, count in top_words[:num_words] ]\n",
    "        if params[RARE_WORDS] == RARE_WORDS_REPLACE:\n",
    "            pre_processed_train = [ replace_rare_words_with_literal(doc, top_words) for doc in pre_processed_train ]\n",
    "            pre_processed_test = [ replace_rare_words_with_literal(doc, top_words) for doc in pre_processed_test ]\n",
    "        elif params[RARE_WORDS] == RARE_WORDS_DROP:\n",
    "            pre_processed_train = [ replace_rare_words_with_literal(doc, top_words, '') for doc in pre_processed_train ]\n",
    "            pre_processed_test = [ replace_rare_words_with_literal(doc, top_words, '') for doc in pre_processed_test ]\n",
    "\n",
    "    # CREATE FEATURE REPRESENTATION AND LABELS ---------------------------\n",
    "    started_vectorizing = time.time()\n",
    "\n",
    "    vectorizer = params[VECTORIZER]\n",
    "\n",
    "    vectorizer.fit(pre_processed_train)\n",
    "\n",
    "    X_train = vectorizer.transform(pre_processed_train)\n",
    "    X_test = vectorizer.transform(pre_processed_test)\n",
    "\n",
    "    y_train = single_label(df_train)\n",
    "    y_test = single_label(df_test)\n",
    "    # y_train_labels = binarizer.inverse_transform(y_train)\n",
    "\n",
    "    # TRAIN THE MODEL ----------------------------------------------------\n",
    "    started_training = time.time()\n",
    "\n",
    "    clf = params[MODEL]\n",
    "\n",
    "    clf = clf.fit(X_train, y_train)\n",
    "\n",
    "    # CHECK METRICS ------------------------------------------------------\n",
    "    started_checking_metrics = time.time()\n",
    "\n",
    "    y_test_predicted_labels = clf.predict(X_test)\n",
    "\n",
    "    try:\n",
    "        # binarize for metrics calculation\n",
    "        y_test_predicted_labels_binary = binarizer.transform(y_test_predicted_labels.reshape(len(y_test_predicted_labels), 1))\n",
    "        y_test_binary = binarizer.transform(y_test.reshape(len(y_test), 1))\n",
    "\n",
    "        # print most important features\n",
    "        if (hasattr(clf, 'coef_')):\n",
    "            num_top_features = 10\n",
    "            top_features = pd.DataFrame.from_records(\n",
    "                columns = [ 'topic', 'top_words' ],\n",
    "                data = [ (\n",
    "                    cls, \n",
    "                    [ vectorizer.get_feature_names()[i] for i in np.argpartition(coefs, -num_top_features)[-num_top_features:] ]\n",
    "                ) for cls, coefs in zip(clf.classes_, clf.coef_) ]\n",
    "            )\n",
    "            top_features.head()\n",
    "\n",
    "        # print metrics\n",
    "        started_rendering_metrics = time.time()\n",
    "        print_evaluation_scores(y_test_binary, y_test_predicted_labels_binary)\n",
    "\n",
    "        done = time.time()\n",
    "        print('timing:')\n",
    "        print(\n",
    "            'done in', done - started_loading, '(',\n",
    "            'loading:', started_pre_processing - started_loading,\n",
    "            ', pre-processing:', started_vectorizing - started_pre_processing,\n",
    "            ', vectorizing:', started_training - started_vectorizing,\n",
    "            ', training:', started_checking_metrics - started_training,\n",
    "            ', checking metrics', started_rendering_metrics - started_checking_metrics,\n",
    "            ', rendering metrics', done - started_rendering_metrics,\n",
    "            ')'    \n",
    "        )\n",
    "    except:\n",
    "        print(\"Could not calculate metrics:\", sys.exc_info())\n"
   ]
  },
  {
   "cell_type": "code",
   "execution_count": 48,
   "metadata": {},
   "outputs": [
    {
     "name": "stdout",
     "output_type": "stream",
     "text": [
      "------------------------------------------------------\n",
      "1535005605.4483755\n",
      "'logreg multinomial'\n",
      "accuracy 0.9363395225464191\n",
      "f1 micro 0.9363395225464191\n",
      "precision micro 0.8894637969731722\n",
      "f1 macro 0.9249925350513717\n",
      "precision macro 0.8728618721996421\n",
      "f1 weighted 0.9354465797174518\n",
      "precision weighted 0.8918616599896273\n",
      "timing:\n",
      "done in 55.044326305389404 ( loading: 36.38390564918518 , pre-processing: 17.07181191444397 , vectorizing: 0.68984055519104 , training: 0.6921205520629883 , checking metrics 0.179732084274292 , rendering metrics 0.026915550231933594 )\n"
     ]
    }
   ],
   "source": [
    "params = default_parameters()\n",
    "\n",
    "run(params)"
   ]
  },
  {
   "cell_type": "code",
   "execution_count": null,
   "metadata": {
    "scrolled": false
   },
   "outputs": [
    {
     "name": "stdout",
     "output_type": "stream",
     "text": [
      "------------------------------------------------------\n",
      "1535006470.2434394\n",
      "(\"MLPClassifier(alpha=1, max_iter=500): {'PP_FIX_LT': True, \"\n",
      " \"'NUM_TOP_WORDS_TO_TAKE': -1, 'MODEL': MLPClassifier(activation='relu', \"\n",
      " \"alpha=1, batch_size='auto', beta_1=0.9,\\n\"\n",
      " '       beta_2=0.999, early_stopping=False, epsilon=1e-08,\\n'\n",
      " \"       hidden_layer_sizes=(100,), learning_rate='constant',\\n\"\n",
      " '       learning_rate_init=0.001, max_iter=500, momentum=0.9,\\n'\n",
      " '       nesterovs_momentum=True, power_t=0.5, random_state=None,\\n'\n",
      " \"       shuffle=True, solver='adam', tol=0.0001, validation_fraction=0.1,\\n\"\n",
      " \"       verbose=False, warm_start=False), 'TOPICS': ['money.fx', 'crude', \"\n",
      " \"'grain', 'trade', 'interest'], 'PP_REMOVE_REUTER': True, 'PP_NUMERIC': \"\n",
      " \"'PP_REPLACE_NUMERIC_WITH_LITERAL', 'PP_COMPACT_WHITESPACE': True, \"\n",
      " \"'PP_LOWER_CASE': True, 'PP_STRIP_PUNCTUATION': True, 'PP_STEM': \"\n",
      " \"'PP_STEM_LANCASTER', 'RARE_WORDS': 'RARE_WORDS_AS_IS', 'VECTORIZER': \"\n",
      " \"CountVectorizer(analyzer='word', binary=False, decode_error='strict',\\n\"\n",
      " \"        dtype=<class 'numpy.int64'>, encoding='utf-8', input='content',\\n\"\n",
      " '        lowercase=True, max_df=1.0, max_features=None, min_df=1,\\n'\n",
      " '        ngram_range=(1, 1), preprocessor=None, stop_words=None,\\n'\n",
      " \"        strip_accents=None, token_pattern='(?u)\\\\\\\\b\\\\\\\\w\\\\\\\\w+\\\\\\\\b',\\n\"\n",
      " \"        tokenizer=None, vocabulary=None), 'PP_REMOVE_STOP_WORDS': True}\",)\n",
      "accuracy 0.9416445623342176\n",
      "f1 micro 0.9416445623342176\n",
      "precision micro 0.8983655693067566\n",
      "f1 macro 0.9395025277541003\n",
      "precision macro 0.8963301157490801\n",
      "f1 weighted 0.9412216504607609\n",
      "precision weighted 0.900593434553355\n",
      "timing:\n",
      "done in 53.89124536514282 ( loading: 3.3502044677734375 , pre-processing: 11.47398591041565 , vectorizing: 0.5389893054962158 , training: 38.468472480773926 , checking metrics 0.015187501907348633 , rendering metrics 0.04440569877624512 )\n",
      "------------------------------------------------------\n",
      "1535006524.1840656\n",
      "(\"LogisticRegression(multi_class='multinomial', solver='lbfgs'): {'PP_FIX_LT': \"\n",
      " \"True, 'NUM_TOP_WORDS_TO_TAKE': -1, 'MODEL': LogisticRegression(C=1.0, \"\n",
      " 'class_weight=None, dual=False, fit_intercept=True,\\n'\n",
      " \"          intercept_scaling=1, max_iter=100, multi_class='multinomial',\\n\"\n",
      " \"          n_jobs=1, penalty='l2', random_state=None, solver='lbfgs',\\n\"\n",
      " \"          tol=0.0001, verbose=0, warm_start=False), 'TOPICS': ['money.fx', \"\n",
      " \"'crude', 'grain', 'trade', 'interest'], 'PP_REMOVE_REUTER': True, \"\n",
      " \"'PP_NUMERIC': 'PP_REPLACE_NUMERIC_WITH_LITERAL', 'PP_COMPACT_WHITESPACE': \"\n",
      " \"True, 'PP_LOWER_CASE': True, 'PP_STRIP_PUNCTUATION': True, 'PP_STEM': \"\n",
      " \"'PP_STEM_LANCASTER', 'RARE_WORDS': 'RARE_WORDS_AS_IS', 'VECTORIZER': \"\n",
      " \"CountVectorizer(analyzer='word', binary=False, decode_error='strict',\\n\"\n",
      " \"        dtype=<class 'numpy.int64'>, encoding='utf-8', input='content',\\n\"\n",
      " '        lowercase=True, max_df=1.0, max_features=None, min_df=1,\\n'\n",
      " '        ngram_range=(1, 1), preprocessor=None, stop_words=None,\\n'\n",
      " \"        strip_accents=None, token_pattern='(?u)\\\\\\\\b\\\\\\\\w\\\\\\\\w+\\\\\\\\b',\\n\"\n",
      " \"        tokenizer=None, vocabulary=None), 'PP_REMOVE_STOP_WORDS': True}\",)\n",
      "accuracy 0.9336870026525199\n",
      "f1 micro 0.9336870026525199\n",
      "precision micro 0.8850340183917428\n",
      "f1 macro 0.9328446464935227\n",
      "precision macro 0.8856816621060851\n",
      "f1 weighted 0.9335478302057115\n",
      "precision weighted 0.8887520219151788\n",
      "timing:\n",
      "done in 27.583804607391357 ( loading: 4.508098363876343 , pre-processing: 19.923490047454834 , vectorizing: 0.8870217800140381 , training: 1.7376770973205566 , checking metrics 0.49695897102355957 , rendering metrics 0.030558347702026367 )\n",
      "------------------------------------------------------\n",
      "1535006551.8002648\n",
      "(\"MultinomialNB(): {'PP_FIX_LT': True, 'NUM_TOP_WORDS_TO_TAKE': -1, 'MODEL': \"\n",
      " \"MultinomialNB(alpha=1.0, class_prior=None, fit_prior=True), 'TOPICS': \"\n",
      " \"['money.fx', 'crude', 'grain', 'trade', 'interest'], 'PP_REMOVE_REUTER': \"\n",
      " \"True, 'PP_NUMERIC': 'PP_REPLACE_NUMERIC_WITH_LITERAL', \"\n",
      " \"'PP_COMPACT_WHITESPACE': True, 'PP_LOWER_CASE': True, \"\n",
      " \"'PP_STRIP_PUNCTUATION': True, 'PP_STEM': 'PP_STEM_LANCASTER', 'RARE_WORDS': \"\n",
      " \"'RARE_WORDS_AS_IS', 'VECTORIZER': CountVectorizer(analyzer='word', \"\n",
      " \"binary=False, decode_error='strict',\\n\"\n",
      " \"        dtype=<class 'numpy.int64'>, encoding='utf-8', input='content',\\n\"\n",
      " '        lowercase=True, max_df=1.0, max_features=None, min_df=1,\\n'\n",
      " '        ngram_range=(1, 1), preprocessor=None, stop_words=None,\\n'\n",
      " \"        strip_accents=None, token_pattern='(?u)\\\\\\\\b\\\\\\\\w\\\\\\\\w+\\\\\\\\b',\\n\"\n",
      " \"        tokenizer=None, vocabulary=None), 'PP_REMOVE_STOP_WORDS': True}\",)\n",
      "accuracy 0.9363395225464191\n",
      "f1 micro 0.9363395225464191\n",
      "precision micro 0.8894637969731722\n",
      "f1 macro 0.943055417700579\n",
      "precision macro 0.9063523770944247\n",
      "f1 weighted 0.9358794233347157\n",
      "precision weighted 0.8947703334269101\n",
      "timing:\n",
      "done in 16.772457599639893 ( loading: 3.4385547637939453 , pre-processing: 12.39540982246399 , vectorizing: 0.5415735244750977 , training: 0.00829625129699707 , checking metrics 0.3620884418487549 , rendering metrics 0.0265347957611084 )\n",
      "------------------------------------------------------\n",
      "1535006568.6099787\n",
      "(\"KNeighborsClassifier(15): {'PP_FIX_LT': True, 'NUM_TOP_WORDS_TO_TAKE': -1, \"\n",
      " \"'MODEL': KNeighborsClassifier(algorithm='auto', leaf_size=30, \"\n",
      " \"metric='minkowski',\\n\"\n",
      " '           metric_params=None, n_jobs=1, n_neighbors=15, p=2,\\n'\n",
      " \"           weights='uniform'), 'TOPICS': ['money.fx', 'crude', 'grain', \"\n",
      " \"'trade', 'interest'], 'PP_REMOVE_REUTER': True, 'PP_NUMERIC': \"\n",
      " \"'PP_REPLACE_NUMERIC_WITH_LITERAL', 'PP_COMPACT_WHITESPACE': True, \"\n",
      " \"'PP_LOWER_CASE': True, 'PP_STRIP_PUNCTUATION': True, 'PP_STEM': \"\n",
      " \"'PP_STEM_LANCASTER', 'RARE_WORDS': 'RARE_WORDS_AS_IS', 'VECTORIZER': \"\n",
      " \"CountVectorizer(analyzer='word', binary=False, decode_error='strict',\\n\"\n",
      " \"        dtype=<class 'numpy.int64'>, encoding='utf-8', input='content',\\n\"\n",
      " '        lowercase=True, max_df=1.0, max_features=None, min_df=1,\\n'\n",
      " '        ngram_range=(1, 1), preprocessor=None, stop_words=None,\\n'\n",
      " \"        strip_accents=None, token_pattern='(?u)\\\\\\\\b\\\\\\\\w\\\\\\\\w+\\\\\\\\b',\\n\"\n",
      " \"        tokenizer=None, vocabulary=None), 'PP_REMOVE_STOP_WORDS': True}\",)\n",
      "accuracy 0.7824933687002652\n",
      "f1 micro 0.7824933687002653\n",
      "precision micro 0.6557971983198362\n",
      "f1 macro 0.693395082523891\n",
      "precision macro 0.5920352279428079\n",
      "f1 weighted 0.7854400755012674\n",
      "precision weighted 0.6911933166349395\n",
      "timing:\n",
      "done in 14.584375381469727 ( loading: 2.9257874488830566 , pre-processing: 10.934393405914307 , vectorizing: 0.6450965404510498 , training: 0.00223541259765625 , checking metrics 0.0521550178527832 , rendering metrics 0.024707555770874023 )\n",
      "------------------------------------------------------\n",
      "1535006583.2289464\n",
      "(\"SVC(kernel='linear', C=0.025): {'PP_FIX_LT': True, 'NUM_TOP_WORDS_TO_TAKE': \"\n",
      " \"-1, 'MODEL': SVC(C=0.025, cache_size=200, class_weight=None, coef0=0.0,\\n\"\n",
      " \"  decision_function_shape='ovr', degree=3, gamma='auto', kernel='linear',\\n\"\n",
      " '  max_iter=-1, probability=False, random_state=None, shrinking=True,\\n'\n",
      " \"  tol=0.001, verbose=False), 'TOPICS': ['money.fx', 'crude', 'grain', \"\n",
      " \"'trade', 'interest'], 'PP_REMOVE_REUTER': True, 'PP_NUMERIC': \"\n",
      " \"'PP_REPLACE_NUMERIC_WITH_LITERAL', 'PP_COMPACT_WHITESPACE': True, \"\n",
      " \"'PP_LOWER_CASE': True, 'PP_STRIP_PUNCTUATION': True, 'PP_STEM': \"\n",
      " \"'PP_STEM_LANCASTER', 'RARE_WORDS': 'RARE_WORDS_AS_IS', 'VECTORIZER': \"\n",
      " \"CountVectorizer(analyzer='word', binary=False, decode_error='strict',\\n\"\n",
      " \"        dtype=<class 'numpy.int64'>, encoding='utf-8', input='content',\\n\"\n",
      " '        lowercase=True, max_df=1.0, max_features=None, min_df=1,\\n'\n",
      " '        ngram_range=(1, 1), preprocessor=None, stop_words=None,\\n'\n",
      " \"        strip_accents=None, token_pattern='(?u)\\\\\\\\b\\\\\\\\w\\\\\\\\w+\\\\\\\\b',\\n\"\n",
      " \"        tokenizer=None, vocabulary=None), 'PP_REMOVE_STOP_WORDS': True}\",)\n",
      "Could not calculate metrics: (<class 'ValueError'>, ValueError('kth(=-9) out of bounds (1)',), <traceback object at 0x7f2b79be3d88>)\n",
      "------------------------------------------------------\n",
      "1535006605.9421172\n",
      "(\"SVC(gamma=2, C=1): {'PP_FIX_LT': True, 'NUM_TOP_WORDS_TO_TAKE': -1, 'MODEL': \"\n",
      " 'SVC(C=1, cache_size=200, class_weight=None, coef0=0.0,\\n'\n",
      " \"  decision_function_shape='ovr', degree=3, gamma=2, kernel='rbf',\\n\"\n",
      " '  max_iter=-1, probability=False, random_state=None, shrinking=True,\\n'\n",
      " \"  tol=0.001, verbose=False), 'TOPICS': ['money.fx', 'crude', 'grain', \"\n",
      " \"'trade', 'interest'], 'PP_REMOVE_REUTER': True, 'PP_NUMERIC': \"\n",
      " \"'PP_REPLACE_NUMERIC_WITH_LITERAL', 'PP_COMPACT_WHITESPACE': True, \"\n",
      " \"'PP_LOWER_CASE': True, 'PP_STRIP_PUNCTUATION': True, 'PP_STEM': \"\n",
      " \"'PP_STEM_LANCASTER', 'RARE_WORDS': 'RARE_WORDS_AS_IS', 'VECTORIZER': \"\n",
      " \"CountVectorizer(analyzer='word', binary=False, decode_error='strict',\\n\"\n",
      " \"        dtype=<class 'numpy.int64'>, encoding='utf-8', input='content',\\n\"\n",
      " '        lowercase=True, max_df=1.0, max_features=None, min_df=1,\\n'\n",
      " '        ngram_range=(1, 1), preprocessor=None, stop_words=None,\\n'\n",
      " \"        strip_accents=None, token_pattern='(?u)\\\\\\\\b\\\\\\\\w\\\\\\\\w+\\\\\\\\b',\\n\"\n",
      " \"        tokenizer=None, vocabulary=None), 'PP_REMOVE_STOP_WORDS': True}\",)\n"
     ]
    },
    {
     "name": "stdout",
     "output_type": "stream",
     "text": [
      "accuracy 0.3395225464190981\n",
      "f1 micro 0.3395225464190981\n",
      "precision micro 0.24737105024308903\n",
      "f1 macro 0.13003501224284308\n",
      "precision macro 0.2145740668532931\n",
      "f1 weighted 0.19240411391577167\n",
      "precision weighted 0.26154403318036357\n",
      "timing:\n",
      "done in 20.982773542404175 ( loading: 3.183955192565918 , pre-processing: 14.601235628128052 , vectorizing: 0.6089177131652832 , training: 2.0840208530426025 , checking metrics 0.4779937267303467 , rendering metrics 0.026650428771972656 )\n",
      "------------------------------------------------------\n",
      "1535006626.961326\n",
      "(\"DecisionTreeClassifier(max_depth=50): {'PP_FIX_LT': True, \"\n",
      " \"'NUM_TOP_WORDS_TO_TAKE': -1, 'MODEL': \"\n",
      " \"DecisionTreeClassifier(class_weight=None, criterion='gini', max_depth=50,\\n\"\n",
      " '            max_features=None, max_leaf_nodes=None,\\n'\n",
      " '            min_impurity_decrease=0.0, min_impurity_split=None,\\n'\n",
      " '            min_samples_leaf=1, min_samples_split=2,\\n'\n",
      " '            min_weight_fraction_leaf=0.0, presort=False, random_state=None,\\n'\n",
      " \"            splitter='best'), 'TOPICS': ['money.fx', 'crude', 'grain', \"\n",
      " \"'trade', 'interest'], 'PP_REMOVE_REUTER': True, 'PP_NUMERIC': \"\n",
      " \"'PP_REPLACE_NUMERIC_WITH_LITERAL', 'PP_COMPACT_WHITESPACE': True, \"\n",
      " \"'PP_LOWER_CASE': True, 'PP_STRIP_PUNCTUATION': True, 'PP_STEM': \"\n",
      " \"'PP_STEM_LANCASTER', 'RARE_WORDS': 'RARE_WORDS_AS_IS', 'VECTORIZER': \"\n",
      " \"CountVectorizer(analyzer='word', binary=False, decode_error='strict',\\n\"\n",
      " \"        dtype=<class 'numpy.int64'>, encoding='utf-8', input='content',\\n\"\n",
      " '        lowercase=True, max_df=1.0, max_features=None, min_df=1,\\n'\n",
      " '        ngram_range=(1, 1), preprocessor=None, stop_words=None,\\n'\n",
      " \"        strip_accents=None, token_pattern='(?u)\\\\\\\\b\\\\\\\\w\\\\\\\\w+\\\\\\\\b',\\n\"\n",
      " \"        tokenizer=None, vocabulary=None), 'PP_REMOVE_STOP_WORDS': True}\",)\n"
     ]
    },
    {
     "name": "stderr",
     "output_type": "stream",
     "text": [
      "/home/flint/dev/rtc/ve/lib/python3.5/site-packages/sklearn/metrics/classification.py:1135: UndefinedMetricWarning: F-score is ill-defined and being set to 0.0 in labels with no predicted samples.\n",
      "  'precision', 'predicted', average, warn_for)\n"
     ]
    },
    {
     "name": "stdout",
     "output_type": "stream",
     "text": [
      "accuracy 0.8275862068965517\n",
      "f1 micro 0.8275862068965517\n",
      "precision micro 0.7193816884661117\n",
      "f1 macro 0.8432448990525172\n",
      "precision macro 0.7622200321250899\n",
      "f1 weighted 0.8258518491248018\n",
      "precision weighted 0.7359868488389907\n",
      "timing:\n",
      "done in 24.017714023590088 ( loading: 4.547870397567749 , pre-processing: 17.637589693069458 , vectorizing: 1.3520517349243164 , training: 0.37976813316345215 , checking metrics 0.010358572006225586 , rendering metrics 0.09007549285888672 )\n",
      "------------------------------------------------------\n",
      "1535006651.0449274\n",
      "('RandomForestClassifier(max_depth=50, n_estimators=1000, max_features=1): '\n",
      " \"{'PP_FIX_LT': True, 'NUM_TOP_WORDS_TO_TAKE': -1, 'MODEL': \"\n",
      " \"RandomForestClassifier(bootstrap=True, class_weight=None, criterion='gini',\\n\"\n",
      " '            max_depth=50, max_features=1, max_leaf_nodes=None,\\n'\n",
      " '            min_impurity_decrease=0.0, min_impurity_split=None,\\n'\n",
      " '            min_samples_leaf=1, min_samples_split=2,\\n'\n",
      " '            min_weight_fraction_leaf=0.0, n_estimators=1000, n_jobs=1,\\n'\n",
      " '            oob_score=False, random_state=None, verbose=0,\\n'\n",
      " \"            warm_start=False), 'TOPICS': ['money.fx', 'crude', 'grain', \"\n",
      " \"'trade', 'interest'], 'PP_REMOVE_REUTER': True, 'PP_NUMERIC': \"\n",
      " \"'PP_REPLACE_NUMERIC_WITH_LITERAL', 'PP_COMPACT_WHITESPACE': True, \"\n",
      " \"'PP_LOWER_CASE': True, 'PP_STRIP_PUNCTUATION': True, 'PP_STEM': \"\n",
      " \"'PP_STEM_LANCASTER', 'RARE_WORDS': 'RARE_WORDS_AS_IS', 'VECTORIZER': \"\n",
      " \"CountVectorizer(analyzer='word', binary=False, decode_error='strict',\\n\"\n",
      " \"        dtype=<class 'numpy.int64'>, encoding='utf-8', input='content',\\n\"\n",
      " '        lowercase=True, max_df=1.0, max_features=None, min_df=1,\\n'\n",
      " '        ngram_range=(1, 1), preprocessor=None, stop_words=None,\\n'\n",
      " \"        strip_accents=None, token_pattern='(?u)\\\\\\\\b\\\\\\\\w\\\\\\\\w+\\\\\\\\b',\\n\"\n",
      " \"        tokenizer=None, vocabulary=None), 'PP_REMOVE_STOP_WORDS': True}\",)\n",
      "accuracy 0.8143236074270557\n",
      "f1 micro 0.8143236074270557\n",
      "precision micro 0.7002582161276023\n",
      "f1 macro 0.6471356645097607\n",
      "precision macro 0.5732851573459283\n",
      "f1 weighted 0.7985259198162702\n",
      "precision weighted 0.709283908710331\n",
      "timing:\n",
      "done in 48.07329344749451 ( loading: 7.42694091796875 , pre-processing: 26.382303714752197 , vectorizing: 1.4334287643432617 , training: 11.635980367660522 , checking metrics 1.131821632385254 , rendering metrics 0.06281805038452148 )\n",
      "------------------------------------------------------\n",
      "1535006699.2082658\n",
      "(\"MLPClassifier(alpha=1, max_iter=500): {'PP_FIX_LT': True, \"\n",
      " \"'NUM_TOP_WORDS_TO_TAKE': -1, 'MODEL': MLPClassifier(activation='relu', \"\n",
      " \"alpha=1, batch_size='auto', beta_1=0.9,\\n\"\n",
      " '       beta_2=0.999, early_stopping=False, epsilon=1e-08,\\n'\n",
      " \"       hidden_layer_sizes=(100,), learning_rate='constant',\\n\"\n",
      " '       learning_rate_init=0.001, max_iter=500, momentum=0.9,\\n'\n",
      " '       nesterovs_momentum=True, power_t=0.5, random_state=None,\\n'\n",
      " \"       shuffle=True, solver='adam', tol=0.0001, validation_fraction=0.1,\\n\"\n",
      " \"       verbose=False, warm_start=False), 'TOPICS': ['money.fx', 'crude', \"\n",
      " \"'grain', 'trade', 'interest'], 'PP_REMOVE_REUTER': True, 'PP_NUMERIC': \"\n",
      " \"'PP_REPLACE_NUMERIC_WITH_LITERAL', 'PP_COMPACT_WHITESPACE': True, \"\n",
      " \"'PP_LOWER_CASE': True, 'PP_STRIP_PUNCTUATION': True, 'PP_STEM': \"\n",
      " \"'PP_STEM_LANCASTER', 'RARE_WORDS': 'RARE_WORDS_AS_IS', 'VECTORIZER': \"\n",
      " \"TfidfVectorizer(analyzer='word', binary=False, decode_error='strict',\\n\"\n",
      " \"        dtype=<class 'numpy.int64'>, encoding='utf-8', input='content',\\n\"\n",
      " '        lowercase=True, max_df=1.0, max_features=None, min_df=1,\\n'\n",
      " \"        ngram_range=(1, 1), norm='l2', preprocessor=None, smooth_idf=True,\\n\"\n",
      " '        stop_words=None, strip_accents=None, sublinear_tf=False,\\n'\n",
      " \"        token_pattern='(?u)\\\\\\\\b\\\\\\\\w\\\\\\\\w+\\\\\\\\b', tokenizer=None, \"\n",
      " 'use_idf=True,\\n'\n",
      " \"        vocabulary=None), 'PP_REMOVE_STOP_WORDS': True}\",)\n"
     ]
    },
    {
     "name": "stderr",
     "output_type": "stream",
     "text": [
      "/home/flint/dev/rtc/ve/lib/python3.5/site-packages/sklearn/metrics/classification.py:1135: UndefinedMetricWarning: F-score is ill-defined and being set to 0.0 in labels with no predicted samples.\n",
      "  'precision', 'predicted', average, warn_for)\n"
     ]
    },
    {
     "name": "stdout",
     "output_type": "stream",
     "text": [
      "accuracy 0.9496021220159151\n",
      "f1 micro 0.9496021220159151\n",
      "precision micro 0.9118237657339459\n",
      "f1 macro 0.9459705056295971\n",
      "precision macro 0.9069180015871\n",
      "f1 weighted 0.9493489251107399\n",
      "precision weighted 0.9141371365904648\n",
      "timing:\n",
      "done in 142.94161796569824 ( loading: 7.696780681610107 , pre-processing: 33.310317277908325 , vectorizing: 1.50624418258667 , training: 100.3504204750061 , checking metrics 0.02807903289794922 , rendering metrics 0.049776315689086914 )\n",
      "------------------------------------------------------\n",
      "1535006842.2272828\n",
      "(\"LogisticRegression(multi_class='multinomial', solver='lbfgs'): {'PP_FIX_LT': \"\n",
      " \"True, 'NUM_TOP_WORDS_TO_TAKE': -1, 'MODEL': LogisticRegression(C=1.0, \"\n",
      " 'class_weight=None, dual=False, fit_intercept=True,\\n'\n",
      " \"          intercept_scaling=1, max_iter=100, multi_class='multinomial',\\n\"\n",
      " \"          n_jobs=1, penalty='l2', random_state=None, solver='lbfgs',\\n\"\n",
      " \"          tol=0.0001, verbose=0, warm_start=False), 'TOPICS': ['money.fx', \"\n",
      " \"'crude', 'grain', 'trade', 'interest'], 'PP_REMOVE_REUTER': True, \"\n",
      " \"'PP_NUMERIC': 'PP_REPLACE_NUMERIC_WITH_LITERAL', 'PP_COMPACT_WHITESPACE': \"\n",
      " \"True, 'PP_LOWER_CASE': True, 'PP_STRIP_PUNCTUATION': True, 'PP_STEM': \"\n",
      " \"'PP_STEM_LANCASTER', 'RARE_WORDS': 'RARE_WORDS_AS_IS', 'VECTORIZER': \"\n",
      " \"TfidfVectorizer(analyzer='word', binary=False, decode_error='strict',\\n\"\n",
      " \"        dtype=<class 'numpy.int64'>, encoding='utf-8', input='content',\\n\"\n",
      " '        lowercase=True, max_df=1.0, max_features=None, min_df=1,\\n'\n",
      " \"        ngram_range=(1, 1), norm='l2', preprocessor=None, smooth_idf=True,\\n\"\n",
      " '        stop_words=None, strip_accents=None, sublinear_tf=False,\\n'\n",
      " \"        token_pattern='(?u)\\\\\\\\b\\\\\\\\w\\\\\\\\w+\\\\\\\\b', tokenizer=None, \"\n",
      " 'use_idf=True,\\n'\n",
      " \"        vocabulary=None), 'PP_REMOVE_STOP_WORDS': True}\",)\n",
      "accuracy 0.9416445623342176\n",
      "f1 micro 0.9416445623342176\n",
      "precision micro 0.8983655693067566\n",
      "f1 macro 0.9197621223277472\n",
      "precision macro 0.8644886448972141\n",
      "f1 weighted 0.9407958527820781\n",
      "precision weighted 0.8996138179646831\n",
      "timing:\n",
      "done in 72.7074089050293 ( loading: 7.155026435852051 , pre-processing: 60.902872800827026 , vectorizing: 1.7398102283477783 , training: 2.008446216583252 , checking metrics 0.835526704788208 , rendering metrics 0.06572651863098145 )\n",
      "------------------------------------------------------\n",
      "1535006915.0094433\n",
      "(\"MultinomialNB(): {'PP_FIX_LT': True, 'NUM_TOP_WORDS_TO_TAKE': -1, 'MODEL': \"\n",
      " \"MultinomialNB(alpha=1.0, class_prior=None, fit_prior=True), 'TOPICS': \"\n",
      " \"['money.fx', 'crude', 'grain', 'trade', 'interest'], 'PP_REMOVE_REUTER': \"\n",
      " \"True, 'PP_NUMERIC': 'PP_REPLACE_NUMERIC_WITH_LITERAL', \"\n",
      " \"'PP_COMPACT_WHITESPACE': True, 'PP_LOWER_CASE': True, \"\n",
      " \"'PP_STRIP_PUNCTUATION': True, 'PP_STEM': 'PP_STEM_LANCASTER', 'RARE_WORDS': \"\n",
      " \"'RARE_WORDS_AS_IS', 'VECTORIZER': TfidfVectorizer(analyzer='word', \"\n",
      " \"binary=False, decode_error='strict',\\n\"\n",
      " \"        dtype=<class 'numpy.int64'>, encoding='utf-8', input='content',\\n\"\n",
      " '        lowercase=True, max_df=1.0, max_features=None, min_df=1,\\n'\n",
      " \"        ngram_range=(1, 1), norm='l2', preprocessor=None, smooth_idf=True,\\n\"\n",
      " '        stop_words=None, strip_accents=None, sublinear_tf=False,\\n'\n",
      " \"        token_pattern='(?u)\\\\\\\\b\\\\\\\\w\\\\\\\\w+\\\\\\\\b', tokenizer=None, \"\n",
      " 'use_idf=True,\\n'\n",
      " \"        vocabulary=None), 'PP_REMOVE_STOP_WORDS': True}\",)\n",
      "accuracy 0.8541114058355438\n",
      "f1 micro 0.8541114058355437\n",
      "precision micro 0.7586840124112602\n",
      "f1 macro 0.6834207945497626\n",
      "precision macro 0.6244743436558787\n",
      "f1 weighted 0.842522509059663\n",
      "precision weighted 0.7720722108869544\n",
      "timing:\n",
      "done in 39.08898735046387 ( loading: 6.772479057312012 , pre-processing: 30.00285792350769 , vectorizing: 1.4049170017242432 , training: 0.027957439422607422 , checking metrics 0.8185141086578369 , rendering metrics 0.06226181983947754 )\n",
      "------------------------------------------------------\n",
      "1535006954.1912892\n",
      "(\"KNeighborsClassifier(15): {'PP_FIX_LT': True, 'NUM_TOP_WORDS_TO_TAKE': -1, \"\n",
      " \"'MODEL': KNeighborsClassifier(algorithm='auto', leaf_size=30, \"\n",
      " \"metric='minkowski',\\n\"\n",
      " '           metric_params=None, n_jobs=1, n_neighbors=15, p=2,\\n'\n",
      " \"           weights='uniform'), 'TOPICS': ['money.fx', 'crude', 'grain', \"\n",
      " \"'trade', 'interest'], 'PP_REMOVE_REUTER': True, 'PP_NUMERIC': \"\n",
      " \"'PP_REPLACE_NUMERIC_WITH_LITERAL', 'PP_COMPACT_WHITESPACE': True, \"\n",
      " \"'PP_LOWER_CASE': True, 'PP_STRIP_PUNCTUATION': True, 'PP_STEM': \"\n",
      " \"'PP_STEM_LANCASTER', 'RARE_WORDS': 'RARE_WORDS_AS_IS', 'VECTORIZER': \"\n",
      " \"TfidfVectorizer(analyzer='word', binary=False, decode_error='strict',\\n\"\n",
      " \"        dtype=<class 'numpy.int64'>, encoding='utf-8', input='content',\\n\"\n",
      " '        lowercase=True, max_df=1.0, max_features=None, min_df=1,\\n'\n",
      " \"        ngram_range=(1, 1), norm='l2', preprocessor=None, smooth_idf=True,\\n\"\n",
      " '        stop_words=None, strip_accents=None, sublinear_tf=False,\\n'\n",
      " \"        token_pattern='(?u)\\\\\\\\b\\\\\\\\w\\\\\\\\w+\\\\\\\\b', tokenizer=None, \"\n",
      " 'use_idf=True,\\n'\n",
      " \"        vocabulary=None), 'PP_REMOVE_STOP_WORDS': True}\",)\n"
     ]
    },
    {
     "name": "stderr",
     "output_type": "stream",
     "text": [
      "/home/flint/dev/rtc/ve/lib/python3.5/site-packages/sklearn/metrics/classification.py:1135: UndefinedMetricWarning: F-score is ill-defined and being set to 0.0 in labels with no predicted samples.\n",
      "  'precision', 'predicted', average, warn_for)\n"
     ]
    },
    {
     "name": "stdout",
     "output_type": "stream",
     "text": [
      "accuracy 0.9257294429708223\n",
      "f1 micro 0.9257294429708223\n",
      "precision micro 0.8718291129889044\n",
      "f1 macro 0.9057178872753424\n",
      "precision macro 0.842049967702654\n",
      "f1 weighted 0.9251277994392866\n",
      "precision weighted 0.8749469950416103\n",
      "timing:\n",
      "done in 31.426178216934204 ( loading: 5.970515489578247 , pre-processing: 23.953535318374634 , vectorizing: 1.3444921970367432 , training: 0.0024623870849609375 , checking metrics 0.1027078628540039 , rendering metrics 0.052464962005615234 )\n",
      "------------------------------------------------------\n",
      "1535006985.6845665\n",
      "(\"SVC(kernel='linear', C=0.025): {'PP_FIX_LT': True, 'NUM_TOP_WORDS_TO_TAKE': \"\n",
      " \"-1, 'MODEL': SVC(C=0.025, cache_size=200, class_weight=None, coef0=0.0,\\n\"\n",
      " \"  decision_function_shape='ovr', degree=3, gamma='auto', kernel='linear',\\n\"\n",
      " '  max_iter=-1, probability=False, random_state=None, shrinking=True,\\n'\n",
      " \"  tol=0.001, verbose=False), 'TOPICS': ['money.fx', 'crude', 'grain', \"\n",
      " \"'trade', 'interest'], 'PP_REMOVE_REUTER': True, 'PP_NUMERIC': \"\n",
      " \"'PP_REPLACE_NUMERIC_WITH_LITERAL', 'PP_COMPACT_WHITESPACE': True, \"\n",
      " \"'PP_LOWER_CASE': True, 'PP_STRIP_PUNCTUATION': True, 'PP_STEM': \"\n",
      " \"'PP_STEM_LANCASTER', 'RARE_WORDS': 'RARE_WORDS_AS_IS', 'VECTORIZER': \"\n",
      " \"TfidfVectorizer(analyzer='word', binary=False, decode_error='strict',\\n\"\n",
      " \"        dtype=<class 'numpy.int64'>, encoding='utf-8', input='content',\\n\"\n",
      " '        lowercase=True, max_df=1.0, max_features=None, min_df=1,\\n'\n",
      " \"        ngram_range=(1, 1), norm='l2', preprocessor=None, smooth_idf=True,\\n\"\n",
      " '        stop_words=None, strip_accents=None, sublinear_tf=False,\\n'\n",
      " \"        token_pattern='(?u)\\\\\\\\b\\\\\\\\w\\\\\\\\w+\\\\\\\\b', tokenizer=None, \"\n",
      " 'use_idf=True,\\n'\n",
      " \"        vocabulary=None), 'PP_REMOVE_STOP_WORDS': True}\",)\n",
      "Could not calculate metrics: (<class 'ValueError'>, ValueError('kth(=-9) out of bounds (1)',), <traceback object at 0x7f2b77a56308>)\n",
      "------------------------------------------------------\n",
      "1535007020.5763402\n",
      "(\"SVC(gamma=2, C=1): {'PP_FIX_LT': True, 'NUM_TOP_WORDS_TO_TAKE': -1, 'MODEL': \"\n",
      " 'SVC(C=1, cache_size=200, class_weight=None, coef0=0.0,\\n'\n",
      " \"  decision_function_shape='ovr', degree=3, gamma=2, kernel='rbf',\\n\"\n",
      " '  max_iter=-1, probability=False, random_state=None, shrinking=True,\\n'\n",
      " \"  tol=0.001, verbose=False), 'TOPICS': ['money.fx', 'crude', 'grain', \"\n",
      " \"'trade', 'interest'], 'PP_REMOVE_REUTER': True, 'PP_NUMERIC': \"\n",
      " \"'PP_REPLACE_NUMERIC_WITH_LITERAL', 'PP_COMPACT_WHITESPACE': True, \"\n",
      " \"'PP_LOWER_CASE': True, 'PP_STRIP_PUNCTUATION': True, 'PP_STEM': \"\n",
      " \"'PP_STEM_LANCASTER', 'RARE_WORDS': 'RARE_WORDS_AS_IS', 'VECTORIZER': \"\n",
      " \"TfidfVectorizer(analyzer='word', binary=False, decode_error='strict',\\n\"\n",
      " \"        dtype=<class 'numpy.int64'>, encoding='utf-8', input='content',\\n\"\n",
      " '        lowercase=True, max_df=1.0, max_features=None, min_df=1,\\n'\n",
      " \"        ngram_range=(1, 1), norm='l2', preprocessor=None, smooth_idf=True,\\n\"\n",
      " '        stop_words=None, strip_accents=None, sublinear_tf=False,\\n'\n",
      " \"        token_pattern='(?u)\\\\\\\\b\\\\\\\\w\\\\\\\\w+\\\\\\\\b', tokenizer=None, \"\n",
      " 'use_idf=True,\\n'\n",
      " \"        vocabulary=None), 'PP_REMOVE_STOP_WORDS': True}\",)\n",
      "accuracy 0.9018567639257294\n",
      "f1 micro 0.9018567639257294\n",
      "precision micro 0.832974269853443\n",
      "f1 macro 0.8280383377309954\n",
      "precision macro 0.7474218235665987\n",
      "f1 weighted 0.8981792358803196\n",
      "precision weighted 0.8369217643259382\n",
      "timing:\n",
      "done in 36.84416174888611 ( loading: 6.030879259109497 , pre-processing: 25.594561100006104 , vectorizing: 1.3897576332092285 , training: 3.1568994522094727 , checking metrics 0.610835075378418 , rendering metrics 0.06122922897338867 )\n",
      "------------------------------------------------------\n",
      "1535007057.4848757\n",
      "(\"DecisionTreeClassifier(max_depth=50): {'PP_FIX_LT': True, \"\n",
      " \"'NUM_TOP_WORDS_TO_TAKE': -1, 'MODEL': \"\n",
      " \"DecisionTreeClassifier(class_weight=None, criterion='gini', max_depth=50,\\n\"\n",
      " '            max_features=None, max_leaf_nodes=None,\\n'\n",
      " '            min_impurity_decrease=0.0, min_impurity_split=None,\\n'\n",
      " '            min_samples_leaf=1, min_samples_split=2,\\n'\n",
      " '            min_weight_fraction_leaf=0.0, presort=False, random_state=None,\\n'\n",
      " \"            splitter='best'), 'TOPICS': ['money.fx', 'crude', 'grain', \"\n",
      " \"'trade', 'interest'], 'PP_REMOVE_REUTER': True, 'PP_NUMERIC': \"\n",
      " \"'PP_REPLACE_NUMERIC_WITH_LITERAL', 'PP_COMPACT_WHITESPACE': True, \"\n",
      " \"'PP_LOWER_CASE': True, 'PP_STRIP_PUNCTUATION': True, 'PP_STEM': \"\n",
      " \"'PP_STEM_LANCASTER', 'RARE_WORDS': 'RARE_WORDS_AS_IS', 'VECTORIZER': \"\n",
      " \"TfidfVectorizer(analyzer='word', binary=False, decode_error='strict',\\n\"\n",
      " \"        dtype=<class 'numpy.int64'>, encoding='utf-8', input='content',\\n\"\n",
      " '        lowercase=True, max_df=1.0, max_features=None, min_df=1,\\n'\n",
      " \"        ngram_range=(1, 1), norm='l2', preprocessor=None, smooth_idf=True,\\n\"\n",
      " '        stop_words=None, strip_accents=None, sublinear_tf=False,\\n'\n",
      " \"        token_pattern='(?u)\\\\\\\\b\\\\\\\\w\\\\\\\\w+\\\\\\\\b', tokenizer=None, \"\n",
      " 'use_idf=True,\\n'\n",
      " \"        vocabulary=None), 'PP_REMOVE_STOP_WORDS': True}\",)\n",
      "accuracy 0.8328912466843501\n",
      "f1 micro 0.8328912466843501\n",
      "precision micro 0.727129579466541\n",
      "f1 macro 0.8407620498086128\n",
      "precision macro 0.7530582288373575\n",
      "f1 weighted 0.8311592715293303\n",
      "precision weighted 0.7414055118156601\n",
      "timing:\n",
      "done in 32.13521432876587 ( loading: 5.87142276763916 , pre-processing: 24.390636682510376 , vectorizing: 1.4993956089019775 , training: 0.30803608894348145 , checking metrics 0.013790607452392578 , rendering metrics 0.051932573318481445 )\n",
      "------------------------------------------------------\n",
      "1535007089.6941907\n",
      "('RandomForestClassifier(max_depth=50, n_estimators=1000, max_features=1): '\n",
      " \"{'PP_FIX_LT': True, 'NUM_TOP_WORDS_TO_TAKE': -1, 'MODEL': \"\n",
      " \"RandomForestClassifier(bootstrap=True, class_weight=None, criterion='gini',\\n\"\n",
      " '            max_depth=50, max_features=1, max_leaf_nodes=None,\\n'\n",
      " '            min_impurity_decrease=0.0, min_impurity_split=None,\\n'\n",
      " '            min_samples_leaf=1, min_samples_split=2,\\n'\n",
      " '            min_weight_fraction_leaf=0.0, n_estimators=1000, n_jobs=1,\\n'\n",
      " '            oob_score=False, random_state=None, verbose=0,\\n'\n",
      " \"            warm_start=False), 'TOPICS': ['money.fx', 'crude', 'grain', \"\n",
      " \"'trade', 'interest'], 'PP_REMOVE_REUTER': True, 'PP_NUMERIC': \"\n",
      " \"'PP_REPLACE_NUMERIC_WITH_LITERAL', 'PP_COMPACT_WHITESPACE': True, \"\n",
      " \"'PP_LOWER_CASE': True, 'PP_STRIP_PUNCTUATION': True, 'PP_STEM': \"\n",
      " \"'PP_STEM_LANCASTER', 'RARE_WORDS': 'RARE_WORDS_AS_IS', 'VECTORIZER': \"\n",
      " \"TfidfVectorizer(analyzer='word', binary=False, decode_error='strict',\\n\"\n",
      " \"        dtype=<class 'numpy.int64'>, encoding='utf-8', input='content',\\n\"\n",
      " '        lowercase=True, max_df=1.0, max_features=None, min_df=1,\\n'\n",
      " \"        ngram_range=(1, 1), norm='l2', preprocessor=None, smooth_idf=True,\\n\"\n",
      " '        stop_words=None, strip_accents=None, sublinear_tf=False,\\n'\n",
      " \"        token_pattern='(?u)\\\\\\\\b\\\\\\\\w\\\\\\\\w+\\\\\\\\b', tokenizer=None, \"\n",
      " 'use_idf=True,\\n'\n",
      " \"        vocabulary=None), 'PP_REMOVE_STOP_WORDS': True}\",)\n",
      "accuracy 0.8222811671087533\n",
      "f1 micro 0.8222811671087533\n",
      "precision micro 0.7116900843599828\n",
      "f1 macro 0.6556387077851291\n",
      "precision macro 0.5842172809315095\n",
      "f1 weighted 0.8056534246279448\n",
      "precision weighted 0.716633860808962\n",
      "timing:\n",
      "done in 43.67558288574219 ( loading: 6.93015718460083 , pre-processing: 24.070067882537842 , vectorizing: 1.1179537773132324 , training: 10.26923155784607 , checking metrics 1.222559928894043 , rendering metrics 0.0656125545501709 )\n",
      "------------------------------------------------------\n",
      "1535007133.461903\n",
      "(\"MLPClassifier(alpha=1, max_iter=500): {'PP_FIX_LT': True, \"\n",
      " \"'NUM_TOP_WORDS_TO_TAKE': -1, 'MODEL': MLPClassifier(activation='relu', \"\n",
      " \"alpha=1, batch_size='auto', beta_1=0.9,\\n\"\n",
      " '       beta_2=0.999, early_stopping=False, epsilon=1e-08,\\n'\n",
      " \"       hidden_layer_sizes=(100,), learning_rate='constant',\\n\"\n",
      " '       learning_rate_init=0.001, max_iter=500, momentum=0.9,\\n'\n",
      " '       nesterovs_momentum=True, power_t=0.5, random_state=None,\\n'\n",
      " \"       shuffle=True, solver='adam', tol=0.0001, validation_fraction=0.1,\\n\"\n",
      " \"       verbose=False, warm_start=False), 'TOPICS': ['money.fx', 'crude', \"\n",
      " \"'grain', 'trade', 'interest'], 'PP_REMOVE_REUTER': True, 'PP_NUMERIC': \"\n",
      " \"'PP_REPLACE_NUMERIC_WITH_LITERAL', 'PP_COMPACT_WHITESPACE': True, \"\n",
      " \"'PP_LOWER_CASE': True, 'PP_STRIP_PUNCTUATION': True, 'PP_STEM': \"\n",
      " \"'PP_STEM_LANCASTER', 'RARE_WORDS': 'RARE_WORDS_AS_IS', 'VECTORIZER': \"\n",
      " \"TfidfVectorizer(analyzer='word', binary=False, decode_error='strict',\\n\"\n",
      " \"        dtype=<class 'numpy.int64'>, encoding='utf-8', input='content',\\n\"\n",
      " '        lowercase=True, max_df=1.0, max_features=None, min_df=1,\\n'\n",
      " \"        ngram_range=(1, 2), norm='l2', preprocessor=None, smooth_idf=True,\\n\"\n",
      " '        stop_words=None, strip_accents=None, sublinear_tf=False,\\n'\n",
      " \"        token_pattern='(?u)\\\\\\\\b\\\\\\\\w\\\\\\\\w+\\\\\\\\b', tokenizer=None, \"\n",
      " 'use_idf=True,\\n'\n",
      " \"        vocabulary=None), 'PP_REMOVE_STOP_WORDS': True}\",)\n"
     ]
    },
    {
     "name": "stderr",
     "output_type": "stream",
     "text": [
      "/home/flint/dev/rtc/ve/lib/python3.5/site-packages/sklearn/metrics/classification.py:1135: UndefinedMetricWarning: F-score is ill-defined and being set to 0.0 in labels with no predicted samples.\n",
      "  'precision', 'predicted', average, warn_for)\n"
     ]
    }
   ],
   "source": [
    "for pp_remove_reuter in [ True, False ]:\n",
    "    for pp_fix_lt in [ True, False ]:\n",
    "        for pp_lower_case in [ True, False ]:\n",
    "            for pp_strip_punctuation in [ True, False ]:\n",
    "                for pp_remove_stop_words in [ True, False ]:\n",
    "                    for pp_compact_whitespace in [ True ]: # , False ]:\n",
    "                        for pp_numeric in [ PP_REPLACE_NUMERIC_WITH_LITERAL, PP_NUMERIC_DROP, PP_NUMERIC_AS_IS ]:\n",
    "                            for pp_stem in [ PP_STEM_LANCASTER, PP_STEM_PORTER ]: #, PP_LEMMATIZE ]:\n",
    "                                for num_top_words_to_take in [ -1, 3000, 6000, 12000 ]:\n",
    "                                    for rare_words in ([ RARE_WORDS_REPLACE, RARE_WORDS_DROP ] if num_top_words_to_take > 0 else [ RARE_WORDS_AS_IS ]):\n",
    "                                        for vectorizer in [\n",
    "                                            CountVectorizer(),\n",
    "                                            TfidfVectorizer(ngram_range = (1, 1)),\n",
    "                                            TfidfVectorizer(ngram_range = (1, 2)),\n",
    "                                            TfidfVectorizer(ngram_range = (1, 3)),\n",
    "                                        ]:\n",
    "                                            for case_name, model in [\n",
    "                                                (\"MLPClassifier(alpha=1, max_iter=500)\", MLPClassifier(alpha=1, max_iter=500)),\n",
    "                                                (\"LogisticRegression(multi_class='multinomial', solver='lbfgs')\", LogisticRegression(multi_class='multinomial', solver='lbfgs')),\n",
    "                                                (\"MultinomialNB()\", MultinomialNB()),\n",
    "                                                (\"KNeighborsClassifier(15)\", KNeighborsClassifier(15)),\n",
    "                                                (\"SVC(kernel='linear', C=0.025)\", SVC(kernel='linear', C=0.025)),\n",
    "                                                (\"SVC(gamma=2, C=1)\", SVC(gamma=2, C=1)),\n",
    "                                                (\"DecisionTreeClassifier(max_depth=50)\", DecisionTreeClassifier(max_depth=50)),\n",
    "                                                (\"RandomForestClassifier(max_depth=50, n_estimators=1000, max_features=1)\", RandomForestClassifier(max_depth=50, n_estimators=1000, max_features=1)),\n",
    "                                            ]:\n",
    "                                                params = {\n",
    "                                                    MODEL : model,\n",
    "                                                    VECTORIZER : vectorizer,\n",
    "                                                    TOPICS : [ 'money.fx', 'crude', 'grain', 'trade', 'interest', ],\n",
    "                                                    PP_LOWER_CASE : pp_lower_case,\n",
    "                                                    PP_FIX_LT : pp_fix_lt,\n",
    "                                                    PP_REMOVE_REUTER : pp_remove_reuter,\n",
    "                                                    PP_STRIP_PUNCTUATION : pp_strip_punctuation,\n",
    "                                                    PP_REMOVE_STOP_WORDS : pp_remove_stop_words,\n",
    "                                                    PP_COMPACT_WHITESPACE : pp_compact_whitespace,\n",
    "                                                    PP_NUMERIC: pp_numeric,\n",
    "                                                    PP_STEM : pp_stem,\n",
    "                                                    RARE_WORDS : rare_words,\n",
    "                                                    NUM_TOP_WORDS_TO_TAKE : num_top_words_to_take,\n",
    "                                                }\n",
    "                                                params[CASE_NAME] = case_name + ': {0}'.format(params),\n",
    "                                                run(params)                            "
   ]
  },
  {
   "cell_type": "code",
   "execution_count": null,
   "metadata": {},
   "outputs": [],
   "source": []
  }
 ],
 "metadata": {
  "kernelspec": {
   "display_name": "Python 3",
   "language": "python",
   "name": "python3"
  },
  "language_info": {
   "codemirror_mode": {
    "name": "ipython",
    "version": 3
   },
   "file_extension": ".py",
   "mimetype": "text/x-python",
   "name": "python",
   "nbconvert_exporter": "python",
   "pygments_lexer": "ipython3",
   "version": "3.5.2"
  }
 },
 "nbformat": 4,
 "nbformat_minor": 2
}
