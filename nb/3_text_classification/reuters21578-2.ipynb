{
 "cells": [
  {
   "cell_type": "code",
   "execution_count": 3,
   "metadata": {},
   "outputs": [],
   "source": [
    "import pandas as pd\n",
    "\n",
    "import numpy as np\n",
    "import matplotlib.pyplot as plt\n",
    "\n",
    "import sys\n",
    "\n",
    "import re\n",
    "from pprint import pprint\n",
    "from scipy import interp\n",
    "from scipy import sparse\n",
    "from itertools import cycle\n",
    "\n",
    "import time\n",
    "\n",
    "from nltk.corpus import stopwords\n",
    "\n",
    "from nltk.stem.porter import *\n",
    "from nltk.stem.lancaster import *\n",
    "from nltk.stem.wordnet import *\n",
    "\n",
    "from sklearn.model_selection import train_test_split\n",
    "\n",
    "from sklearn.feature_extraction.text import TfidfVectorizer, CountVectorizer\n",
    "from sklearn.preprocessing import label_binarize\n",
    "from sklearn.preprocessing import MultiLabelBinarizer\n",
    "\n",
    "from sklearn.multiclass import OneVsRestClassifier\n",
    "from sklearn.linear_model import LogisticRegression\n",
    "from sklearn.linear_model import SGDClassifier\n",
    "from sklearn.linear_model import PassiveAggressiveClassifier\n",
    "from sklearn.linear_model import Perceptron\n",
    "from sklearn.naive_bayes import MultinomialNB\n",
    "from sklearn.neural_network import MLPClassifier\n",
    "from sklearn.neighbors import KNeighborsClassifier\n",
    "from sklearn.svm import SVC\n",
    "from sklearn.gaussian_process.kernels import RBF\n",
    "from sklearn.tree import DecisionTreeClassifier\n",
    "from sklearn.ensemble import RandomForestClassifier\n",
    "from sklearn.naive_bayes import GaussianNB\n",
    "\n",
    "from sklearn.metrics import accuracy_score\n",
    "from sklearn.metrics import f1_score\n",
    "from sklearn.metrics import roc_auc_score \n",
    "from sklearn.metrics import average_precision_score\n",
    "from sklearn.metrics import recall_score\n",
    "from sklearn.metrics import roc_curve, auc"
   ]
  },
  {
   "cell_type": "code",
   "execution_count": 4,
   "metadata": {},
   "outputs": [],
   "source": [
    "random_state = 7"
   ]
  },
  {
   "cell_type": "markdown",
   "metadata": {},
   "source": [
    "# Load Data"
   ]
  },
  {
   "cell_type": "code",
   "execution_count": 5,
   "metadata": {},
   "outputs": [],
   "source": [
    "reuters_path = '~/dev/rtc/data/text/reuters21578'"
   ]
  },
  {
   "cell_type": "code",
   "execution_count": 6,
   "metadata": {},
   "outputs": [],
   "source": [
    "# https://raw.githubusercontent.com/ZhibingChen/DM-Reuters21578/master/reutersCSV.csv\n",
    "csv_df = pd.read_csv(reuters_path + '/reutersCSV.csv', encoding='iso-8859-1', keep_default_na=False)"
   ]
  },
  {
   "cell_type": "code",
   "execution_count": 7,
   "metadata": {},
   "outputs": [
    {
     "data": {
      "text/html": [
       "<div>\n",
       "<style scoped>\n",
       "    .dataframe tbody tr th:only-of-type {\n",
       "        vertical-align: middle;\n",
       "    }\n",
       "\n",
       "    .dataframe tbody tr th {\n",
       "        vertical-align: top;\n",
       "    }\n",
       "\n",
       "    .dataframe thead th {\n",
       "        text-align: right;\n",
       "    }\n",
       "</style>\n",
       "<table border=\"1\" class=\"dataframe\">\n",
       "  <thead>\n",
       "    <tr style=\"text-align: right;\">\n",
       "      <th></th>\n",
       "      <th>pid</th>\n",
       "      <th>fileName</th>\n",
       "      <th>purpose</th>\n",
       "      <th>topic.acq</th>\n",
       "      <th>topic.alum</th>\n",
       "      <th>topic.austdlr</th>\n",
       "      <th>topic.austral</th>\n",
       "      <th>topic.barley</th>\n",
       "      <th>topic.bfr</th>\n",
       "      <th>topic.bop</th>\n",
       "      <th>...</th>\n",
       "      <th>topic.tung</th>\n",
       "      <th>topic.tung.oil</th>\n",
       "      <th>topic.veg.oil</th>\n",
       "      <th>topic.wheat</th>\n",
       "      <th>topic.wool</th>\n",
       "      <th>topic.wpi</th>\n",
       "      <th>topic.yen</th>\n",
       "      <th>topic.zinc</th>\n",
       "      <th>doc.title</th>\n",
       "      <th>doc.text</th>\n",
       "    </tr>\n",
       "  </thead>\n",
       "  <tbody>\n",
       "    <tr>\n",
       "      <th>0</th>\n",
       "      <td>1</td>\n",
       "      <td>0</td>\n",
       "      <td>train</td>\n",
       "      <td>0</td>\n",
       "      <td>0</td>\n",
       "      <td>0</td>\n",
       "      <td>0</td>\n",
       "      <td>0</td>\n",
       "      <td>0</td>\n",
       "      <td>0</td>\n",
       "      <td>...</td>\n",
       "      <td>0</td>\n",
       "      <td>0</td>\n",
       "      <td>0</td>\n",
       "      <td>0</td>\n",
       "      <td>0</td>\n",
       "      <td>0</td>\n",
       "      <td>0</td>\n",
       "      <td>0</td>\n",
       "      <td>BAHIA COCOA REVIEW</td>\n",
       "      <td>Showers continued throughout the week in the B...</td>\n",
       "    </tr>\n",
       "    <tr>\n",
       "      <th>1</th>\n",
       "      <td>2</td>\n",
       "      <td>0</td>\n",
       "      <td>train</td>\n",
       "      <td>0</td>\n",
       "      <td>0</td>\n",
       "      <td>0</td>\n",
       "      <td>0</td>\n",
       "      <td>0</td>\n",
       "      <td>0</td>\n",
       "      <td>0</td>\n",
       "      <td>...</td>\n",
       "      <td>0</td>\n",
       "      <td>0</td>\n",
       "      <td>0</td>\n",
       "      <td>0</td>\n",
       "      <td>0</td>\n",
       "      <td>0</td>\n",
       "      <td>0</td>\n",
       "      <td>0</td>\n",
       "      <td>STANDARD OIL &amp;lt;SRD&gt; TO FORM FINANCIAL UNIT</td>\n",
       "      <td>Standard Oil Co and BP North America Inc said ...</td>\n",
       "    </tr>\n",
       "    <tr>\n",
       "      <th>2</th>\n",
       "      <td>3</td>\n",
       "      <td>0</td>\n",
       "      <td>train</td>\n",
       "      <td>0</td>\n",
       "      <td>0</td>\n",
       "      <td>0</td>\n",
       "      <td>0</td>\n",
       "      <td>0</td>\n",
       "      <td>0</td>\n",
       "      <td>0</td>\n",
       "      <td>...</td>\n",
       "      <td>0</td>\n",
       "      <td>0</td>\n",
       "      <td>0</td>\n",
       "      <td>0</td>\n",
       "      <td>0</td>\n",
       "      <td>0</td>\n",
       "      <td>0</td>\n",
       "      <td>0</td>\n",
       "      <td>TEXAS COMMERCE BANCSHARES &amp;lt;TCB&gt; FILES PLAN</td>\n",
       "      <td>Texas Commerce Bancshares Inc's Texas Commerce...</td>\n",
       "    </tr>\n",
       "    <tr>\n",
       "      <th>3</th>\n",
       "      <td>4</td>\n",
       "      <td>0</td>\n",
       "      <td>train</td>\n",
       "      <td>0</td>\n",
       "      <td>0</td>\n",
       "      <td>0</td>\n",
       "      <td>0</td>\n",
       "      <td>0</td>\n",
       "      <td>0</td>\n",
       "      <td>0</td>\n",
       "      <td>...</td>\n",
       "      <td>0</td>\n",
       "      <td>0</td>\n",
       "      <td>0</td>\n",
       "      <td>0</td>\n",
       "      <td>0</td>\n",
       "      <td>0</td>\n",
       "      <td>0</td>\n",
       "      <td>0</td>\n",
       "      <td>TALKING POINT/BANKAMERICA &amp;lt;BAC&gt; EQUITY OFFER</td>\n",
       "      <td>BankAmerica Corp is not under pressure to act ...</td>\n",
       "    </tr>\n",
       "    <tr>\n",
       "      <th>4</th>\n",
       "      <td>5</td>\n",
       "      <td>0</td>\n",
       "      <td>train</td>\n",
       "      <td>0</td>\n",
       "      <td>0</td>\n",
       "      <td>0</td>\n",
       "      <td>0</td>\n",
       "      <td>1</td>\n",
       "      <td>0</td>\n",
       "      <td>0</td>\n",
       "      <td>...</td>\n",
       "      <td>0</td>\n",
       "      <td>0</td>\n",
       "      <td>0</td>\n",
       "      <td>1</td>\n",
       "      <td>0</td>\n",
       "      <td>0</td>\n",
       "      <td>0</td>\n",
       "      <td>0</td>\n",
       "      <td>NATIONAL AVERAGE PRICES FOR FARMER-OWNED RESERVE</td>\n",
       "      <td>The U.S. Agriculture Department reported the f...</td>\n",
       "    </tr>\n",
       "  </tbody>\n",
       "</table>\n",
       "<p>5 rows × 140 columns</p>\n",
       "</div>"
      ],
      "text/plain": [
       "   pid  fileName purpose  topic.acq  topic.alum  topic.austdlr  topic.austral  \\\n",
       "0    1         0   train          0           0              0              0   \n",
       "1    2         0   train          0           0              0              0   \n",
       "2    3         0   train          0           0              0              0   \n",
       "3    4         0   train          0           0              0              0   \n",
       "4    5         0   train          0           0              0              0   \n",
       "\n",
       "   topic.barley  topic.bfr  topic.bop  \\\n",
       "0             0          0          0   \n",
       "1             0          0          0   \n",
       "2             0          0          0   \n",
       "3             0          0          0   \n",
       "4             1          0          0   \n",
       "\n",
       "                         ...                          topic.tung  \\\n",
       "0                        ...                                   0   \n",
       "1                        ...                                   0   \n",
       "2                        ...                                   0   \n",
       "3                        ...                                   0   \n",
       "4                        ...                                   0   \n",
       "\n",
       "   topic.tung.oil  topic.veg.oil  topic.wheat  topic.wool  topic.wpi  \\\n",
       "0               0              0            0           0          0   \n",
       "1               0              0            0           0          0   \n",
       "2               0              0            0           0          0   \n",
       "3               0              0            0           0          0   \n",
       "4               0              0            1           0          0   \n",
       "\n",
       "   topic.yen  topic.zinc                                         doc.title  \\\n",
       "0          0           0                                BAHIA COCOA REVIEW   \n",
       "1          0           0      STANDARD OIL &lt;SRD> TO FORM FINANCIAL UNIT   \n",
       "2          0           0     TEXAS COMMERCE BANCSHARES &lt;TCB> FILES PLAN   \n",
       "3          0           0   TALKING POINT/BANKAMERICA &lt;BAC> EQUITY OFFER   \n",
       "4          0           0  NATIONAL AVERAGE PRICES FOR FARMER-OWNED RESERVE   \n",
       "\n",
       "                                            doc.text  \n",
       "0  Showers continued throughout the week in the B...  \n",
       "1  Standard Oil Co and BP North America Inc said ...  \n",
       "2  Texas Commerce Bancshares Inc's Texas Commerce...  \n",
       "3  BankAmerica Corp is not under pressure to act ...  \n",
       "4  The U.S. Agriculture Department reported the f...  \n",
       "\n",
       "[5 rows x 140 columns]"
      ]
     },
     "execution_count": 7,
     "metadata": {},
     "output_type": "execute_result"
    }
   ],
   "source": [
    "csv_df.head()"
   ]
  },
  {
   "cell_type": "markdown",
   "metadata": {},
   "source": [
    "#### Peek at texts"
   ]
  },
  {
   "cell_type": "code",
   "execution_count": 8,
   "metadata": {},
   "outputs": [
    {
     "name": "stdout",
     "output_type": "stream",
     "text": [
      "STANDARD OIL &lt;SRD> TO FORM FINANCIAL UNIT \n",
      "\n",
      " Standard Oil Co and BP North America Inc said they plan to form a venture to manage the money market borrowing and investment activities of both companies.     BP North America is a subsidiary of British Petroleum Co Plc &lt;BP>, which also owns a 55 pct interest in Standard Oil.     The venture will be called BP/Standard Financial Trading and will be operated by Standard Oil under the oversight of a joint management committee.   Reuter \n"
     ]
    }
   ],
   "source": [
    "# 1 -- 5\n",
    "(title, text) = csv_df.iloc[1][['doc.title', 'doc.text']]\n",
    "print(title, '\\n\\n', text)"
   ]
  },
  {
   "cell_type": "markdown",
   "metadata": {},
   "source": [
    "#### Topics"
   ]
  },
  {
   "cell_type": "code",
   "execution_count": 9,
   "metadata": {},
   "outputs": [
    {
     "name": "stdout",
     "output_type": "stream",
     "text": [
      "\n",
      " num topics: 135\n"
     ]
    },
    {
     "data": {
      "text/html": [
       "<div>\n",
       "<style scoped>\n",
       "    .dataframe tbody tr th:only-of-type {\n",
       "        vertical-align: middle;\n",
       "    }\n",
       "\n",
       "    .dataframe tbody tr th {\n",
       "        vertical-align: top;\n",
       "    }\n",
       "\n",
       "    .dataframe thead th {\n",
       "        text-align: right;\n",
       "    }\n",
       "</style>\n",
       "<table border=\"1\" class=\"dataframe\">\n",
       "  <thead>\n",
       "    <tr style=\"text-align: right;\">\n",
       "      <th></th>\n",
       "      <th>topic name</th>\n",
       "    </tr>\n",
       "  </thead>\n",
       "  <tbody>\n",
       "    <tr>\n",
       "      <th>0</th>\n",
       "      <td>acq</td>\n",
       "    </tr>\n",
       "    <tr>\n",
       "      <th>1</th>\n",
       "      <td>alum</td>\n",
       "    </tr>\n",
       "    <tr>\n",
       "      <th>2</th>\n",
       "      <td>austdlr</td>\n",
       "    </tr>\n",
       "    <tr>\n",
       "      <th>3</th>\n",
       "      <td>austral</td>\n",
       "    </tr>\n",
       "    <tr>\n",
       "      <th>4</th>\n",
       "      <td>barley</td>\n",
       "    </tr>\n",
       "    <tr>\n",
       "      <th>5</th>\n",
       "      <td>bfr</td>\n",
       "    </tr>\n",
       "    <tr>\n",
       "      <th>6</th>\n",
       "      <td>bop</td>\n",
       "    </tr>\n",
       "    <tr>\n",
       "      <th>7</th>\n",
       "      <td>can</td>\n",
       "    </tr>\n",
       "    <tr>\n",
       "      <th>8</th>\n",
       "      <td>carcass</td>\n",
       "    </tr>\n",
       "    <tr>\n",
       "      <th>9</th>\n",
       "      <td>castor.meal</td>\n",
       "    </tr>\n",
       "    <tr>\n",
       "      <th>10</th>\n",
       "      <td>castor.oil</td>\n",
       "    </tr>\n",
       "    <tr>\n",
       "      <th>11</th>\n",
       "      <td>castorseed</td>\n",
       "    </tr>\n",
       "    <tr>\n",
       "      <th>12</th>\n",
       "      <td>citruspulp</td>\n",
       "    </tr>\n",
       "    <tr>\n",
       "      <th>13</th>\n",
       "      <td>cocoa</td>\n",
       "    </tr>\n",
       "    <tr>\n",
       "      <th>14</th>\n",
       "      <td>coconut</td>\n",
       "    </tr>\n",
       "  </tbody>\n",
       "</table>\n",
       "</div>"
      ],
      "text/plain": [
       "     topic name\n",
       "0           acq\n",
       "1          alum\n",
       "2       austdlr\n",
       "3       austral\n",
       "4        barley\n",
       "5           bfr\n",
       "6           bop\n",
       "7           can\n",
       "8       carcass\n",
       "9   castor.meal\n",
       "10   castor.oil\n",
       "11   castorseed\n",
       "12   citruspulp\n",
       "13        cocoa\n",
       "14      coconut"
      ]
     },
     "execution_count": 9,
     "metadata": {},
     "output_type": "execute_result"
    }
   ],
   "source": [
    "all_topics = [ re.sub('topic\\.', '', col) for col in csv_df.columns if col.startswith('topic.') ]\n",
    "print('\\n', 'num topics:', len(all_topics))\n",
    "pd.DataFrame(all_topics, columns=['topic name']).head(15)"
   ]
  },
  {
   "cell_type": "markdown",
   "metadata": {},
   "source": [
    "### Prepare topics -- the labels we are going to predict\n",
    "\n",
    "Add them to a dataframe in two ways"
   ]
  },
  {
   "cell_type": "markdown",
   "metadata": {},
   "source": [
    "#### 1) As lists of zeros and ones -- for humans to read,"
   ]
  },
  {
   "cell_type": "code",
   "execution_count": 10,
   "metadata": {},
   "outputs": [],
   "source": [
    "topics_binarized = np.array(csv_df.values[:,3:-3])"
   ]
  },
  {
   "cell_type": "markdown",
   "metadata": {},
   "source": [
    "#### 2) As lists of strings -- for multi-label classifiers."
   ]
  },
  {
   "cell_type": "code",
   "execution_count": 11,
   "metadata": {},
   "outputs": [],
   "source": [
    "def topic_list_from_binarized(binarized):\n",
    "    return [ topic for (has, topic) in zip(binarized, all_topics) if has == 1 ]\n",
    "\n",
    "topic_lists = [ topic_list_from_binarized(binarized) for binarized in topics_binarized ]"
   ]
  },
  {
   "cell_type": "markdown",
   "metadata": {},
   "source": [
    "#### Combine all"
   ]
  },
  {
   "cell_type": "code",
   "execution_count": 12,
   "metadata": {},
   "outputs": [
    {
     "data": {
      "text/html": [
       "<div>\n",
       "<style scoped>\n",
       "    .dataframe tbody tr th:only-of-type {\n",
       "        vertical-align: middle;\n",
       "    }\n",
       "\n",
       "    .dataframe tbody tr th {\n",
       "        vertical-align: top;\n",
       "    }\n",
       "\n",
       "    .dataframe thead th {\n",
       "        text-align: right;\n",
       "    }\n",
       "</style>\n",
       "<table border=\"1\" class=\"dataframe\">\n",
       "  <thead>\n",
       "    <tr style=\"text-align: right;\">\n",
       "      <th></th>\n",
       "      <th>pid</th>\n",
       "      <th>purpose</th>\n",
       "      <th>doc.title</th>\n",
       "      <th>doc.text</th>\n",
       "      <th>topic_list</th>\n",
       "      <th>topics_binarized</th>\n",
       "      <th>num_topics</th>\n",
       "    </tr>\n",
       "  </thead>\n",
       "  <tbody>\n",
       "    <tr>\n",
       "      <th>0</th>\n",
       "      <td>1</td>\n",
       "      <td>train</td>\n",
       "      <td>BAHIA COCOA REVIEW</td>\n",
       "      <td>Showers continued throughout the week in the B...</td>\n",
       "      <td>[cocoa]</td>\n",
       "      <td>[0, 0, 0, 0, 0, 0, 0, 0, 0, 0, 0, 0, 0, 1, 0, ...</td>\n",
       "      <td>1</td>\n",
       "    </tr>\n",
       "    <tr>\n",
       "      <th>1</th>\n",
       "      <td>2</td>\n",
       "      <td>train</td>\n",
       "      <td>STANDARD OIL &amp;lt;SRD&gt; TO FORM FINANCIAL UNIT</td>\n",
       "      <td>Standard Oil Co and BP North America Inc said ...</td>\n",
       "      <td>[]</td>\n",
       "      <td>[0, 0, 0, 0, 0, 0, 0, 0, 0, 0, 0, 0, 0, 0, 0, ...</td>\n",
       "      <td>0</td>\n",
       "    </tr>\n",
       "    <tr>\n",
       "      <th>2</th>\n",
       "      <td>3</td>\n",
       "      <td>train</td>\n",
       "      <td>TEXAS COMMERCE BANCSHARES &amp;lt;TCB&gt; FILES PLAN</td>\n",
       "      <td>Texas Commerce Bancshares Inc's Texas Commerce...</td>\n",
       "      <td>[]</td>\n",
       "      <td>[0, 0, 0, 0, 0, 0, 0, 0, 0, 0, 0, 0, 0, 0, 0, ...</td>\n",
       "      <td>0</td>\n",
       "    </tr>\n",
       "    <tr>\n",
       "      <th>3</th>\n",
       "      <td>4</td>\n",
       "      <td>train</td>\n",
       "      <td>TALKING POINT/BANKAMERICA &amp;lt;BAC&gt; EQUITY OFFER</td>\n",
       "      <td>BankAmerica Corp is not under pressure to act ...</td>\n",
       "      <td>[]</td>\n",
       "      <td>[0, 0, 0, 0, 0, 0, 0, 0, 0, 0, 0, 0, 0, 0, 0, ...</td>\n",
       "      <td>0</td>\n",
       "    </tr>\n",
       "    <tr>\n",
       "      <th>4</th>\n",
       "      <td>5</td>\n",
       "      <td>train</td>\n",
       "      <td>NATIONAL AVERAGE PRICES FOR FARMER-OWNED RESERVE</td>\n",
       "      <td>The U.S. Agriculture Department reported the f...</td>\n",
       "      <td>[barley, corn, grain, oat, sorghum, wheat]</td>\n",
       "      <td>[0, 0, 0, 0, 1, 0, 0, 0, 0, 0, 0, 0, 0, 0, 0, ...</td>\n",
       "      <td>6</td>\n",
       "    </tr>\n",
       "  </tbody>\n",
       "</table>\n",
       "</div>"
      ],
      "text/plain": [
       "   pid purpose                                         doc.title  \\\n",
       "0    1   train                                BAHIA COCOA REVIEW   \n",
       "1    2   train      STANDARD OIL &lt;SRD> TO FORM FINANCIAL UNIT   \n",
       "2    3   train     TEXAS COMMERCE BANCSHARES &lt;TCB> FILES PLAN   \n",
       "3    4   train   TALKING POINT/BANKAMERICA &lt;BAC> EQUITY OFFER   \n",
       "4    5   train  NATIONAL AVERAGE PRICES FOR FARMER-OWNED RESERVE   \n",
       "\n",
       "                                            doc.text  \\\n",
       "0  Showers continued throughout the week in the B...   \n",
       "1  Standard Oil Co and BP North America Inc said ...   \n",
       "2  Texas Commerce Bancshares Inc's Texas Commerce...   \n",
       "3  BankAmerica Corp is not under pressure to act ...   \n",
       "4  The U.S. Agriculture Department reported the f...   \n",
       "\n",
       "                                   topic_list  \\\n",
       "0                                     [cocoa]   \n",
       "1                                          []   \n",
       "2                                          []   \n",
       "3                                          []   \n",
       "4  [barley, corn, grain, oat, sorghum, wheat]   \n",
       "\n",
       "                                    topics_binarized  num_topics  \n",
       "0  [0, 0, 0, 0, 0, 0, 0, 0, 0, 0, 0, 0, 0, 1, 0, ...           1  \n",
       "1  [0, 0, 0, 0, 0, 0, 0, 0, 0, 0, 0, 0, 0, 0, 0, ...           0  \n",
       "2  [0, 0, 0, 0, 0, 0, 0, 0, 0, 0, 0, 0, 0, 0, 0, ...           0  \n",
       "3  [0, 0, 0, 0, 0, 0, 0, 0, 0, 0, 0, 0, 0, 0, 0, ...           0  \n",
       "4  [0, 0, 0, 0, 1, 0, 0, 0, 0, 0, 0, 0, 0, 0, 0, ...           6  "
      ]
     },
     "execution_count": 12,
     "metadata": {},
     "output_type": "execute_result"
    }
   ],
   "source": [
    "df = csv_df[[ 'pid', 'purpose', 'doc.title', 'doc.text' ]]\n",
    "df = df.assign(topic_list = topic_lists)\n",
    "df = df.assign(topics_binarized = topics_binarized.tolist())\n",
    "df = df.assign(num_topics = np.array([ len(lst) for lst in topic_lists ]))\n",
    "df.head()"
   ]
  },
  {
   "cell_type": "markdown",
   "metadata": {},
   "source": [
    "### Keep only a few good topics and only single-topic docs"
   ]
  },
  {
   "cell_type": "code",
   "execution_count": null,
   "metadata": {},
   "outputs": [],
   "source": [
    "roughly_even_topics = [\n",
    "    'money.fx',\n",
    "    'crude',\n",
    "    'grain',\n",
    "    'trade',\n",
    "    'interest',\n",
    "]\n",
    "all_topics = roughly_even_topics"
   ]
  },
  {
   "cell_type": "markdown",
   "metadata": {},
   "source": [
    "#### Later we will need a special binary representation of labels\n",
    "For compatibility with library functions that calculate metrics"
   ]
  },
  {
   "cell_type": "code",
   "execution_count": null,
   "metadata": {},
   "outputs": [],
   "source": [
    "roughly_even_topics_set = set(roughly_even_topics)\n",
    "df = df[df.apply(\n",
    "    lambda row: len(row['topic_list']) == 1 and set(row['topic_list']).issubset(roughly_even_topics_set),\n",
    "    axis = 1\n",
    ")]"
   ]
  },
  {
   "cell_type": "code",
   "execution_count": null,
   "metadata": {},
   "outputs": [],
   "source": [
    "binarizer = MultiLabelBinarizer(classes = roughly_even_topics)"
   ]
  },
  {
   "cell_type": "code",
   "execution_count": null,
   "metadata": {},
   "outputs": [],
   "source": [
    "topic_lists = df.apply(lambda row : row['topic_list'][0], axis = 1).values.reshape(len(df), 1)\n",
    "roughly_even_topics_binarized = binarizer.fit_transform(topic_lists)\n",
    "roughly_even_topics_binarized[:5]"
   ]
  },
  {
   "cell_type": "code",
   "execution_count": null,
   "metadata": {},
   "outputs": [],
   "source": [
    "df = df.assign(topics_binarized = roughly_even_topics_binarized.tolist())"
   ]
  },
  {
   "cell_type": "markdown",
   "metadata": {},
   "source": [
    "### So the data we will use is..."
   ]
  },
  {
   "cell_type": "code",
   "execution_count": 13,
   "metadata": {},
   "outputs": [],
   "source": [
    "df_train = df[df['purpose'] == 'train']\n",
    "df_test = df[df['purpose'] == 'test']"
   ]
  },
  {
   "cell_type": "code",
   "execution_count": 14,
   "metadata": {},
   "outputs": [],
   "source": [
    "n_classes = len(all_topics)"
   ]
  },
  {
   "cell_type": "code",
   "execution_count": 15,
   "metadata": {},
   "outputs": [
    {
     "name": "stdout",
     "output_type": "stream",
     "text": [
      "total docs 21578\n",
      "num train examples 14668\n",
      "num test examples 6188\n"
     ]
    },
    {
     "data": {
      "text/html": [
       "<div>\n",
       "<style scoped>\n",
       "    .dataframe tbody tr th:only-of-type {\n",
       "        vertical-align: middle;\n",
       "    }\n",
       "\n",
       "    .dataframe tbody tr th {\n",
       "        vertical-align: top;\n",
       "    }\n",
       "\n",
       "    .dataframe thead th {\n",
       "        text-align: right;\n",
       "    }\n",
       "</style>\n",
       "<table border=\"1\" class=\"dataframe\">\n",
       "  <thead>\n",
       "    <tr style=\"text-align: right;\">\n",
       "      <th></th>\n",
       "      <th>pid</th>\n",
       "      <th>purpose</th>\n",
       "      <th>doc.title</th>\n",
       "      <th>doc.text</th>\n",
       "      <th>topic_list</th>\n",
       "      <th>topics_binarized</th>\n",
       "      <th>num_topics</th>\n",
       "    </tr>\n",
       "  </thead>\n",
       "  <tbody>\n",
       "    <tr>\n",
       "      <th>0</th>\n",
       "      <td>1</td>\n",
       "      <td>train</td>\n",
       "      <td>BAHIA COCOA REVIEW</td>\n",
       "      <td>Showers continued throughout the week in the B...</td>\n",
       "      <td>[cocoa]</td>\n",
       "      <td>[0, 0, 0, 0, 0, 0, 0, 0, 0, 0, 0, 0, 0, 1, 0, ...</td>\n",
       "      <td>1</td>\n",
       "    </tr>\n",
       "    <tr>\n",
       "      <th>1</th>\n",
       "      <td>2</td>\n",
       "      <td>train</td>\n",
       "      <td>STANDARD OIL &amp;lt;SRD&gt; TO FORM FINANCIAL UNIT</td>\n",
       "      <td>Standard Oil Co and BP North America Inc said ...</td>\n",
       "      <td>[]</td>\n",
       "      <td>[0, 0, 0, 0, 0, 0, 0, 0, 0, 0, 0, 0, 0, 0, 0, ...</td>\n",
       "      <td>0</td>\n",
       "    </tr>\n",
       "    <tr>\n",
       "      <th>2</th>\n",
       "      <td>3</td>\n",
       "      <td>train</td>\n",
       "      <td>TEXAS COMMERCE BANCSHARES &amp;lt;TCB&gt; FILES PLAN</td>\n",
       "      <td>Texas Commerce Bancshares Inc's Texas Commerce...</td>\n",
       "      <td>[]</td>\n",
       "      <td>[0, 0, 0, 0, 0, 0, 0, 0, 0, 0, 0, 0, 0, 0, 0, ...</td>\n",
       "      <td>0</td>\n",
       "    </tr>\n",
       "    <tr>\n",
       "      <th>3</th>\n",
       "      <td>4</td>\n",
       "      <td>train</td>\n",
       "      <td>TALKING POINT/BANKAMERICA &amp;lt;BAC&gt; EQUITY OFFER</td>\n",
       "      <td>BankAmerica Corp is not under pressure to act ...</td>\n",
       "      <td>[]</td>\n",
       "      <td>[0, 0, 0, 0, 0, 0, 0, 0, 0, 0, 0, 0, 0, 0, 0, ...</td>\n",
       "      <td>0</td>\n",
       "    </tr>\n",
       "    <tr>\n",
       "      <th>4</th>\n",
       "      <td>5</td>\n",
       "      <td>train</td>\n",
       "      <td>NATIONAL AVERAGE PRICES FOR FARMER-OWNED RESERVE</td>\n",
       "      <td>The U.S. Agriculture Department reported the f...</td>\n",
       "      <td>[barley, corn, grain, oat, sorghum, wheat]</td>\n",
       "      <td>[0, 0, 0, 0, 1, 0, 0, 0, 0, 0, 0, 0, 0, 0, 0, ...</td>\n",
       "      <td>6</td>\n",
       "    </tr>\n",
       "  </tbody>\n",
       "</table>\n",
       "</div>"
      ],
      "text/plain": [
       "   pid purpose                                         doc.title  \\\n",
       "0    1   train                                BAHIA COCOA REVIEW   \n",
       "1    2   train      STANDARD OIL &lt;SRD> TO FORM FINANCIAL UNIT   \n",
       "2    3   train     TEXAS COMMERCE BANCSHARES &lt;TCB> FILES PLAN   \n",
       "3    4   train   TALKING POINT/BANKAMERICA &lt;BAC> EQUITY OFFER   \n",
       "4    5   train  NATIONAL AVERAGE PRICES FOR FARMER-OWNED RESERVE   \n",
       "\n",
       "                                            doc.text  \\\n",
       "0  Showers continued throughout the week in the B...   \n",
       "1  Standard Oil Co and BP North America Inc said ...   \n",
       "2  Texas Commerce Bancshares Inc's Texas Commerce...   \n",
       "3  BankAmerica Corp is not under pressure to act ...   \n",
       "4  The U.S. Agriculture Department reported the f...   \n",
       "\n",
       "                                   topic_list  \\\n",
       "0                                     [cocoa]   \n",
       "1                                          []   \n",
       "2                                          []   \n",
       "3                                          []   \n",
       "4  [barley, corn, grain, oat, sorghum, wheat]   \n",
       "\n",
       "                                    topics_binarized  num_topics  \n",
       "0  [0, 0, 0, 0, 0, 0, 0, 0, 0, 0, 0, 0, 0, 1, 0, ...           1  \n",
       "1  [0, 0, 0, 0, 0, 0, 0, 0, 0, 0, 0, 0, 0, 0, 0, ...           0  \n",
       "2  [0, 0, 0, 0, 0, 0, 0, 0, 0, 0, 0, 0, 0, 0, 0, ...           0  \n",
       "3  [0, 0, 0, 0, 0, 0, 0, 0, 0, 0, 0, 0, 0, 0, 0, ...           0  \n",
       "4  [0, 0, 0, 0, 1, 0, 0, 0, 0, 0, 0, 0, 0, 0, 0, ...           6  "
      ]
     },
     "execution_count": 15,
     "metadata": {},
     "output_type": "execute_result"
    }
   ],
   "source": [
    "print('total docs', len(df))\n",
    "print('num train examples', len(df_train))\n",
    "print('num test examples', len(df_test))\n",
    "df.head()"
   ]
  },
  {
   "cell_type": "markdown",
   "metadata": {},
   "source": [
    "### Some stats"
   ]
  },
  {
   "cell_type": "markdown",
   "metadata": {},
   "source": [
    "#### Num topics per document"
   ]
  },
  {
   "cell_type": "code",
   "execution_count": 16,
   "metadata": {},
   "outputs": [
    {
     "name": "stdout",
     "output_type": "stream",
     "text": [
      "total docs: 21578\n",
      "docs with at least one topic: 11324\n",
      "docs with more than one topic: 1859\n",
      "docs with more than two topics: 523\n",
      "docs with exactly one topic: 9465\n"
     ]
    },
    {
     "data": {
      "image/png": "[encoded data removed]",
      "text/plain": [
       "<Figure size 432x288 with 1 Axes>"
      ]
     },
     "metadata": {},
     "output_type": "display_data"
    }
   ],
   "source": [
    "fig, ax = plt.subplots()\n",
    "ax.set_yscale('log')\n",
    "\n",
    "df[['num_topics']].hist(ax = ax)\n",
    "\n",
    "print('total docs:', len(df))\n",
    "print('docs with at least one topic:', len(df[df['num_topics'] > 0]))\n",
    "print('docs with more than one topic:', len(df[df['num_topics'] > 1]))\n",
    "print('docs with more than two topics:', len(df[df['num_topics'] > 2]))\n",
    "print('docs with exactly one topic:', len(df[df['num_topics'] == 1]))"
   ]
  },
  {
   "cell_type": "markdown",
   "metadata": {},
   "source": [
    "#### Num documents per topic"
   ]
  },
  {
   "cell_type": "markdown",
   "metadata": {},
   "source": [
    "##### Calculate"
   ]
  },
  {
   "cell_type": "code",
   "execution_count": 17,
   "metadata": {},
   "outputs": [],
   "source": [
    "really_want_to_recalc_num_docs_by_topic = True\n",
    "if really_want_to_recalc_num_docs_by_topic:\n",
    "    num_docs_by_topic = df.from_records(\n",
    "        data = [ \n",
    "            (topic, len(df[df.apply(lambda row: topic in row['topic_list'], axis=1)]))\n",
    "            for topic in all_topics\n",
    "        ],\n",
    "        columns = [ 'topic', 'num_docs' ]\n",
    "    ).sort_values('num_docs', ascending = False)\n",
    "    # beware not to overwrite data that is costly to compute again\n",
    "    # num_docs_by_topic.to_csv(reuters_path + '/num_docs_by_topic.csv', index = False)\n",
    "else:\n",
    "    num_docs_by_topic = pd.read_csv(reuters_path + '/num_docs_by_topic.csv')\n",
    "    num_docs_by_topic = num_docs_by_topic.sort_values('num_docs', ascending = False)"
   ]
  },
  {
   "cell_type": "markdown",
   "metadata": {},
   "source": [
    "##### Show"
   ]
  },
  {
   "cell_type": "code",
   "execution_count": 18,
   "metadata": {},
   "outputs": [
    {
     "data": {
      "text/plain": [
       "[Text(0,0.5,'num_docs')]"
      ]
     },
     "execution_count": 18,
     "metadata": {},
     "output_type": "execute_result"
    },
    {
     "data": {
      "image/png": "[encoded data removed]",
      "text/plain": [
       "<Figure size 1440x432 with 2 Axes>"
      ]
     },
     "metadata": {},
     "output_type": "display_data"
    }
   ],
   "source": [
    "fig, axs = plt.subplots(1, 2, figsize=(20, 6))\n",
    "axs[0].set_yscale('log')\n",
    "axs[0].set_title('all topics, log scale')\n",
    "axs[1].set_title('top topics, usual scale')\n",
    "pd.DataFrame(num_docs_by_topic[['num_docs']].values).plot(ax = axs[0]).set(xlabel = 'topic idx', ylabel = 'num_docs')\n",
    "num_docs_by_topic.head(10).plot(ax = axs[1], kind = 'bar', x = 'topic').set(ylabel = 'num_docs')"
   ]
  },
  {
   "cell_type": "markdown",
   "metadata": {},
   "source": [
    "#### Num words per document"
   ]
  },
  {
   "cell_type": "code",
   "execution_count": 19,
   "metadata": {},
   "outputs": [],
   "source": [
    "num_words = df[['doc.title', 'doc.text']].apply(\n",
    "    lambda row: len((row['doc.title'] + ' ' + row['doc.text']).split()),\n",
    "    axis = 1\n",
    ")"
   ]
  },
  {
   "cell_type": "code",
   "execution_count": 20,
   "metadata": {},
   "outputs": [
    {
     "data": {
      "text/plain": [
       "<matplotlib.axes._subplots.AxesSubplot at 0x7fcac0582f28>"
      ]
     },
     "execution_count": 20,
     "metadata": {},
     "output_type": "execute_result"
    },
    {
     "data": {
      "image/png": "[encoded data removed]",
      "text/plain": [
       "<Figure size 1440x432 with 2 Axes>"
      ]
     },
     "metadata": {},
     "output_type": "display_data"
    }
   ],
   "source": [
    "fig, axs = plt.subplots(1, 2, figsize=(20, 6))\n",
    "axs[0].set_yscale('log')\n",
    "axs[0].set_title('num words in docs, log scale')\n",
    "axs[1].set_title('num words in docs, usual scale')\n",
    "\n",
    "num_words.hist(ax = axs[0])\n",
    "num_words.hist(ax = axs[1])"
   ]
  },
  {
   "cell_type": "markdown",
   "metadata": {},
   "source": [
    "#### Total num distinct words and word counts"
   ]
  },
  {
   "cell_type": "code",
   "execution_count": 21,
   "metadata": {},
   "outputs": [],
   "source": [
    "def get_counts_by_word(docs):\n",
    "    word_counts = {}\n",
    "    for doc in docs:\n",
    "        for word in doc.split():\n",
    "            if len(word) > 0:\n",
    "                if word not in word_counts:\n",
    "                    word_counts[word] = 0\n",
    "                word_counts[word] += 1\n",
    "    return word_counts"
   ]
  },
  {
   "cell_type": "code",
   "execution_count": 22,
   "metadata": {},
   "outputs": [],
   "source": [
    "counts_by_word = get_counts_by_word(\n",
    "    df.apply(lambda row : row['doc.title'] + ' ' + row['doc.text'], axis = 1).values\n",
    ")"
   ]
  },
  {
   "cell_type": "code",
   "execution_count": 23,
   "metadata": {},
   "outputs": [
    {
     "data": {
      "text/plain": [
       "134890"
      ]
     },
     "execution_count": 23,
     "metadata": {},
     "output_type": "execute_result"
    }
   ],
   "source": [
    "len(counts_by_word.keys())"
   ]
  },
  {
   "cell_type": "markdown",
   "metadata": {},
   "source": [
    "## Create features\n",
    "\n",
    "The whole task actually revolves around how we represent the documents as vectors that can be fed to a classifier.\n",
    "\n",
    "Here we will use the Bag Of Words approach:\n",
    "\n",
    "1. split each text to tokens and create a set of all words of all texts -- the vocabulary,\n",
    "2. create a matrix in which rows correspond to docs and columns -- to words,\n",
    "3. fill the matrix with either of:\n",
    "  * 1 if the word is found in the doc and else 0,\n",
    "  * word count in doc,\n",
    "  * TF-IDF numbers.\n",
    "  \n",
    "Questions:\n",
    "\n",
    "1. How to split the text to tokens ? By whitespace ? Punctuation ? Some other way ?\n",
    "2. What if the words have different forms ?\n",
    "3. What if there are lots of different numbers ?\n",
    "4. What if there are common sequences of words, like \"United Kingdom\", \"Russian Federation\", \"United States of America\"\n",
    "5. What if there are lots of words like \"a\", \"the\", \"they\" etc. that appear in many documets ?"
   ]
  },
  {
   "cell_type": "markdown",
   "metadata": {},
   "source": [
    "### What do texts actually look like"
   ]
  },
  {
   "cell_type": "code",
   "execution_count": 24,
   "metadata": {},
   "outputs": [
    {
     "name": "stdout",
     "output_type": "stream",
     "text": [
      "STANDARD OIL &lt;SRD> TO FORM FINANCIAL UNIT \n",
      "\n",
      " Standard Oil Co and BP North America Inc said they plan to form a venture to manage the money market borrowing and investment activities of both companies.     BP North America is a subsidiary of British Petroleum Co Plc &lt;BP>, which also owns a 55 pct interest in Standard Oil.     The venture will be called BP/Standard Financial Trading and will be operated by Standard Oil under the oversight of a joint management committee.   Reuter \n"
     ]
    }
   ],
   "source": [
    "# in full dataset:\n",
    "# 1,2 -- have &lt; == '<' symbol (less than, a way to escape it in HTML)\n",
    "# 3   -- a lot of text\n",
    "# 4   -- a table of numbers\n",
    "# 5   -- a lot of numbers\n",
    "#\n",
    "# in truncated dataset:\n",
    "# 1   -- just regular text\n",
    "# 4   -- longer text\n",
    "# 5   -- only title\n",
    "# 6   -- has &lt; (see above) and some numbers\n",
    "# 100 -- has a table of some sort\n",
    "#\n",
    "# some words are upper case, some lower, some even mixed (doc 5)\n",
    "# a lot of punctuation\n",
    "# numbers are in different formats\n",
    "# Reuter word at the end of each document\n",
    "# some words are abbreviated\n",
    "\n",
    "(title, text) = df.iloc[1][['doc.title', 'doc.text']]\n",
    "print(title, '\\n\\n', text)"
   ]
  },
  {
   "cell_type": "markdown",
   "metadata": {},
   "source": [
    "### Pre-process text"
   ]
  },
  {
   "cell_type": "code",
   "execution_count": 25,
   "metadata": {},
   "outputs": [],
   "source": [
    "def lower_case(string):\n",
    "    return string.lower()\n",
    "\n",
    "def fix_lt(string):\n",
    "    # fix the HTML-escaped less-than sign\n",
    "    return re.sub(r'&lt;', '<', string)\n",
    "\n",
    "def remove_reuter(string):\n",
    "    # fix the HTML-escaped less-than sign\n",
    "    return re.sub(r'reuter$', '', string)\n",
    "\n",
    "def replace_non_alphanumeric_with_space(string):\n",
    "    # replace punctuation and different whitespace with space character\n",
    "    return re.sub(r'[^a-z0-9 ]', ' ', string)\n",
    "\n",
    "def strip_punctuation(string):\n",
    "    # remove punctuation\n",
    "    return re.sub(r'[^a-z0-9\\s]', ' ', string)\n",
    "\n",
    "def remove_stop_words(string, stop_words):\n",
    "    return ' '.join([ word for word in re.split(' ', string) if not word in stop_words ])\n",
    "\n",
    "def replace_numeric_with_literal(string):\n",
    "    return re.sub(r'([0-9]+ ?)+', '<num> ', string)\n",
    "\n",
    "def compact_whitespace(string):\n",
    "    return re.sub(r'\\s+', ' ', string)\n",
    "\n",
    "def stem(string, stemmer):\n",
    "    return ' '.join([ stemmer.stem(word) for word in re.split(' ', string) if not word in stop_words ])"
   ]
  },
  {
   "cell_type": "code",
   "execution_count": 26,
   "metadata": {},
   "outputs": [],
   "source": [
    "stop_words = stopwords.words('english')\n",
    "\n",
    "stemmer = LancasterStemmer()\n",
    "# stemmer = PorterStemmer()\n",
    "# stemmer = WordNetLemmatizer()"
   ]
  },
  {
   "cell_type": "code",
   "execution_count": 27,
   "metadata": {},
   "outputs": [],
   "source": [
    "def pre_process(string):\n",
    "    s = lower_case(string)\n",
    "    s = fix_lt(s)\n",
    "    s = remove_reuter(s)\n",
    "    s = strip_punctuation(s)\n",
    "    s = remove_stop_words(s, stop_words)\n",
    "    s = compact_whitespace(s)\n",
    "    s = replace_numeric_with_literal(s)\n",
    "    s = stem(s, stemmer)\n",
    "    return s.strip()"
   ]
  },
  {
   "cell_type": "code",
   "execution_count": 28,
   "metadata": {},
   "outputs": [
    {
     "data": {
      "text/plain": [
       "'autobahn fx <num> rms act develop gds decom fin <num>'"
      ]
     },
     "execution_count": 28,
     "metadata": {},
     "output_type": "execute_result"
    }
   ],
   "source": [
    "example = 'Autobahn-FX 2, &lt;RMS> are now being actively developed; GDS decom will be finished by 2055 or 2056'\n",
    "pre_process(example)"
   ]
  },
  {
   "cell_type": "code",
   "execution_count": 29,
   "metadata": {
    "scrolled": true
   },
   "outputs": [
    {
     "name": "stdout",
     "output_type": "stream",
     "text": [
      "STANDARD OIL &lt;SRD> TO FORM FINANCIAL UNIT \n",
      "\n",
      " Standard Oil Co and BP North America Inc said they plan to form a venture to manage the money market borrowing and investment activities of both companies.     BP North America is a subsidiary of British Petroleum Co Plc &lt;BP>, which also owns a 55 pct interest in Standard Oil.     The venture will be called BP/Standard Financial Trading and will be operated by Standard Oil under the oversight of a joint management committee.   Reuter  \n",
      "\n",
      " standard oil srd form fin unit standard oil co bp nor americ int said plan form vent man money market borrow invest act company bp nor americ subsidy brit petrole co plc bp also own <num> pct interest standard oil vent cal bp standard fin trad op standard oil oversight joint man commit reut\n"
     ]
    }
   ],
   "source": [
    "(title, text) = df.iloc[1][['doc.title', 'doc.text']]\n",
    "print(title, '\\n\\n', text, '\\n\\n', pre_process(title + ' ' + text))"
   ]
  },
  {
   "cell_type": "markdown",
   "metadata": {},
   "source": [
    "#### Get pre-processed text sets"
   ]
  },
  {
   "cell_type": "code",
   "execution_count": 30,
   "metadata": {},
   "outputs": [],
   "source": [
    "def pre_process_df(df):\n",
    "    return df.apply(lambda row : pre_process(row['doc.title'] + ' ' + row['doc.text']), axis = 1).values"
   ]
  },
  {
   "cell_type": "code",
   "execution_count": 31,
   "metadata": {},
   "outputs": [],
   "source": [
    "pre_processed_train = pre_process_df(df_train)"
   ]
  },
  {
   "cell_type": "code",
   "execution_count": 32,
   "metadata": {},
   "outputs": [],
   "source": [
    "pre_processed_test = pre_process_df(df_test)"
   ]
  },
  {
   "cell_type": "markdown",
   "metadata": {},
   "source": [
    "#### Check vocabulary"
   ]
  },
  {
   "cell_type": "code",
   "execution_count": 33,
   "metadata": {},
   "outputs": [],
   "source": [
    "counts_by_word_pre_processed_train = get_counts_by_word(pre_processed_train)"
   ]
  },
  {
   "cell_type": "code",
   "execution_count": 34,
   "metadata": {},
   "outputs": [
    {
     "data": {
      "text/plain": [
       "22687"
      ]
     },
     "execution_count": 34,
     "metadata": {},
     "output_type": "execute_result"
    }
   ],
   "source": [
    "len(counts_by_word_pre_processed_train)"
   ]
  },
  {
   "cell_type": "code",
   "execution_count": 35,
   "metadata": {},
   "outputs": [
    {
     "data": {
      "text/plain": [
       "<matplotlib.axes._subplots.AxesSubplot at 0x7fcabe02f278>"
      ]
     },
     "execution_count": 35,
     "metadata": {},
     "output_type": "execute_result"
    },
    {
     "data": {
      "image/png": "[encoded data removed]",
      "text/plain": [
       "<Figure size 432x288 with 1 Axes>"
      ]
     },
     "metadata": {},
     "output_type": "display_data"
    }
   ],
   "source": [
    "pd.DataFrame(pd.Series(counts_by_word_pre_processed_train, name='count')).sort_values('count', ascending=False).plot()"
   ]
  },
  {
   "cell_type": "code",
   "execution_count": 36,
   "metadata": {},
   "outputs": [],
   "source": [
    "num_words = 10000"
   ]
  },
  {
   "cell_type": "code",
   "execution_count": 37,
   "metadata": {},
   "outputs": [
    {
     "data": {
      "text/html": [
       "<div>\n",
       "<style scoped>\n",
       "    .dataframe tbody tr th:only-of-type {\n",
       "        vertical-align: middle;\n",
       "    }\n",
       "\n",
       "    .dataframe tbody tr th {\n",
       "        vertical-align: top;\n",
       "    }\n",
       "\n",
       "    .dataframe thead th {\n",
       "        text-align: right;\n",
       "    }\n",
       "</style>\n",
       "<table border=\"1\" class=\"dataframe\">\n",
       "  <thead>\n",
       "    <tr style=\"text-align: right;\">\n",
       "      <th></th>\n",
       "      <th>count</th>\n",
       "    </tr>\n",
       "  </thead>\n",
       "  <tbody>\n",
       "    <tr>\n",
       "      <th>reut</th>\n",
       "      <td>13492</td>\n",
       "    </tr>\n",
       "    <tr>\n",
       "      <th>pct</th>\n",
       "      <td>12826</td>\n",
       "    </tr>\n",
       "    <tr>\n",
       "      <th>year</th>\n",
       "      <td>10857</td>\n",
       "    </tr>\n",
       "    <tr>\n",
       "      <th>bank</th>\n",
       "      <td>9528</td>\n",
       "    </tr>\n",
       "    <tr>\n",
       "      <th>vs</th>\n",
       "      <td>9524</td>\n",
       "    </tr>\n",
       "    <tr>\n",
       "      <th>bil</th>\n",
       "      <td>8691</td>\n",
       "    </tr>\n",
       "    <tr>\n",
       "      <th>off</th>\n",
       "      <td>7862</td>\n",
       "    </tr>\n",
       "    <tr>\n",
       "      <th>company</th>\n",
       "      <td>7642</td>\n",
       "    </tr>\n",
       "    <tr>\n",
       "      <th>u</th>\n",
       "      <td>7634</td>\n",
       "    </tr>\n",
       "    <tr>\n",
       "      <th>shar</th>\n",
       "      <td>6896</td>\n",
       "    </tr>\n",
       "    <tr>\n",
       "      <th>would</th>\n",
       "      <td>6196</td>\n",
       "    </tr>\n",
       "    <tr>\n",
       "      <th>int</th>\n",
       "      <td>6101</td>\n",
       "    </tr>\n",
       "    <tr>\n",
       "      <th>cts</th>\n",
       "      <td>6003</td>\n",
       "    </tr>\n",
       "    <tr>\n",
       "      <th>trad</th>\n",
       "      <td>5985</td>\n",
       "    </tr>\n",
       "    <tr>\n",
       "      <th>new</th>\n",
       "      <td>5765</td>\n",
       "    </tr>\n",
       "    <tr>\n",
       "      <th>market</th>\n",
       "      <td>5648</td>\n",
       "    </tr>\n",
       "    <tr>\n",
       "      <th>corp</th>\n",
       "      <td>5544</td>\n",
       "    </tr>\n",
       "    <tr>\n",
       "      <th>pric</th>\n",
       "      <td>5146</td>\n",
       "    </tr>\n",
       "    <tr>\n",
       "      <th>net</th>\n",
       "      <td>4944</td>\n",
       "    </tr>\n",
       "    <tr>\n",
       "      <th>op</th>\n",
       "      <td>4813</td>\n",
       "    </tr>\n",
       "  </tbody>\n",
       "</table>\n",
       "</div>"
      ],
      "text/plain": [
       "         count\n",
       "reut     13492\n",
       "pct      12826\n",
       "year     10857\n",
       "bank      9528\n",
       "vs        9524\n",
       "bil       8691\n",
       "off       7862\n",
       "company   7642\n",
       "u         7634\n",
       "shar      6896\n",
       "would     6196\n",
       "int       6101\n",
       "cts       6003\n",
       "trad      5985\n",
       "new       5765\n",
       "market    5648\n",
       "corp      5544\n",
       "pric      5146\n",
       "net       4944\n",
       "op        4813"
      ]
     },
     "execution_count": 37,
     "metadata": {},
     "output_type": "execute_result"
    }
   ],
   "source": [
    "pd.DataFrame(pd.Series(counts_by_word_pre_processed_train, name='count')).sort_values('count', ascending=False)[4:num_words].head(20)"
   ]
  },
  {
   "cell_type": "code",
   "execution_count": 38,
   "metadata": {},
   "outputs": [
    {
     "data": {
      "text/html": [
       "<div>\n",
       "<style scoped>\n",
       "    .dataframe tbody tr th:only-of-type {\n",
       "        vertical-align: middle;\n",
       "    }\n",
       "\n",
       "    .dataframe tbody tr th {\n",
       "        vertical-align: top;\n",
       "    }\n",
       "\n",
       "    .dataframe thead th {\n",
       "        text-align: right;\n",
       "    }\n",
       "</style>\n",
       "<table border=\"1\" class=\"dataframe\">\n",
       "  <thead>\n",
       "    <tr style=\"text-align: right;\">\n",
       "      <th></th>\n",
       "      <th>count</th>\n",
       "    </tr>\n",
       "  </thead>\n",
       "  <tbody>\n",
       "    <tr>\n",
       "      <th>shrewd</th>\n",
       "      <td>3</td>\n",
       "    </tr>\n",
       "    <tr>\n",
       "      <th>mileston</th>\n",
       "      <td>3</td>\n",
       "    </tr>\n",
       "    <tr>\n",
       "      <th>shrine</th>\n",
       "      <td>3</td>\n",
       "    </tr>\n",
       "    <tr>\n",
       "      <th>mlnm</th>\n",
       "      <td>3</td>\n",
       "    </tr>\n",
       "    <tr>\n",
       "      <th>rlm</th>\n",
       "      <td>3</td>\n",
       "    </tr>\n",
       "  </tbody>\n",
       "</table>\n",
       "</div>"
      ],
      "text/plain": [
       "          count\n",
       "shrewd        3\n",
       "mileston      3\n",
       "shrine        3\n",
       "mlnm          3\n",
       "rlm           3"
      ]
     },
     "execution_count": 38,
     "metadata": {},
     "output_type": "execute_result"
    }
   ],
   "source": [
    "pd.DataFrame(pd.Series(counts_by_word_pre_processed_train, name='count')).sort_values('count', ascending=False)[:num_words].tail()"
   ]
  },
  {
   "cell_type": "code",
   "execution_count": 39,
   "metadata": {},
   "outputs": [
    {
     "name": "stdout",
     "output_type": "stream",
     "text": [
      "10000\n"
     ]
    },
    {
     "data": {
      "text/plain": [
       "['<num>', 'said', 'mln', 'dlrs', 'reut', 'pct', 'year', 'bank', 'vs', 'bil']"
      ]
     },
     "execution_count": 39,
     "metadata": {},
     "output_type": "execute_result"
    }
   ],
   "source": [
    "top_words = list(counts_by_word_pre_processed_train.items())\n",
    "top_words.sort(key = lambda it: it[1])\n",
    "top_words.reverse()\n",
    "top_words = [ word for word, count in top_words[:num_words] ]\n",
    "print(len(top_words))\n",
    "top_words[:10]"
   ]
  },
  {
   "cell_type": "code",
   "execution_count": 40,
   "metadata": {},
   "outputs": [],
   "source": [
    "def replace_rare_words_with_literal(string, top_words):\n",
    "    return ' '.join([ (word if word in top_words else '<unk>') for word in re.split(' ', string) ])"
   ]
  },
  {
   "cell_type": "code",
   "execution_count": 41,
   "metadata": {},
   "outputs": [],
   "source": [
    "pre_processed_train = [ \n",
    "    replace_rare_words_with_literal(doc, top_words) for doc in pre_processed_train\n",
    "]\n",
    "\n",
    "pre_processed_test = [ \n",
    "    replace_rare_words_with_literal(doc, top_words) for doc in pre_processed_test\n",
    "]"
   ]
  },
  {
   "cell_type": "code",
   "execution_count": 42,
   "metadata": {},
   "outputs": [
    {
     "name": "stdout",
     "output_type": "stream",
     "text": [
      "['bah coco review show continu throughout week bah coco zon allevy drought sint ear janu improv prospect com temporao although norm humid level rest comissar smi said week review dry period mean temporao lat year ar week end febru <num> bag <num> kilo mak cum tot season <num> mln <num> stag last year seem coco del ear consign includ ar fig comissar smi said stil doubt much old crop coco stil avail harvest pract com end tot bah crop estim around <num> mln bag sal stand almost <num> mln hundr thousand bag stil hand farm middlem export process doubt much coco would fit export ship expery <unk> obtain bah supery cert view low qual rec week farm sold good part coco held consign comissar smi said spot bean pric ros <num> cruzado per <unk> <num> kilo bean ship reluct off nearby ship limit sal book march ship <num> dlrs per ton port nam new crop sal also light op port jun july going <num> dlrs <num> dlrs new york july aug sept <num> dlrs per ton fob routin sal but mad march april sold <num> dlrs april may but went <num> tim new york may jun july <num> dlrs aug sept <num> dlrs <num> tim new york sept oct dec <num> dlrs <num> tim new york dec comissar smi said destin u covert cur area uruguay op port cak sal reg <num> dlrs march april <num> dlrs may <num> dlrs aug <num> tim new york dec oct dec buy u argentin uruguay convert cur area liqu sal limit march april sel <num> dlrs jun july <num> dlrs <num> tim new york july aug sept <num> dlrs <num> tim new york sept oct dec <num> tim new york dec comissar smi said tot bah sal cur estim <num> mln bag <num> crop <num> mln bag <num> crop fin fig period febru <num> expect publ brazil coco trad commit carn end midday febru <num> reut', 'standard oil srd form fin unit standard oil co bp nor americ int said plan form vent man money market borrow invest act company bp nor americ subsidy brit petrole co plc bp also own <num> pct interest standard oil vent cal bp standard fin trad op standard oil oversight joint man commit reut', 'texa commerc bancsh tcb fil plan texa commerc bancsh int texa commerc bank houston said fil apply comptrol cur effort cre largest bank network har county bank said network would link <num> bank <num> bil dlrs asset <num> bil dlrs deposit reut']\n",
      "\n",
      "['yugoslav work may ang lost subsidy yugoslav govern plan stop subsid loss mak firm ang hundr thousand work western diplom said law propos prim min branko mik goe effect july <num> aim end long stand pract support unprofit company law wag cut impos los enterpr fail recov within six mon grac period fac liquid diplom said mik attempt cre market econom inevit stil com shock <unk> govern subsidy bit pil swallow <unk> tak abrupt may advers effect system western diplom said said law apply strictly would prob provok new wav strikes unrest yugoslav swept strikes last mon follow introduc wag freez law lat amend allow flex exempt polit analyst saw ret mik infl mov toward <num> pct trad un lead ask much depr work tak un lead said work <unk> country already receiv sal limit set ex law oth receiv wag year employ un pay work also complain much incom tak loc stat fed tax many oth los mot work confid govern feel decid mak pow erod trad un off said meanwhil off tanjug new ag report pap cellulos fact <unk> montenegro republ clos yesterday <num> work giv temp leav tanjug said plant run loss <num> year op clos result econom necess rath bankruptcy reut', 'french govern win confid vot french govern expect vot parlia confid sought prim min jacqu chirac gen policy vot chirac <unk> <unk> party juny partn rul coalit cent right udf gav chirac cabinet slim maj nat assembl tot <num> deputy <num> memb assembl vot support chirac <num> vot on memb abs soc commun extrem right nat front vot prim min cal reut', 'as export fear dam u jap rift mount trad frict u jap rais fear among many as export nat row could <unk> far reach econom dam businessm off said told reut correspond as capit u mov jap might boost protect senty u lead curb am import produc export said conflict would hurt long run short term tokyo loss might gain u said impos <num> mln dlrs tariff import japanes electron good april <num> reta jap alleg fail stick pact sel semiconduc world market cost unoff japanes estim put impact tariff <num> bil dlrs spokesm maj electron firm said would virt halt export produc hit new tax abl busy said spokesm lead japanes electron firm matsushit elect indust co ltd mc tariff remain plac leng tim beyond month mean complet erod export good subject tariff u said tom murth stock analyst tokyo off brok jam capel co taiw businessm off also worry aw sery u threat jap serv warn us said seny taiwanes trad off ask nam taiw trad trad surpl <num> bil dlrs last year <num> pct u surpl help swel taiw foreign exchang reserv <num> bil dlrs among world largest must quick op market remov trad barry cut import tariff allow import u produc want defus problem poss u reta said paul <unk> chairm textil export taiw saf group seny off sou kore trad promot assocy said trad disput u jap might also lead press sou kore whos chief export simil jap last year sou kore trad surpl <num> bil dlrs u <num> bil dlrs <num> malays trad off businessm said tough curb jap might allow hard hit produc semiconduc third country expand sal u hong kong newspap alleg jap sel cost semiconduc electron manufact shar view businessm said short term commerc adv would outweigh u press block import short term view said lawr mil direct gen fed hong kong industry whol purpos prev import on day extend sourc much sery hong kong disadv act restrain trad said u last year hong kong biggest export market account <num> pct domest produc export aust govern await outcom trad talk u jap interest concern industry min john <unk> said canberr last friday kind detery trad rel two country maj trad partn sery mat <unk> said said austral concern cent coal beef austral two largest export jap also sign u export country meanwhil u japanes diplom manoeuvr solv trad stand continu jap rul lib democr party yesterday outlin pack econom meas boost japanes econom meas propos includ larg suppl budget record publ work spend first half fin year also cal step spend emerg meas stim econom despit prim min yasuhiro nakason <unk> fisc reform program deputy u trad repres michael smi makoto kurod jap deputy min intern trad industry mit due meet washington week effort end disput reut']\n"
     ]
    }
   ],
   "source": [
    "print(pre_processed_train[:3])\n",
    "print()\n",
    "print(pre_processed_test[:3])"
   ]
  },
  {
   "cell_type": "markdown",
   "metadata": {},
   "source": [
    "### Vectorize text"
   ]
  },
  {
   "cell_type": "code",
   "execution_count": null,
   "metadata": {},
   "outputs": [],
   "source": [
    "vectorizer = TfidfVectorizer(ngram_range = (1, 1))\n",
    "\n",
    "vectorizer.fit(pre_processed_train)\n",
    "\n",
    "X_train = vectorizer.transform(pre_processed_train, copy=True)\n",
    "X_test = vectorizer.transform(pre_processed_test, copy=True)"
   ]
  },
  {
   "cell_type": "code",
   "execution_count": null,
   "metadata": {},
   "outputs": [],
   "source": [
    "X_train.shape"
   ]
  },
  {
   "cell_type": "markdown",
   "metadata": {},
   "source": [
    "### Prepare labels"
   ]
  },
  {
   "cell_type": "code",
   "execution_count": null,
   "metadata": {},
   "outputs": [],
   "source": [
    "def single_label(df):\n",
    "    return df.apply(lambda row : row['topic_list'][0], axis = 1).values"
   ]
  },
  {
   "cell_type": "code",
   "execution_count": null,
   "metadata": {},
   "outputs": [],
   "source": [
    "def binarized(df):\n",
    "    return sparse.csr_matrix(df.apply(lambda row : row['topics_binarized'], axis = 1).values.tolist())"
   ]
  },
  {
   "cell_type": "code",
   "execution_count": null,
   "metadata": {},
   "outputs": [],
   "source": [
    "y_train = single_label(df_train)\n",
    "y_test = single_label(df_test)"
   ]
  },
  {
   "cell_type": "markdown",
   "metadata": {},
   "source": [
    "## Train the model"
   ]
  },
  {
   "cell_type": "code",
   "execution_count": null,
   "metadata": {},
   "outputs": [],
   "source": [
    "# y_train_labels = binarizer.inverse_transform(y_train)"
   ]
  },
  {
   "cell_type": "code",
   "execution_count": null,
   "metadata": {},
   "outputs": [],
   "source": [
    "# clf = MLPClassifier()\n",
    "# clf = MultinomialNB()\n",
    "clf = LogisticRegression(multi_class='multinomial', solver='lbfgs') # accepts array of single labels\n",
    "\n",
    "clf = clf.fit(X_train, y_train)"
   ]
  },
  {
   "cell_type": "markdown",
   "metadata": {},
   "source": [
    "## Check quality"
   ]
  },
  {
   "cell_type": "code",
   "execution_count": null,
   "metadata": {},
   "outputs": [],
   "source": [
    "y_test_predicted_labels = clf.predict(X_test)\n",
    "# y_test_predicted_scores = clf.decision_function(X_test)"
   ]
  },
  {
   "cell_type": "code",
   "execution_count": null,
   "metadata": {},
   "outputs": [],
   "source": [
    "y_test_predicted_labels_binary = binarizer.transform(y_test_predicted_labels.reshape(len(y_test_predicted_labels), 1))\n",
    "y_test_binary = binarizer.transform(y_test.reshape(len(y_test), 1))"
   ]
  },
  {
   "cell_type": "code",
   "execution_count": null,
   "metadata": {},
   "outputs": [],
   "source": [
    "def print_evaluation_scores(y_test, predicted):\n",
    "    print('accuracy', accuracy_score(y_test, predicted))\n",
    "    for avg in [ 'micro', 'macro', 'weighted' ]:\n",
    "        print('f1', avg, f1_score(y_test, predicted, average = avg))\n",
    "        print('precision', avg, average_precision_score(y_test, predicted, average = avg))"
   ]
  },
  {
   "cell_type": "code",
   "execution_count": null,
   "metadata": {},
   "outputs": [],
   "source": [
    "print_evaluation_scores(y_test_binary, y_test_predicted_labels_binary)"
   ]
  },
  {
   "cell_type": "markdown",
   "metadata": {},
   "source": [
    "## Fiddle around with the classifier"
   ]
  },
  {
   "cell_type": "code",
   "execution_count": null,
   "metadata": {},
   "outputs": [],
   "source": [
    "df_test[4:9]"
   ]
  },
  {
   "cell_type": "code",
   "execution_count": null,
   "metadata": {
    "scrolled": true
   },
   "outputs": [],
   "source": [
    "print(df_test.iloc[5]['doc.title'] + '\\n\\n' + df_test.iloc[5]['doc.text'])"
   ]
  },
  {
   "cell_type": "markdown",
   "metadata": {},
   "source": [
    "## Interpreting features"
   ]
  },
  {
   "cell_type": "code",
   "execution_count": null,
   "metadata": {},
   "outputs": [],
   "source": [
    "num_top_features = 10\n",
    "pd.set_option('max_colwidth', 200)\n",
    "pd.DataFrame.from_records(\n",
    "    columns = [ 'topic', 'top_words' ],\n",
    "    data = [ (\n",
    "        cls, \n",
    "        [ vectorizer.get_feature_names()[i] for i in np.argpartition(coefs, -num_top_features)[-num_top_features:] ]\n",
    "    ) for cls, coefs in zip(clf.classes_, clf.coef_) ]\n",
    ")"
   ]
  },
  {
   "cell_type": "markdown",
   "metadata": {},
   "source": [
    "## Try to plot ROC"
   ]
  },
  {
   "cell_type": "code",
   "execution_count": null,
   "metadata": {},
   "outputs": [],
   "source": [
    "# Compute ROC curve and ROC area for each class\n",
    "fpr = dict()\n",
    "tpr = dict()\n",
    "roc_auc = dict()\n",
    "for i in range(n_classes):\n",
    "    fpr[i], tpr[i], _ = roc_curve(y_test_binary[:,i], y_test_predicted_scores[:,i])\n",
    "    roc_auc[i] = auc(fpr[i], tpr[i])\n",
    "\n",
    "# Compute micro-average ROC curve and ROC area\n",
    "fpr[\"micro\"], tpr[\"micro\"], _ = roc_curve(y_test_binary.ravel(), y_test_predicted_scores.ravel())\n",
    "roc_auc[\"micro\"] = auc(fpr[\"micro\"], tpr[\"micro\"])"
   ]
  },
  {
   "cell_type": "code",
   "execution_count": null,
   "metadata": {},
   "outputs": [],
   "source": [
    "# Compute macro-average ROC curve and ROC area\n",
    "\n",
    "# First aggregate all false positive rates\n",
    "all_fpr = np.unique(np.concatenate([fpr[i] for i in range(n_classes)]))\n",
    "\n",
    "# Then interpolate all ROC curves at this points\n",
    "mean_tpr = np.zeros_like(all_fpr)\n",
    "for i in range(n_classes):\n",
    "    mean_tpr += interp(all_fpr, fpr[i], tpr[i])\n",
    "\n",
    "# Finally average it and compute AUC\n",
    "mean_tpr /= n_classes\n",
    "\n",
    "fpr[\"macro\"] = all_fpr\n",
    "tpr[\"macro\"] = mean_tpr\n",
    "roc_auc[\"macro\"] = auc(fpr[\"macro\"], tpr[\"macro\"])"
   ]
  },
  {
   "cell_type": "code",
   "execution_count": null,
   "metadata": {},
   "outputs": [],
   "source": [
    "lw = 2\n",
    "\n",
    "# Plot all ROC curves\n",
    "plt.figure(figsize=(20, 10))\n",
    "plt.plot(fpr[\"micro\"], tpr[\"micro\"],\n",
    "         label='micro-average ROC curve (area = {0:0.2f})'\n",
    "               ''.format(roc_auc[\"micro\"]),\n",
    "         color='deeppink', linestyle=':', linewidth=4)\n",
    "\n",
    "plt.plot(fpr[\"macro\"], tpr[\"macro\"],\n",
    "         label='macro-average ROC curve (area = {0:0.2f})'\n",
    "               ''.format(roc_auc[\"macro\"]),\n",
    "         color='navy', linestyle=':', linewidth=4)\n",
    "\n",
    "colors = cycle(['aqua', 'darkorange', 'cornflowerblue'])\n",
    "for i, color in zip(range(n_classes), colors):\n",
    "    plt.plot(fpr[i], tpr[i], color=color, lw=lw,\n",
    "             label='ROC curve of class {0} (area = {1:0.2f})'\n",
    "             ''.format(i, roc_auc[i]))\n",
    "\n",
    "plt.plot([0, 1], [0, 1], 'k--', lw=lw)\n",
    "plt.xlim([0.0, 1.0])\n",
    "plt.ylim([0.0, 1.05])\n",
    "plt.xlabel('False Positive Rate')\n",
    "plt.ylabel('True Positive Rate')\n",
    "plt.title('Some extension of Receiver operating characteristic to multi-class')\n",
    "plt.legend(loc=\"lower right\")\n",
    "plt.show()"
   ]
  },
  {
   "cell_type": "markdown",
   "metadata": {},
   "source": [
    "# Full Flow"
   ]
  },
  {
   "cell_type": "code",
   "execution_count": null,
   "metadata": {},
   "outputs": [],
   "source": [
    "# PARAMETERS -------------------------------------------------------\n",
    "CASE_NAME = 'CASE_NAME'\n",
    "TOPICS = 'TOPICS'\n",
    "MODEL = 'MODEL'\n",
    "VECTORIZER = 'VECTORIZER'\n",
    "PP_LOWER_CASE = 'PP_LOWER_CASE'\n",
    "PP_FIX_LT = 'PP_FIX_LT'\n",
    "PP_REMOVE_REUTER = 'PP_REMOVE_REUTER'\n",
    "PP_STRIP_PUNCTUATION = 'PP_STRIP_PUNCTUATION'\n",
    "PP_REMOVE_STOP_WORDS = 'PP_REMOVE_STOP_WORDS'\n",
    "PP_COMPACT_WHITESPACE = 'PP_COMPACT_WHITESPACE'\n",
    "PP_NUMERIC = 'PP_NUMERIC'\n",
    "PP_REPLACE_NUMERIC_WITH_LITERAL = 'PP_REPLACE_NUMERIC_WITH_LITERAL'\n",
    "PP_NUMERIC_AS_IS = 'PP_NUMERIC_AS_IS'\n",
    "PP_NUMERIC_DROP = 'PP_NUMERIC_DROP'\n",
    "PP_STEM = 'PP_STEM'\n",
    "PP_STEM_PORTER = 'PP_STEM_PORTER'\n",
    "PP_STEM_LANCASTER = 'PP_STEM_LANCASTER'\n",
    "PP_LEMMATIZE = 'PP_LEMMATIZE'\n",
    "NUM_TOP_WORDS_TO_TAKE = 'NUM_TOP_WORDS_TO_TAKE'\n",
    "RARE_WORDS = 'RARE_WORDS'\n",
    "RARE_WORDS_REPLACE = 'RARE_WORDS_REPLACE'\n",
    "RARE_WORDS_DROP = 'RARE_WORDS_DROP'\n",
    "RARE_WORDS_AS_IS = 'RARE_WORDS_AS_IS'\n",
    "\n",
    "def default_parameters():\n",
    "    return {\n",
    "        CASE_NAME : 'logreg multinomial',\n",
    "        MODEL : LogisticRegression(multi_class='multinomial', solver='lbfgs'), # accepts array of single labels\n",
    "        VECTORIZER : TfidfVectorizer(ngram_range = (1, 1)),\n",
    "        TOPICS : [ 'money.fx', 'crude', 'grain', 'trade', 'interest', ], # classes for single-label multi-class model\n",
    "        PP_LOWER_CASE : True,\n",
    "        PP_FIX_LT : True,\n",
    "        PP_REMOVE_REUTER : True,\n",
    "        PP_STRIP_PUNCTUATION : True,\n",
    "        PP_REMOVE_STOP_WORDS : True,\n",
    "        PP_COMPACT_WHITESPACE : True,\n",
    "        PP_NUMERIC: PP_REPLACE_NUMERIC_WITH_LITERAL, # PP_NUMERIC_DROP # PP_NUMERIC_AS_IS\n",
    "        PP_STEM : PP_STEM_LANCASTER, # PP_STEM_PORTER # PP_STEM_LANCASTER # PP_LEMMATIZE\n",
    "        RARE_WORDS : RARE_WORDS_REPLACE, # RARE_WORDS_DROP\n",
    "        NUM_TOP_WORDS_TO_TAKE : 3000, # top words by count to build vocabulary of\n",
    "    }\n",
    "\n",
    "# LABEL BINARIZATION -----------------------------------------------\n",
    "\n",
    "def topic_list_from_binarized(binarized, topics):\n",
    "    return [ topic for (has, topic) in zip(binarized, topics) if has == 1 ]\n",
    "\n",
    "def single_label(df):\n",
    "    return df.apply(lambda row : row['topic_list'][0], axis = 1).values\n",
    "\n",
    "def binarized(df):\n",
    "    return sparse.csr_matrix(df.apply(lambda row : row['topics_binarized'], axis = 1).values.tolist())\n",
    "\n",
    "# PREPROCESSING ----------------------------------------------------\n",
    "\n",
    "def lower_case(string):\n",
    "    return string.lower()\n",
    "\n",
    "def fix_lt(string):\n",
    "    # fix the HTML-escaped less-than sign\n",
    "    return re.sub(r'&lt;', '<', string)\n",
    "\n",
    "def remove_reuter(string):\n",
    "    # fix the HTML-escaped less-than sign\n",
    "    return re.sub(r'reuter$', '', string)\n",
    "\n",
    "def replace_non_alphanumeric_with_space(string):\n",
    "    # replace punctuation and different whitespace with space character\n",
    "    return re.sub(r'[^a-z0-9 ]', ' ', string)\n",
    "\n",
    "def strip_punctuation(string):\n",
    "    # remove punctuation\n",
    "    return re.sub(r'[^a-z0-9\\s]', ' ', string)\n",
    "\n",
    "def remove_stop_words(string, stop_words):\n",
    "    return ' '.join([ word for word in re.split(' ', string) if not word in stop_words ])\n",
    "\n",
    "def replace_numeric_with_literal(string, literal = '<num> '):\n",
    "    return re.sub(r'([0-9]+ ?)+', literal, string)\n",
    "\n",
    "def compact_whitespace(string):\n",
    "    return re.sub(r'\\s+', ' ', string)\n",
    "\n",
    "def stem(string, stemmer):\n",
    "    return ' '.join([ stemmer.stem(word) for word in re.split(' ', string) if not word in stop_words ])\n",
    "\n",
    "stop_words = stopwords.words('english')\n",
    "\n",
    "def pre_process(params, string):\n",
    "    s = string\n",
    "    if params[PP_LOWER_CASE]:\n",
    "        s = lower_case(string)\n",
    "    if params[PP_FIX_LT]:\n",
    "        s = fix_lt(s)\n",
    "    if params[PP_REMOVE_REUTER]:\n",
    "        s = remove_reuter(s)\n",
    "    if params[PP_STRIP_PUNCTUATION]:\n",
    "        s = strip_punctuation(s)\n",
    "    if params[PP_REMOVE_STOP_WORDS]:\n",
    "        s = remove_stop_words(s, stop_words)\n",
    "    if params[PP_COMPACT_WHITESPACE]:\n",
    "        s = compact_whitespace(s)\n",
    "    if params[PP_NUMERIC] == PP_REPLACE_NUMERIC_WITH_LITERAL:\n",
    "        s = replace_numeric_with_literal(s)\n",
    "    elif params[PP_NUMERIC] == PP_NUMERIC_DROP:\n",
    "        s = replace_numeric_with_literal(s, '')\n",
    "    if params[PP_STEM] == PP_STEM_LANCASTER:\n",
    "        stemmer = LancasterStemmer()\n",
    "        s = stem(s, stemmer)\n",
    "    elif params[PP_STEM] == PP_STEM_PORTER:\n",
    "        stemmer = PorterStemmer()\n",
    "        s = stem(s, stemmer)\n",
    "    elif params[PP_STEM] == PP_LEMMATIZE:\n",
    "        stemmer = WordNetLemmatizer()\n",
    "        s = stem(s, stemmer)\n",
    "    return s.strip()\n",
    "\n",
    "def pre_process_df(params, df):\n",
    "    return df.apply(lambda row : pre_process(params, row['doc.title'] + ' ' + row['doc.text']), axis = 1).values\n",
    "\n",
    "def get_counts_by_word(docs):\n",
    "    word_counts = {}\n",
    "    for doc in docs:\n",
    "        for word in doc.split():\n",
    "            if len(word) > 0:\n",
    "                if word not in word_counts:\n",
    "                    word_counts[word] = 0\n",
    "                word_counts[word] += 1\n",
    "    return word_counts\n",
    "\n",
    "def replace_rare_words_with_literal(string, top_words, literal = '<unk>'):\n",
    "    return ' '.join([ (word if word in top_words else literal) for word in re.split(' ', string) ])\n",
    "\n",
    "# METRICS --------------------------------------------------------\n",
    "\n",
    "def print_evaluation_scores(y_test, predicted):\n",
    "    print('accuracy', accuracy_score(y_test, predicted))\n",
    "    for avg in [ 'micro', 'macro', 'weighted' ]:\n",
    "        print('f1', avg, f1_score(y_test, predicted, average = avg))\n",
    "        print('precision', avg, average_precision_score(y_test, predicted, average = avg))\n",
    "        # 'micro': Calculate metrics globally by counting the total true positives, false negatives and false positives.\n",
    "        # 'macro': Calculate metrics for each label, and find their unweighted mean. This does not take label imbalance into account.\n",
    "        # 'weighted': Calculate metrics for each label, and find their average, weighted by support (the number of true instances for each label). This alters ‘macro’ to account for label imbalance; it can result in an F-score that is not between precision and recall.\n",
    "        \n",
    "# ACTUAL FLOW ----------------------------------------------------\n",
    "\n",
    "def run(params):\n",
    "    print('------------------------------------------------------')\n",
    "    print(time.time())\n",
    "    pprint(params[CASE_NAME])\n",
    "\n",
    "    topics = params[TOPICS]\n",
    "    n_classes = len(topics)\n",
    "    topics_set = set(topics)\n",
    "\n",
    "    # LOAD DATA --------------------------------------------------------\n",
    "    started_loading = time.time()\n",
    "    \n",
    "    reuters_path = '~/dev/rtc/data/text/reuters21578'\n",
    "    # https://raw.githubusercontent.com/ZhibingChen/DM-Reuters21578/master/reutersCSV.csv\n",
    "    csv_df = pd.read_csv(reuters_path + '/reutersCSV.csv', encoding='iso-8859-1', keep_default_na=False)\n",
    "\n",
    "    # ORGANIZE DATA ----------------------------------------------------\n",
    "\n",
    "    # take only what's needed (columns 'topic_list' and 'num_topics' added separately below)\n",
    "    df = csv_df[[ 'pid', 'purpose', 'doc.title', 'doc.text' ]]\n",
    "\n",
    "    # get specified topics\n",
    "    all_topics = [ re.sub('topic\\.', '', col) for col in csv_df.columns if col.startswith('topic.') ]\n",
    "\n",
    "    # store topics for all docs before filtering them according to the specified topics list\n",
    "    all_topics_binary = np.array(csv_df.values[:,3:-3])\n",
    "    topic_lists_long = [ topic_list_from_binarized(binary, all_topics) for binary in all_topics_binary ]\n",
    "    df = df.assign(topic_list = topic_lists_long)\n",
    "    df = df.assign(num_topics = np.array([ len(lst) for lst in topic_lists_long ]))\n",
    "\n",
    "    # keep only docs that have exactly one topic and that is within the specified topics list\n",
    "    df = df[df.apply(\n",
    "        lambda row: row['num_topics'] == 1 and set(row['topic_list']).issubset(topics_set),\n",
    "        axis = 1\n",
    "    )]\n",
    "\n",
    "    # Binarizing labels for API compatibility\n",
    "    # could have taken from CSV with some dataframe wrangling -- in this case\n",
    "    # in general -- a Binarizer may well be needed anyway, so showing it\n",
    "    \n",
    "    binarizer = MultiLabelBinarizer(classes = topics)\n",
    "    topic_lists = df.apply(lambda row : row['topic_list'][0], axis = 1).values.reshape(len(df), 1)\n",
    "    topics_binarized = binarizer.fit_transform(topic_lists)\n",
    "    df = df.assign(topics_binarized = topics_binarized.tolist())\n",
    "    \n",
    "    # train-test split -- as per the dataset markup\n",
    "    df_train = df[df['purpose'] == 'train']\n",
    "    df_test = df[df['purpose'] == 'test']\n",
    "        \n",
    "    # PRE-PROCESS TEXT --------------------------------------------------\n",
    "    started_pre_processing = time.time()\n",
    "\n",
    "    # case, punctuation, stop-words, whitespace etc.\n",
    "    pre_processed_train = pre_process_df(params, df_train)\n",
    "    pre_processed_test = pre_process_df(params, df_test)\n",
    "    \n",
    "    # deal with rare words\n",
    "    if params[NUM_TOP_WORDS_TO_TAKE] > 0:\n",
    "        num_words = params[NUM_TOP_WORDS_TO_TAKE]\n",
    "        counts_by_word = get_counts_by_word(pre_processed_train)\n",
    "        top_words = list(counts_by_word.items())\n",
    "        top_words.sort(key = lambda it: it[1])\n",
    "        top_words.reverse()\n",
    "        top_words = [ word for word, count in top_words[:num_words] ]\n",
    "        if params[RARE_WORDS] == RARE_WORDS_REPLACE:\n",
    "            pre_processed_train = [ replace_rare_words_with_literal(doc, top_words) for doc in pre_processed_train ]\n",
    "            pre_processed_test = [ replace_rare_words_with_literal(doc, top_words) for doc in pre_processed_test ]\n",
    "        elif params[RARE_WORDS] == RARE_WORDS_DROP:\n",
    "            pre_processed_train = [ replace_rare_words_with_literal(doc, top_words, '') for doc in pre_processed_train ]\n",
    "            pre_processed_test = [ replace_rare_words_with_literal(doc, top_words, '') for doc in pre_processed_test ]\n",
    "\n",
    "    # CREATE FEATURE REPRESENTATION AND LABELS ---------------------------\n",
    "    started_vectorizing = time.time()\n",
    "\n",
    "    vectorizer = params[VECTORIZER]\n",
    "\n",
    "    vectorizer.fit(pre_processed_train)\n",
    "\n",
    "    X_train = vectorizer.transform(pre_processed_train)\n",
    "    X_test = vectorizer.transform(pre_processed_test)\n",
    "\n",
    "    y_train = single_label(df_train)\n",
    "    y_test = single_label(df_test)\n",
    "    # y_train_labels = binarizer.inverse_transform(y_train)\n",
    "\n",
    "    # TRAIN THE MODEL ----------------------------------------------------\n",
    "    started_training = time.time()\n",
    "\n",
    "    clf = params[MODEL]\n",
    "\n",
    "    clf = clf.fit(X_train, y_train)\n",
    "\n",
    "    # CHECK METRICS ------------------------------------------------------\n",
    "    started_checking_metrics = time.time()\n",
    "\n",
    "    y_test_predicted_labels = clf.predict(X_test)\n",
    "\n",
    "    try:\n",
    "        # binarize for metrics calculation\n",
    "        y_test_predicted_labels_binary = binarizer.transform(y_test_predicted_labels.reshape(len(y_test_predicted_labels), 1))\n",
    "        y_test_binary = binarizer.transform(y_test.reshape(len(y_test), 1))\n",
    "\n",
    "        # print most important features\n",
    "        if (hasattr(clf, 'coef_')):\n",
    "            num_top_features = 10\n",
    "            top_features = pd.DataFrame.from_records(\n",
    "                columns = [ 'topic', 'top_words' ],\n",
    "                data = [ (\n",
    "                    cls, \n",
    "                    [ vectorizer.get_feature_names()[i] for i in np.argpartition(coefs, -num_top_features)[-num_top_features:] ]\n",
    "                ) for cls, coefs in zip(clf.classes_, clf.coef_) ]\n",
    "            )\n",
    "            top_features.head()\n",
    "\n",
    "        # print metrics\n",
    "        started_rendering_metrics = time.time()\n",
    "        print_evaluation_scores(y_test_binary, y_test_predicted_labels_binary)\n",
    "\n",
    "        done = time.time()\n",
    "        print('timing:')\n",
    "        print(\n",
    "            'done in', done - started_loading, '(',\n",
    "            'loading:', started_pre_processing - started_loading,\n",
    "            ', pre-processing:', started_vectorizing - started_pre_processing,\n",
    "            ', vectorizing:', started_training - started_vectorizing,\n",
    "            ', training:', started_checking_metrics - started_training,\n",
    "            ', checking metrics', started_rendering_metrics - started_checking_metrics,\n",
    "            ', rendering metrics', done - started_rendering_metrics,\n",
    "            ')'    \n",
    "        )\n",
    "    except:\n",
    "        print(\"Could not calculate metrics:\", sys.exc_info())\n"
   ]
  },
  {
   "cell_type": "code",
   "execution_count": null,
   "metadata": {},
   "outputs": [],
   "source": [
    "params = default_parameters()\n",
    "\n",
    "run(params)"
   ]
  },
  {
   "cell_type": "code",
   "execution_count": null,
   "metadata": {
    "scrolled": false
   },
   "outputs": [],
   "source": [
    "for pp_remove_reuter in [ True, False ]:\n",
    "    for pp_fix_lt in [ True, False ]:\n",
    "        for pp_lower_case in [ True, False ]:\n",
    "            for pp_strip_punctuation in [ True, False ]:\n",
    "                for pp_remove_stop_words in [ True, False ]:\n",
    "                    for pp_compact_whitespace in [ True ]: # , False ]:\n",
    "                        for pp_numeric in [ PP_REPLACE_NUMERIC_WITH_LITERAL, PP_NUMERIC_DROP, PP_NUMERIC_AS_IS ]:\n",
    "                            for pp_stem in [ PP_STEM_LANCASTER, PP_STEM_PORTER ]: #, PP_LEMMATIZE ]:\n",
    "                                for num_top_words_to_take in [ -1, 3000, 6000, 12000 ]:\n",
    "                                    for rare_words in ([ RARE_WORDS_REPLACE, RARE_WORDS_DROP ] if num_top_words_to_take > 0 else [ RARE_WORDS_AS_IS ]):\n",
    "                                        for vectorizer in [\n",
    "                                            CountVectorizer(),\n",
    "                                            TfidfVectorizer(ngram_range = (1, 1)),\n",
    "                                            TfidfVectorizer(ngram_range = (1, 2)),\n",
    "                                            TfidfVectorizer(ngram_range = (1, 3)),\n",
    "                                        ]:\n",
    "                                            for case_name, model in [\n",
    "                                                (\"MLPClassifier(alpha=1, max_iter=500)\", MLPClassifier(alpha=1, max_iter=500)),\n",
    "                                                (\"LogisticRegression(multi_class='multinomial', solver='lbfgs')\", LogisticRegression(multi_class='multinomial', solver='lbfgs')),\n",
    "                                                (\"MultinomialNB()\", MultinomialNB()),\n",
    "                                                (\"KNeighborsClassifier(15)\", KNeighborsClassifier(15)),\n",
    "                                                (\"SVC(kernel='linear', C=0.025)\", SVC(kernel='linear', C=0.025)),\n",
    "                                                (\"SVC(gamma=2, C=1)\", SVC(gamma=2, C=1)),\n",
    "                                                (\"DecisionTreeClassifier(max_depth=50)\", DecisionTreeClassifier(max_depth=50)),\n",
    "                                                (\"RandomForestClassifier(max_depth=50, n_estimators=1000, max_features=1)\", RandomForestClassifier(max_depth=50, n_estimators=1000, max_features=1)),\n",
    "                                                (\"GaussianNB()\", GaussianNB()),\n",
    "                                            ]:\n",
    "                                                params = {\n",
    "                                                    MODEL : model,\n",
    "                                                    VECTORIZER : vectorizer,\n",
    "                                                    TOPICS : [ 'money.fx', 'crude', 'grain', 'trade', 'interest', ],\n",
    "                                                    PP_LOWER_CASE : pp_lower_case,\n",
    "                                                    PP_FIX_LT : pp_fix_lt,\n",
    "                                                    PP_REMOVE_REUTER : pp_remove_reuter,\n",
    "                                                    PP_STRIP_PUNCTUATION : pp_strip_punctuation,\n",
    "                                                    PP_REMOVE_STOP_WORDS : pp_remove_stop_words,\n",
    "                                                    PP_COMPACT_WHITESPACE : pp_compact_whitespace,\n",
    "                                                    PP_NUMERIC: pp_numeric,\n",
    "                                                    PP_STEM : pp_stem,\n",
    "                                                    RARE_WORDS : rare_words,\n",
    "                                                    NUM_TOP_WORDS_TO_TAKE : num_top_words_to_take,\n",
    "                                                }\n",
    "                                                params[CASE_NAME] = case_name + ': {0}'.format(params),\n",
    "                                                run(params)                            "
   ]
  },
  {
   "cell_type": "code",
   "execution_count": null,
   "metadata": {},
   "outputs": [],
   "source": []
  }
 ],
 "metadata": {
  "kernelspec": {
   "display_name": "Python 3",
   "language": "python",
   "name": "python3"
  },
  "language_info": {
   "codemirror_mode": {
    "name": "ipython",
    "version": 3
   },
   "file_extension": ".py",
   "mimetype": "text/x-python",
   "name": "python",
   "nbconvert_exporter": "python",
   "pygments_lexer": "ipython3",
   "version": "3.5.2"
  }
 },
 "nbformat": 4,
 "nbformat_minor": 2
}
